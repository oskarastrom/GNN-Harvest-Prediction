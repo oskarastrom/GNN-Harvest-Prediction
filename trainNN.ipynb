{
 "cells": [
  {
   "cell_type": "code",
   "execution_count": null,
   "metadata": {},
   "outputs": [
    {
     "name": "stderr",
     "output_type": "stream",
     "text": [
      "/tmp/ipykernel_13427/3764464123.py:12: DeprecationWarning: Please use `gaussian_filter` from the `scipy.ndimage` namespace, the `scipy.ndimage.filters` namespace is deprecated.\n",
      "  from scipy.ndimage.filters import gaussian_filter\n",
      "2024-12-05 10:59:30.970524: I tensorflow/core/util/port.cc:113] oneDNN custom operations are on. You may see slightly different numerical results due to floating-point round-off errors from different computation orders. To turn them off, set the environment variable `TF_ENABLE_ONEDNN_OPTS=0`.\n",
      "2024-12-05 10:59:30.995459: I tensorflow/core/platform/cpu_feature_guard.cc:210] This TensorFlow binary is optimized to use available CPU instructions in performance-critical operations.\n",
      "To enable the following instructions: AVX2 AVX_VNNI FMA, in other operations, rebuild TensorFlow with the appropriate compiler flags.\n",
      "2024-12-05 10:59:31.449245: W tensorflow/compiler/tf2tensorrt/utils/py_utils.cc:38] TF-TRT Warning: Could not find TensorRT\n"
     ]
    },
    {
     "data": {
      "text/plain": [
       "'2.16.1'"
      ]
     },
     "execution_count": 1,
     "metadata": {},
     "output_type": "execute_result"
    }
   ],
   "source": [
    "import pandas as pd\n",
    "import matplotlib.pyplot as plt\n",
    "import plotly.express as px\n",
    "import numpy as np\n",
    "import seaborn as sns\n",
    "import math\n",
    "from IPython.display import Markdown, display\n",
    "import importlib\n",
    "import json\n",
    "from tabulate import tabulate\n",
    "import colorsys\n",
    "from scipy.ndimage.filters import gaussian_filter\n",
    "import sklearn\n",
    "import matplotlib\n",
    "import xgboost as xgb\n",
    "import random\n",
    "from tqdm import tqdm as tqdm\n",
    "\n",
    "\n",
    "import torch\n",
    "import torch.nn as nn\n",
    "import torch.nn.functional as F\n",
    "import torch.optim as optim\n",
    "\n",
    "import src.cropnet as cropnet\n",
    "\n",
    "\n",
    "import tensorflow as tf\n",
    "from tensorflow import keras\n",
    "from tensorflow.keras import layers\n",
    "\n",
    "def printmd(string):\n",
    "    display(Markdown(string))\n",
    "    \n",
    "import tensorflow as tf\n",
    "tf.version.VERSION"
   ]
  },
  {
   "cell_type": "code",
   "execution_count": 2,
   "metadata": {},
   "outputs": [
    {
     "name": "stdout",
     "output_type": "stream",
     "text": [
      "cuda:0\n"
     ]
    }
   ],
   "source": [
    "device = torch.device('cuda:0' if torch.cuda.is_available() else 'cpu')\n",
    "\n",
    "# Assuming that we are on a CUDA machine, this should print a CUDA device:\n",
    "\n",
    "print(device)"
   ]
  },
  {
   "cell_type": "code",
   "execution_count": 3,
   "metadata": {},
   "outputs": [],
   "source": [
    "path = \"data/full_data/processed/processed_merged.feather\"\n",
    "df = pd.read_feather(path)\n",
    "f = open(path.replace(\".feather\", \".json\"), \"r\")\n",
    "correlation_filters = json.load(f)\n",
    "f.close()\n",
    "if 'level_0' in df.columns:\n",
    "    df = df.drop(columns=['level_0'])\n",
    "df = df.reset_index()\n",
    "if 'level_0' in df.columns:\n",
    "    df = df.drop(columns=['level_0'])\n",
    "\n",
    "df = df[np.isnan(df['yield']) == False]"
   ]
  },
  {
   "cell_type": "code",
   "execution_count": 11,
   "metadata": {},
   "outputs": [],
   "source": [
    "target = 'yield_1'\n",
    "predictors = [c for c in correlation_filters['base'] if c not in ['index', 'x', 'y', 'x_int', 'y_int', 'polygon_id', 'grdkod_mar', 'year'] and \"yield\" not in c and \"_pid\" not in c]\n"
   ]
  },
  {
   "cell_type": "code",
   "execution_count": 12,
   "metadata": {},
   "outputs": [],
   "source": [
    "\n",
    "mX = np.mean(df[predictors], axis=0)\n",
    "sX = np.std(df[predictors], axis=0)\n",
    "sX[sX == 0] = 1\n",
    "\n",
    "mY = np.mean(df[target], axis=0)\n",
    "sY = np.std(df[target], axis=0)\n",
    "\n",
    "norm_info = {\n",
    "    'X': {'mean': mX, 'std': sX},\n",
    "    'y': {'mean': mY, 'std': sY}\n",
    "}\n"
   ]
  },
  {
   "cell_type": "code",
   "execution_count": 13,
   "metadata": {},
   "outputs": [
    {
     "name": "stderr",
     "output_type": "stream",
     "text": [
      "100%|██████████| 152/152 [00:06<00:00, 22.60it/s]\n"
     ]
    }
   ],
   "source": [
    "\n",
    "dataset = []\n",
    "for pid in tqdm(set( df['matching_pid'])):\n",
    "    pdf = df[df['matching_pid'] == pid]\n",
    "    X = torch.tensor(((pdf.loc[df['matching_pid'] == pid, predictors]-mX)/sX).values, device=device, dtype=torch.float)\n",
    "    y = torch.tensor(((pdf.loc[df['matching_pid'] == pid, target]-mY)/sY).values.reshape((-1, 1)), device=device, dtype=torch.float)\n",
    "    info = {\n",
    "        'x': pdf.x.values,\n",
    "        'y': pdf.y.values,\n",
    "        'pid': pid\n",
    "    }\n",
    "    dataset.append((X, y, info))"
   ]
  },
  {
   "cell_type": "code",
   "execution_count": 14,
   "metadata": {},
   "outputs": [],
   "source": [
    "def split_data(dataset, p_val, p_test, seed=-1):\n",
    "    \n",
    "    N = np.sum([X.shape[0] for X, y, info in dataset])\n",
    "    rem = [data for data in dataset]\n",
    "    \n",
    "    data_val = []\n",
    "    val_size = 0\n",
    "    while val_size/N < p_val:\n",
    "        idx = random.choice(range(len(rem)))\n",
    "        data = rem.pop(idx)\n",
    "        data_val.append(data)\n",
    "        val_size += data[0].shape[0]\n",
    "        \n",
    "        \n",
    "    data_test = []\n",
    "    test_size = 0\n",
    "    while test_size/N < p_test:\n",
    "        idx = random.choice(range(len(rem)))\n",
    "        data = rem.pop(idx)\n",
    "        data_test.append(data)\n",
    "        test_size += data[0].shape[0]\n",
    "        \n",
    "    return rem, data_val, data_test\n"
   ]
  },
  {
   "cell_type": "code",
   "execution_count": 18,
   "metadata": {},
   "outputs": [],
   "source": [
    "class Pointwize(torch.nn.Module):\n",
    "    def __init__(self, sizes, dropout=0.0):\n",
    "        super(Pointwize, self).__init__()\n",
    "\n",
    "        layers = []\n",
    "        for i in range(len(sizes)-1):\n",
    "            layers.append(\n",
    "                nn.Linear(sizes[i], sizes[i+1])  \n",
    "            )\n",
    "\n",
    "        self.layers = torch.nn.ModuleList(layers[:-1])\n",
    "        self.output = layers[-1]\n",
    "\n",
    "    def forward(self, data):\n",
    "        x = data\n",
    "        for layer in self.layers:\n",
    "            x = layer(x)\n",
    "            x = torch.relu(x)\n",
    "        x = self.output(x)\n",
    "        return x"
   ]
  },
  {
   "cell_type": "code",
   "execution_count": 19,
   "metadata": {},
   "outputs": [],
   "source": [
    "\n",
    "\n",
    "def run_model(model, data_train, data_val, data_test, epochs=100, lr=0.001):\n",
    "    \n",
    "\n",
    "    history = {\n",
    "        'train': [],\n",
    "        'val': [],\n",
    "        'test': []\n",
    "    }\n",
    "\n",
    "\n",
    "    optimizer = torch.optim.Adam(model.parameters(), lr=lr)\n",
    "    criterion = torch.nn.MSELoss()\n",
    "\n",
    "    scores = {}\n",
    "    top_score = 10000\n",
    "\n",
    "    # Training loop\n",
    "    model.train()\n",
    "\n",
    "    pbar = tqdm(range(epochs))\n",
    "    for epoch in pbar:\n",
    "        \n",
    "        random.shuffle(data_train)\n",
    "        err = np.zeros(0)\n",
    "        total_los = []\n",
    "        for X, y, info in data_train:\n",
    "            optimizer.zero_grad()\n",
    "            pred = model(X)\n",
    "            y_cpu = y.clone().cpu().detach().numpy()\n",
    "            pred_cpu = pred.clone().cpu().detach().numpy()\n",
    "            y_gpu = torch.tensor(y_cpu).to(device)\n",
    "            loss = criterion(pred, y_gpu)\n",
    "            loss.backward()\n",
    "            total_los.append(loss.item())\n",
    "            optimizer.step()\n",
    "            err = np.concatenate([err, cropnet.eval_error(pred, y, info, norm_info)])\n",
    "        train_rmse = np.sqrt(np.nanmean(err**2))\n",
    "        history['train'].append(train_rmse)\n",
    "\n",
    "        optimizer.zero_grad()\n",
    "\n",
    "        val_rmse, val_err = cropnet.eval_dataset(data_val, model, norm_info)\n",
    "        #val_err = val_err - np.nanmean(val_err)\n",
    "        history['val'].append(val_rmse)\n",
    "        val_acc10 = np.mean((np.abs(val_err) < 1)[np.isnan(val_err) == False])\n",
    "        metric = val_rmse\n",
    "            \n",
    "        test_rmse, test_err = cropnet.eval_dataset(data_test, model, norm_info)\n",
    "        #test_err = test_err - np.nanmean(test_err)\n",
    "        #test_rmse = np.sqrt(np.nanmean(test_err**2))\n",
    "        history['test'].append(test_rmse)\n",
    "        acc5 = np.mean((np.abs(test_err) < 0.5)[np.isnan(test_err) == False])\n",
    "        acc10 = np.mean((np.abs(test_err) < 1)[np.isnan(test_err) == False])\n",
    "        acc20 = np.mean((np.abs(test_err) < 2)[np.isnan(test_err) == False])\n",
    "\n",
    "        if metric < top_score:\n",
    "            top_score = metric\n",
    "            torch.save(model, \"/\".join([\"models\", \"current.pth\"]))\n",
    "            scores = {\n",
    "                'test_rmse': test_rmse,\n",
    "                'test_acc_0.5': acc5,\n",
    "                'test_acc_1.0': acc10, \n",
    "                'test_acc_2.0': acc20,\n",
    "                'test_rel_rmse': test_rmse/norm_info['y']['mean'],\n",
    "            }\n",
    "\n",
    "        pbar.set_description(f'Loss: {np.round(np.mean(total_los), 3)}, train rmse: {np.round(train_rmse, 3)}, val rmse: {np.round(val_rmse, 3)}, test rmse: {np.round(test_rmse, 3)}, top: [{np.round(metric, 3)} >= {np.round(top_score, 3)} {[np.round(scores[s], 3) for s in scores]}]')\n",
    "\n",
    "    model = torch.load(\"models/current.pth\")\n",
    "    return model"
   ]
  },
  {
   "cell_type": "code",
   "execution_count": 23,
   "metadata": {},
   "outputs": [
    {
     "name": "stderr",
     "output_type": "stream",
     "text": [
      "Loss: 0.131, train rmse: 0.821, val rmse: 1.179, test rmse: 1.069, top: [1.179 >= 1.145 [1.094, 0.424, 0.678, 0.933, 0.133]]: 100%|██████████| 100/100 [00:05<00:00, 18.60it/s]\n",
      "Loss: 0.149, train rmse: 0.906, val rmse: 1.06, test rmse: 0.917, top: [1.06 >= 0.968 [0.876, 0.527, 0.81, 0.965, 0.106]]: 100%|██████████| 100/100 [00:05<00:00, 18.31it/s]  \n",
      "Loss: 0.143, train rmse: 0.89, val rmse: 1.086, test rmse: 0.995, top: [1.086 >= 1.044 [0.976, 0.495, 0.762, 0.946, 0.118]]: 100%|██████████| 100/100 [00:05<00:00, 18.78it/s]\n",
      "Loss: 0.146, train rmse: 0.877, val rmse: 1.155, test rmse: 0.952, top: [1.155 >= 1.116 [0.948, 0.401, 0.725, 0.963, 0.115]]: 100%|██████████| 100/100 [00:04<00:00, 20.20it/s]\n",
      "Loss: 0.133, train rmse: 0.857, val rmse: 1.142, test rmse: 1.022, top: [1.142 >= 1.122 [1.017, 0.381, 0.716, 0.954, 0.123]]: 100%|██████████| 100/100 [00:05<00:00, 19.54it/s]\n",
      "Loss: 0.133, train rmse: 0.813, val rmse: 1.288, test rmse: 1.104, top: [1.288 >= 1.174 [1.239, 0.342, 0.631, 0.895, 0.15]]: 100%|██████████| 100/100 [00:05<00:00, 16.91it/s]\n",
      "Loss: 0.146, train rmse: 0.871, val rmse: 1.202, test rmse: 0.936, top: [1.202 >= 1.154 [0.914, 0.499, 0.796, 0.961, 0.111]]: 100%|██████████| 100/100 [00:05<00:00, 17.54it/s]\n",
      "Loss: 0.151, train rmse: 0.918, val rmse: 0.928, test rmse: 0.945, top: [0.928 >= 0.903 [0.921, 0.477, 0.758, 0.963, 0.112]]: 100%|██████████| 100/100 [00:05<00:00, 18.17it/s]\n",
      "Loss: 0.159, train rmse: 0.916, val rmse: 1.002, test rmse: 1.028, top: [1.002 >= 0.894 [0.988, 0.465, 0.742, 0.954, 0.12]]: 100%|██████████| 100/100 [00:05<00:00, 19.48it/s]\n",
      "Loss: 0.146, train rmse: 0.887, val rmse: 1.04, test rmse: 1.073, top: [1.04 >= 0.882 [1.126, 0.345, 0.656, 0.934, 0.136]]: 100%|██████████| 100/100 [00:05<00:00, 17.78it/s] \n"
     ]
    }
   ],
   "source": [
    "import random\n",
    "epochs = 100\n",
    "\n",
    "score_list = []\n",
    "for i in range(10):\n",
    "    data_train, data_val, data_test = split_data(dataset, 0.15, 0.15)\n",
    "    M = dataset[0][0].shape[1]\n",
    "    model = Pointwize([M, M//4, 64, 1])\n",
    "    model.to(device)\n",
    "    model = run_model(model, data_train, data_val, data_test, epochs=100, lr=0.0001)\n",
    "\n",
    "    y_tot = np.zeros(0)\n",
    "    y_pred = np.zeros(0)\n",
    "    test_err = np.zeros(0)\n",
    "    test_err_norm = np.zeros(0)\n",
    "    pids = np.zeros(0)\n",
    "    for X, y, info in data_test:\n",
    "        pred = model(X)\n",
    "        \n",
    "        yp = pred.cpu().detach().numpy().reshape(-1)\n",
    "        yt = y.cpu().detach().numpy().reshape(-1)\n",
    "        err = (yt - yp)*norm_info['y']['std']\n",
    "        \n",
    "        y_tot = np.concatenate([y_tot, yt])\n",
    "        y_pred = np.concatenate([y_pred, yp])\n",
    "        test_err = np.concatenate([test_err, err])\n",
    "        test_err_norm = np.concatenate([test_err_norm, err - np.nanmean(err)])\n",
    "        pids = np.concatenate([pids, np.ones(err.shape)*info['pid']])\n",
    "        \n",
    "    y_tot = y_tot*norm_info['y']['std'] + norm_info['y']['mean']\n",
    "    scores_unnorm = [np.sqrt(np.nanmean(test_err**2)), np.nanmean((np.abs(test_err) < 1)[np.isnan(test_err) == False]), np.nanmean(np.abs(test_err/y_tot)), 1-np.sum(test_err**2)/np.sum((y_tot-np.mean(y_tot))**2)]\n",
    "    scores_norm = [np.sqrt(np.nanmean(test_err_norm**2)), np.nanmean((np.abs(test_err_norm) < 1)[np.isnan(test_err_norm) == False]), np.nanmean(np.abs(test_err_norm/y_tot)), 1-np.sum(test_err_norm**2)/np.sum((y_tot-np.mean(y_tot))**2)]\n",
    "    result = [scores_unnorm, scores_norm, [list(y_tot), list(y_pred), list(test_err), list(test_err_norm), list(pids)]]\n",
    "    score_list.append(result)\n",
    "\n",
    "\n",
    "cropnet.save_score_to_json(score_list, \"results_final/other_models/pointwize.json\")"
   ]
  }
 ],
 "metadata": {
  "kernelspec": {
   "display_name": "Python 3",
   "language": "python",
   "name": "python3"
  },
  "language_info": {
   "codemirror_mode": {
    "name": "ipython",
    "version": 3
   },
   "file_extension": ".py",
   "mimetype": "text/x-python",
   "name": "python",
   "nbconvert_exporter": "python",
   "pygments_lexer": "ipython3",
   "version": "3.12.0"
  }
 },
 "nbformat": 4,
 "nbformat_minor": 2
}
