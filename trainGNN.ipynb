{
 "cells": [
  {
   "cell_type": "code",
   "execution_count": null,
   "metadata": {},
   "outputs": [
    {
     "name": "stderr",
     "output_type": "stream",
     "text": [
      "2025-04-10 11:52:49.062887: I tensorflow/core/util/port.cc:113] oneDNN custom operations are on. You may see slightly different numerical results due to floating-point round-off errors from different computation orders. To turn them off, set the environment variable `TF_ENABLE_ONEDNN_OPTS=0`.\n",
      "2025-04-10 11:52:51.087294: I tensorflow/core/platform/cpu_feature_guard.cc:210] This TensorFlow binary is optimized to use available CPU instructions in performance-critical operations.\n",
      "To enable the following instructions: AVX2 AVX_VNNI FMA, in other operations, rebuild TensorFlow with the appropriate compiler flags.\n",
      "2025-04-10 11:52:53.305481: W tensorflow/compiler/tf2tensorrt/utils/py_utils.cc:38] TF-TRT Warning: Could not find TensorRT\n"
     ]
    },
    {
     "data": {
      "text/plain": [
       "<module 'cropnet' from '/home/oskar/Documents/Jupyter/Sentinel/cropnet.py'>"
      ]
     },
     "execution_count": 1,
     "metadata": {},
     "output_type": "execute_result"
    }
   ],
   "source": [
    "# Standard libraries\n",
    "import os\n",
    "\n",
    "import numpy as np\n",
    "import pandas as pd\n",
    "import geopandas as gpd\n",
    "from matplotlib import pyplot as plt\n",
    "from tqdm import tqdm\n",
    "from tqdm import notebook as tqdm_notebook\n",
    "import seaborn as sns\n",
    "from IPython.display import Markdown, display\n",
    "import json\n",
    "from datetime import datetime\n",
    "import random\n",
    "\n",
    "# For downloading pre-trained models\n",
    "import urllib.request\n",
    "from urllib.error import HTTPError\n",
    "\n",
    "# PyTorch Lightning\n",
    "import pytorch_lightning as pl\n",
    "\n",
    "# PyTorch\n",
    "import torch\n",
    "import torch.nn as nn\n",
    "import torch.nn.functional as F\n",
    "import torch.optim as optim\n",
    "\n",
    "# PyTorch geometric\n",
    "import torch_geometric\n",
    "import torch_geometric.data as geom_data\n",
    "import torch_geometric.nn as geom_nn\n",
    "\n",
    "# PL callbacks\n",
    "from pytorch_lightning.callbacks import ModelCheckpoint\n",
    "from torch import Tensor\n",
    "\n",
    "import src.cropnet as cropnet"
   ]
  },
  {
   "cell_type": "code",
   "execution_count": 2,
   "metadata": {},
   "outputs": [
    {
     "name": "stdout",
     "output_type": "stream",
     "text": [
      "cuda:0\n"
     ]
    }
   ],
   "source": [
    "device = torch.device('cuda:0' if torch.cuda.is_available() else 'cpu')\n",
    "\n",
    "# Assuming that we are on a CUDA machine, this should print a CUDA device:\n",
    "\n",
    "print(device)"
   ]
  },
  {
   "cell_type": "code",
   "execution_count": 3,
   "metadata": {},
   "outputs": [],
   "source": [
    "def gen_option(p_val=0.15, p_test=0.15, layer_sizes=lambda M: [M, M//2, 64, 1], seed=0, dropout=0.0, epochs=200, lr_schedule=None, pred_var=False):\n",
    "    return {\n",
    "        'p_val': p_val,\n",
    "        'p_test': p_test,\n",
    "        'layer_sizes': layer_sizes,\n",
    "        'seed': seed,\n",
    "        'dropout': dropout,\n",
    "        'epochs': epochs,\n",
    "        'lr_schedule': lr_schedule,\n",
    "        'pred_var': pred_var,\n",
    "    }"
   ]
  },
  {
   "cell_type": "code",
   "execution_count": 15,
   "metadata": {},
   "outputs": [],
   "source": [
    "def get_dataset(path, config):\n",
    "    df, correlation_filters = cropnet.load_data(path, filter_yield=config['filter_yield'], filter_wheat=config['filter_wheat'], filter_years=config['filter_years'], df=config['df'], correlation_filters=config['correlation_filters'])\n",
    "\n",
    "\n",
    "    if config['target'] is not None:\n",
    "        target = config['target']\n",
    "    else:\n",
    "        target = 'yield_1'\n",
    "\n",
    "    \n",
    "    if config['predictors'] is not None:\n",
    "        predictors = config['predictors']\n",
    "    else:\n",
    "        predictors = [c for c in df.columns if c not in ['index', 'x', 'y', 'x_int', 'y_int', 'polygon_id', 'year', 'grdkod_mar'] and \"yield\" not in c and \"_pid\" not in c]\n",
    "\n",
    "    if config['filter_weeks'] is not None:\n",
    "        predictors = [p for p in predictors if (not p.startswith(\"week\")) or (int(p.split(\"_\")[1]) == config['filter_weeks'])]\n",
    "\n",
    "    norm_info = cropnet.get_norm_info(df, target, predictors)\n",
    "\n",
    "    if config['type'] == 'futurum':\n",
    "        dataset = cropnet.create_futurum_dataset(df, target, predictors, config['target_year'], config['pred_years'], norm_info, device, dist_thresh=config['dist_thresh'], sparsity_thresh=config['sparsity_thresh'])\n",
    "    else:\n",
    "        if config['time_scheme'] == 'concat':\n",
    "            dataset = []\n",
    "            for i in range(2017+1, 2022):\n",
    "                dataset += cropnet.create_futurum_dataset_2(df, target, predictors, i, [i-1,i], norm_info, device, dist_thresh=config['dist_thresh'], sparsity_thresh=config['sparsity_thresh'])\n",
    "        else:\n",
    "            dataset, skipped = cropnet.create_present_dataset(df, target, predictors, norm_info, device, dist_thresh=config['dist_thresh'], time_scheme=config['time_scheme'], size_thresh=config['size_thresh'], sparsity_thresh=config['sparsity_thresh'])\n",
    "        \n",
    "    M = dataset[1][0].x.shape[1]\n",
    "    print(\"Number of features:\", M)\n",
    "    print(\"Number of fields:\", len(dataset))\n",
    "    print(\"Number of points (field 0):\", len(dataset[0][0].x))\n",
    "    print(\"Number of connections (field 0):\", len(dataset[0][0].edge_index[0]))\n",
    "    \n",
    "    return dataset, norm_info"
   ]
  },
  {
   "cell_type": "code",
   "execution_count": 31,
   "metadata": {},
   "outputs": [],
   "source": [
    "\n",
    "def run_model(p_val, p_test, dataset, norm_info, device, layer_sizes, seed=None, pred_var=False, lr_schedule=None, dropout=0.0, epochs=200, loss_function=cropnet.Loss_MSE):\n",
    "    \n",
    "    if seed is not None: \n",
    "        print(\"Setting seed:\", seed)\n",
    "        np.random.seed(seed)\n",
    "        random.seed(seed)\n",
    "        torch.manual_seed(seed)\n",
    "    \n",
    "    if lr_schedule is not None:\n",
    "        lr_schedule = sorted(lr_schedule)\n",
    "    \n",
    "    print(layer_sizes)\n",
    "    model = cropnet.GCN_v2(layer_sizes, dropout=dropout, edge_dim=dataset[0][0].edge_features.shape[1])\n",
    "    model.to(device)\n",
    "\n",
    "    history = {\n",
    "        'train': [],\n",
    "        'val': [],\n",
    "        'test': []\n",
    "    }\n",
    "    \n",
    "\n",
    "    optimizer = torch.optim.Adam(model.parameters(), lr=0.001)\n",
    "    criterion = loss_function\n",
    "\n",
    "    scores = {}\n",
    "    top_score = 10000\n",
    "    \n",
    "    data_train, data_val, data_test = cropnet.split_data(dataset, p_val, p_test, seed=seed)\n",
    "\n",
    "    # Training loop\n",
    "    model.train()\n",
    "\n",
    "    pbar = tqdm(range(epochs))\n",
    "    for epoch in pbar:\n",
    "        \n",
    "        random.shuffle(dataset)\n",
    "        err = np.zeros(0)\n",
    "        total_los = []\n",
    "        for X, y, info in dataset:\n",
    "            optimizer.zero_grad()\n",
    "            pred = model(X)\n",
    "            y_cpu = y.clone().cpu().detach().numpy()\n",
    "            pred_cpu = pred.clone().cpu().detach().numpy()\n",
    "            if pred_var:\n",
    "                y_cpu = y_cpu - np.mean(y_cpu) + np.mean(pred_cpu)\n",
    "            y_cpu[np.isnan(y_cpu)] = pred_cpu[np.isnan(y_cpu)]\n",
    "            #if 'valid' in info: y_cpu[info['valid'] == False] = pred_cpu[info['valid'] == False]\n",
    "            y_gpu = torch.tensor(y_cpu).to(device)\n",
    "            loss = criterion(pred, y_gpu)\n",
    "            loss.backward()\n",
    "            total_los.append(loss.item())\n",
    "            optimizer.step()\n",
    "            err = np.concatenate([err, cropnet.eval_error(pred, y, info, norm_info)])\n",
    "        train_rmse = np.sqrt(np.nanmean(err**2))\n",
    "        history['train'].append(train_rmse)\n",
    "\n",
    "        optimizer.zero_grad()\n",
    "\n",
    "        val_rmse, val_err = cropnet.eval_dataset(data_val, model, norm_info)\n",
    "        #val_err = val_err - np.nanmean(val_err)\n",
    "        history['val'].append(val_rmse)\n",
    "        val_acc10 = np.mean((np.abs(val_err) < 1)[np.isnan(val_err) == False])\n",
    "        metric = val_rmse\n",
    "            \n",
    "        test_rmse, test_err = cropnet.eval_dataset(data_test, model, norm_info)\n",
    "        #test_err = test_err - np.nanmean(test_err)\n",
    "        #test_rmse = np.sqrt(np.nanmean(test_err**2))\n",
    "        history['test'].append(test_rmse)\n",
    "        acc5 = np.mean((np.abs(test_err) < 0.5)[np.isnan(test_err) == False])\n",
    "        acc10 = np.mean((np.abs(test_err) < 1)[np.isnan(test_err) == False])\n",
    "        acc20 = np.mean((np.abs(test_err) < 2)[np.isnan(test_err) == False])\n",
    "\n",
    "        if lr_schedule is not None: \n",
    "            cropnet.update_lr(optimizer, lr_schedule, val_rmse)\n",
    "\n",
    "        if metric < top_score:\n",
    "            top_score = metric\n",
    "            torch.save(model, \"/\".join([\"models\", \"current.pth\"]))\n",
    "            scores = {\n",
    "                'test_rmse': test_rmse,\n",
    "                'test_acc_0.5': acc5,\n",
    "                'test_acc_1.0': acc10, \n",
    "                'test_acc_2.0': acc20,\n",
    "                'test_rel_rmse': test_rmse/norm_info['y']['mean'],\n",
    "            }\n",
    "\n",
    "        pbar.set_description(f'Loss: {np.round(np.mean(total_los), 3)}, train rmse: {np.round(train_rmse, 3)}, val rmse: {np.round(val_rmse, 3)}, test rmse: {np.round(test_rmse, 3)}, top: [{np.round(metric, 3)} >= {np.round(top_score, 3)} {[np.round(scores[s], 3) for s in scores]}]')\n",
    "\n",
    "    model = torch.load(\"models/current.pth\")\n",
    "    return model, history, scores, (data_train, data_val, data_test)"
   ]
  },
  {
   "cell_type": "code",
   "execution_count": null,
   "metadata": {},
   "outputs": [],
   "source": []
  },
  {
   "cell_type": "code",
   "execution_count": 32,
   "metadata": {},
   "outputs": [],
   "source": [
    "def test_run(config, dataset=None, norm_info=None):\n",
    "    \n",
    "    if dataset is None:\n",
    "        path = \"data/full_data/processed/processed_merged.feather\"\n",
    "        dataset, norm_info = get_dataset(path, config)\n",
    "        \n",
    "    M = dataset[1][0].x.shape[1]\n",
    "\n",
    "    score_list, history_list, data_list, pred_list = [], [], [], []\n",
    "    for option in config['options']:\n",
    "        model, history, scores, data = run_model(\n",
    "            p_val=option['p_val'], \n",
    "            p_test=option['p_test'], \n",
    "            layer_sizes=option['layer_sizes'](M),\n",
    "            seed=option['seed'],  \n",
    "            dropout=option['dropout'],  \n",
    "            epochs=option['epochs'], \n",
    "            lr_schedule=option['lr_schedule'], \n",
    "            pred_var=option['pred_var'],  \n",
    "            dataset=dataset, \n",
    "            norm_info=norm_info, \n",
    "            device=device,  \n",
    "        )\n",
    "    \n",
    "        data_train, data_val, data_test = data\n",
    "        \n",
    "        y_tot = np.zeros(0)\n",
    "        y_pred = np.zeros(0)\n",
    "        test_err = np.zeros(0)\n",
    "        test_err_norm = np.zeros(0)\n",
    "        pids = np.zeros(0)\n",
    "        for X, y, info in data_test:\n",
    "            pred = model(X)\n",
    "            \n",
    "            yp = pred.cpu().detach().numpy().reshape(-1)\n",
    "            yt = y.cpu().detach().numpy().reshape(-1)\n",
    "            err = (yt - yp)*norm_info['y']['std']\n",
    "            \n",
    "            y_tot = np.concatenate([y_tot, yt])\n",
    "            y_pred = np.concatenate([y_pred, yp])\n",
    "            test_err = np.concatenate([test_err, err])\n",
    "            test_err_norm = np.concatenate([test_err_norm, err - np.nanmean(err)])\n",
    "            pids = np.concatenate([pids, np.ones(err.shape)*info['pid']])\n",
    "            \n",
    "        y_tot = y_tot*norm_info['y']['std'] + norm_info['y']['mean']\n",
    "        scores_unnorm = [np.sqrt(np.nanmean(test_err**2)), np.nanmean((np.abs(test_err) < 1)[np.isnan(test_err) == False]), np.nanmean(np.abs(test_err/y_tot)), 1-np.sum(test_err**2)/np.sum((y_tot-np.mean(y_tot))**2)]\n",
    "        scores_norm = [np.sqrt(np.nanmean(test_err_norm**2)), np.nanmean((np.abs(test_err_norm) < 1)[np.isnan(test_err_norm) == False]), np.nanmean(np.abs(test_err_norm/y_tot)), 1-np.sum(test_err_norm**2)/np.sum((y_tot-np.mean(y_tot))**2)]\n",
    "        result = [scores_unnorm, scores_norm, [list(y_tot), list(y_pred), list(test_err), list(test_err_norm), list(pids)]]\n",
    "        \n",
    "        #history_list.append(history)\n",
    "        score_list.append(result)\n",
    "        torch.cuda.empty_cache()\n",
    "        # preds = [(\n",
    "        #     model(X).cpu().detach().numpy().reshape(-1), \n",
    "        #     y.cpu().detach().numpy().reshape(-1), \n",
    "        #     info\n",
    "        # ) for X, y, info in data[2]]\n",
    "        #pred_list.append(preds)\n",
    "        print([scores_unnorm, scores_norm])\n",
    "        \n",
    "    #data_list.append(data)\n",
    "    return score_list, model, data#, history_list, data_list, pred_list, norm_info\n"
   ]
  },
  {
   "cell_type": "code",
   "execution_count": 33,
   "metadata": {},
   "outputs": [],
   "source": [
    "\n",
    "path = \"data/full_data/processed/processed_merged.feather\"\n",
    "df = pd.read_feather(path)\n",
    "f = open(path.replace(\".feather\", \".json\"), \"r\")\n",
    "correlation_filters = json.load(f)\n",
    "f.close()\n",
    "\n",
    "replaces = []\n",
    "weeks = set([\"_\".join(d.split(\"_\")[:2]) + \"_\" for d in df.columns if \"week_\" in d])\n",
    "for week in weeks:\n",
    "    replaces += [(d, d.replace(week, week + \"weather_\")) for d in df.columns if d.startswith(week)]\n",
    "\n",
    "dates = [d.split(\"_\")[0] for d in df.columns if \"sigma0_vh_norm_multi\" in d]\n",
    "weeks = [\"week_\" + str(week) for week in range(16, 16+len(dates))]\n",
    "for i in range(len(weeks)):\n",
    "    replaces += [(d, d.replace(dates[i], weeks[i])) for d in df.columns if d.startswith(dates[i])]\n",
    "\n",
    "replaces = {r[0]: r[1] for r in replaces}\n",
    "\n",
    "df = df.rename(replaces, axis=1)"
   ]
  },
  {
   "cell_type": "code",
   "execution_count": 34,
   "metadata": {},
   "outputs": [],
   "source": [
    "\n",
    "target = 'yield_1'\n",
    "predictors = [c for c in df.columns if c not in ['index', 'x', 'y', 'x_int', 'y_int', 'polygon_id', 'year', 'grdkod_mar'] and \"yield\" not in c and \"_pid\" not in c]\n",
    "\n",
    "norm_info = cropnet.get_norm_info(df, target, predictors)"
   ]
  },
  {
   "cell_type": "code",
   "execution_count": 35,
   "metadata": {},
   "outputs": [],
   "source": [
    "if False:\n",
    "    sparsities = []\n",
    "    for pid in set(df['matching_pid']):\n",
    "        pdf = df[df['matching_pid'] == pid]\n",
    "        for year in set(pdf['year']):\n",
    "            ydf = pdf[pdf['year'] == year]\n",
    "            count = np.sum(np.isnan(ydf['yield']) == False)\n",
    "            if count > 0:\n",
    "                sparsities.append((count/len(ydf), pid, year))\n",
    "                \n",
    "    for spar in sparsities:\n",
    "        if spar[0] < 0.4:\n",
    "            df.loc[(df['matching_pid'] == spar[1]) & (df['year'] == spar[2]), 'yield'] = np.nan\n",
    "        \n",
    "        "
   ]
  },
  {
   "cell_type": "markdown",
   "metadata": {},
   "source": [
    "# Test Run"
   ]
  },
  {
   "cell_type": "code",
   "execution_count": 36,
   "metadata": {},
   "outputs": [],
   "source": [
    "config_futurum = {\n",
    "    'type': \"futurum\",\n",
    "    'filter_yield': False,\n",
    "    'filter_wheat': False,\n",
    "    'filter_years': False,\n",
    "    'filter_weeks': None,\n",
    "    'predictors': None,\n",
    "    'target': 'yield_1',\n",
    "    'dist_thresh': 200,\n",
    "    'sparsity_thresh': None,\n",
    "    'target_year': 2019,\n",
    "    'pred_years': [2017, 2018],\n",
    "    'options': [\n",
    "        gen_option(layer_sizes=lambda M: [M, M//2, M//4, M//8, 64, 1], epochs=100),\n",
    "    ],\n",
    "    'df': df,\n",
    "    'correlation_filters': correlation_filters,\n",
    "}\n",
    "\n",
    "config_present = {\n",
    "    'type': \"present\",\n",
    "    'filter_yield': True,\n",
    "    'filter_wheat': True,\n",
    "    'filter_years': False,\n",
    "    'filter_weeks': None,\n",
    "    'predictors': None,\n",
    "    'target': 'yield_1',\n",
    "    'dist_thresh': 200, \n",
    "    'sparsity_thresh': None,\n",
    "    'size_thresh': None,\n",
    "    'time_scheme': None,\n",
    "    'options': [gen_option(epochs=100, seed=seed) for seed in range(1)],\n",
    "    'df': df,\n",
    "    'correlation_filters': correlation_filters,\n",
    "}"
   ]
  },
  {
   "cell_type": "code",
   "execution_count": 37,
   "metadata": {},
   "outputs": [
    {
     "name": "stderr",
     "output_type": "stream",
     "text": [
      "2198937 (954): 100%|██████████| 152/152 [00:23<00:00,  6.50it/s]\n"
     ]
    },
    {
     "name": "stdout",
     "output_type": "stream",
     "text": [
      "Number of features: 891\n",
      "Number of fields: 152\n",
      "Number of points (field 0): 1815\n",
      "Number of connections (field 0): 15375\n",
      "Setting seed: 0\n",
      "[891, 445, 64, 1]\n"
     ]
    },
    {
     "name": "stderr",
     "output_type": "stream",
     "text": [
      "Loss: 0.098, train rmse: 0.802, val rmse: 0.672, test rmse: 0.645, top: [0.672 >= 0.669 [0.669, 0.621, 0.884, 0.988, 0.081]]: 100%|██████████| 100/100 [01:30<00:00,  1.10it/s]"
     ]
    },
    {
     "name": "stdout",
     "output_type": "stream",
     "text": [
      "[[0.668917243406162, 0.8840729922422187, 0.07172592334001338, 0.8817361850994914], [0.6505499503212981, 0.89531706397814, 0.06962570766342768, 0.888141652926046]]\n"
     ]
    },
    {
     "name": "stderr",
     "output_type": "stream",
     "text": [
      "\n"
     ]
    }
   ],
   "source": [
    "scores, model, data = test_run(config_present)\n"
   ]
  },
  {
   "cell_type": "code",
   "execution_count": null,
   "metadata": {},
   "outputs": [],
   "source": [
    "torch.save(model, \"models/final_example/final_example.pt\")"
   ]
  },
  {
   "cell_type": "code",
   "execution_count": null,
   "metadata": {},
   "outputs": [],
   "source": [
    "def get_dataset(path, config):\n",
    "    df, correlation_filters = cropnet.load_data(path, filter_yield=config['filter_yield'], filter_wheat=config['filter_wheat'], filter_years=config['filter_years'], df=config['df'], correlation_filters=config['correlation_filters'])\n",
    "\n",
    "\n",
    "    if config['target'] is not None:\n",
    "        target = config['target']\n",
    "    else:\n",
    "        target = 'yield_1'\n",
    "\n",
    "    \n",
    "    if config['predictors'] is not None:\n",
    "        predictors = config['predictors']\n",
    "    else:\n",
    "        predictors = [c for c in df.columns if c not in ['index', 'x', 'y', 'x_int', 'y_int', 'polygon_id', 'year', 'grdkod_mar'] and \"yield\" not in c and \"_pid\" not in c]\n",
    "\n",
    "    if config['filter_weeks'] is not None:\n",
    "        predictors = [p for p in predictors if (not p.startswith(\"week\")) or (int(p.split(\"_\")[1]) == config['filter_weeks'])]\n",
    "\n",
    "    norm_info = cropnet.get_norm_info(df, target, predictors)\n",
    "\n",
    "    if config['type'] == 'futurum':\n",
    "        dataset = cropnet.create_futurum_dataset(df, target, predictors, config['target_year'], config['pred_years'], norm_info, device, dist_thresh=config['dist_thresh'], sparsity_thresh=config['sparsity_thresh'])\n",
    "    else:\n",
    "        if config['time_scheme'] == 'concat':\n",
    "            dataset = []\n",
    "            for i in range(2017+1, 2022):\n",
    "                dataset += cropnet.create_futurum_dataset(df, target, predictors, i, [i-1,i], norm_info, device, dist_thresh=config['dist_thresh'], sparsity_thresh=config['sparsity_thresh'])\n",
    "        else:\n",
    "            dataset, skipped = cropnet.create_present_dataset(df, target, predictors, norm_info, device, dist_thresh=config['dist_thresh'], time_scheme=config['time_scheme'], size_thresh=config['size_thresh'], sparsity_thresh=config['sparsity_thresh'])\n",
    "        \n",
    "    M = dataset[1][0].x.shape[1]\n",
    "    print(\"Number of features:\", M)\n",
    "    print(\"Number of fields:\", len(dataset))\n",
    "    print(\"Number of points (field 0):\", len(dataset[0][0].x))\n",
    "    print(\"Number of connections (field 0):\", len(dataset[0][0].edge_index[0]))\n",
    "    \n",
    "    return dataset, norm_info"
   ]
  },
  {
   "cell_type": "code",
   "execution_count": 51,
   "metadata": {},
   "outputs": [
    {
     "name": "stderr",
     "output_type": "stream",
     "text": [
      "2198937 (954): 100%|██████████| 152/152 [00:25<00:00,  5.94it/s]"
     ]
    },
    {
     "name": "stdout",
     "output_type": "stream",
     "text": [
      "Number of features: 891\n",
      "Number of fields: 152\n",
      "Number of points (field 0): 1815\n",
      "Number of connections (field 0): 15375\n"
     ]
    },
    {
     "name": "stderr",
     "output_type": "stream",
     "text": [
      "\n"
     ]
    }
   ],
   "source": [
    "config = {\n",
    "    'type': \"present\",\n",
    "    'filter_yield': True,\n",
    "    'filter_wheat': True,\n",
    "    'filter_years': False,\n",
    "    'filter_weeks': None,\n",
    "    'predictors': None,\n",
    "    'target': 'yield_1',\n",
    "    'dist_thresh': 200, \n",
    "    'sparsity_thresh': None,\n",
    "    'size_thresh': None,\n",
    "    'time_scheme': None,\n",
    "    'options': [gen_option(epochs=100, seed=seed) for seed in range(1)],\n",
    "    'df': df,\n",
    "    'correlation_filters': correlation_filters,\n",
    "}\n",
    "path = \"data/full_data/processed/processed_merged.feather\"\n",
    "dataset, norm_info = get_dataset(path, config)"
   ]
  },
  {
   "cell_type": "code",
   "execution_count": null,
   "metadata": {},
   "outputs": [
    {
     "name": "stdout",
     "output_type": "stream",
     "text": [
      "0.5094963057137166\n"
     ]
    }
   ],
   "source": [
    "model = torch.load(\"models/final_example/final_example.pt\", weights_only=False)\n",
    "\n",
    "X, y, info = dataset[0]\n",
    "p = model(X)\n",
    "err = (y-p).cpu().detach().numpy()\n",
    "print(np.sqrt(np.nanmean(err**2))*norm_info['y']['std'])"
   ]
  },
  {
   "cell_type": "code",
   "execution_count": 10,
   "metadata": {},
   "outputs": [
    {
     "ename": "KeyboardInterrupt",
     "evalue": "",
     "output_type": "error",
     "traceback": [
      "\u001b[0;31m---------------------------------------------------------------------------\u001b[0m",
      "\u001b[0;31mKeyboardInterrupt\u001b[0m                         Traceback (most recent call last)",
      "Cell \u001b[0;32mIn[10], line 1\u001b[0m\n\u001b[0;32m----> 1\u001b[0m scores, model, data \u001b[38;5;241m=\u001b[39m \u001b[43mtest_run\u001b[49m\u001b[43m(\u001b[49m\u001b[43mconfig_present\u001b[49m\u001b[43m)\u001b[49m\n\u001b[1;32m      2\u001b[0m \u001b[38;5;28;01mdel\u001b[39;00m model, data\n\u001b[1;32m      3\u001b[0m cropnet\u001b[38;5;241m.\u001b[39msave_score_to_json(scores, \u001b[38;5;124m\"\u001b[39m\u001b[38;5;124mresults_final/baseline/score.json\u001b[39m\u001b[38;5;124m\"\u001b[39m)\n",
      "Cell \u001b[0;32mIn[5], line 5\u001b[0m, in \u001b[0;36mtest_run\u001b[0;34m(config, dataset, norm_info)\u001b[0m\n\u001b[1;32m      3\u001b[0m \u001b[38;5;28;01mif\u001b[39;00m dataset \u001b[38;5;129;01mis\u001b[39;00m \u001b[38;5;28;01mNone\u001b[39;00m:\n\u001b[1;32m      4\u001b[0m     path \u001b[38;5;241m=\u001b[39m \u001b[38;5;124m\"\u001b[39m\u001b[38;5;124mdata/full_data/processed/processed_merged.feather\u001b[39m\u001b[38;5;124m\"\u001b[39m\n\u001b[0;32m----> 5\u001b[0m     dataset, norm_info \u001b[38;5;241m=\u001b[39m \u001b[43mget_dataset\u001b[49m\u001b[43m(\u001b[49m\u001b[43mpath\u001b[49m\u001b[43m,\u001b[49m\u001b[43m \u001b[49m\u001b[43mconfig\u001b[49m\u001b[43m)\u001b[49m\n\u001b[1;32m      7\u001b[0m M \u001b[38;5;241m=\u001b[39m dataset[\u001b[38;5;241m1\u001b[39m][\u001b[38;5;241m0\u001b[39m]\u001b[38;5;241m.\u001b[39mx\u001b[38;5;241m.\u001b[39mshape[\u001b[38;5;241m1\u001b[39m]\n\u001b[1;32m      9\u001b[0m score_list, history_list, data_list, pred_list \u001b[38;5;241m=\u001b[39m [], [], [], []\n",
      "Cell \u001b[0;32mIn[4], line 2\u001b[0m, in \u001b[0;36mget_dataset\u001b[0;34m(path, config)\u001b[0m\n\u001b[1;32m      1\u001b[0m \u001b[38;5;28;01mdef\u001b[39;00m \u001b[38;5;21mget_dataset\u001b[39m(path, config):\n\u001b[0;32m----> 2\u001b[0m     df, correlation_filters \u001b[38;5;241m=\u001b[39m \u001b[43mcropnet\u001b[49m\u001b[38;5;241;43m.\u001b[39;49m\u001b[43mload_data\u001b[49m\u001b[43m(\u001b[49m\u001b[43mpath\u001b[49m\u001b[43m,\u001b[49m\u001b[43m \u001b[49m\u001b[43mfilter_yield\u001b[49m\u001b[38;5;241;43m=\u001b[39;49m\u001b[43mconfig\u001b[49m\u001b[43m[\u001b[49m\u001b[38;5;124;43m'\u001b[39;49m\u001b[38;5;124;43mfilter_yield\u001b[39;49m\u001b[38;5;124;43m'\u001b[39;49m\u001b[43m]\u001b[49m\u001b[43m,\u001b[49m\u001b[43m \u001b[49m\u001b[43mfilter_wheat\u001b[49m\u001b[38;5;241;43m=\u001b[39;49m\u001b[43mconfig\u001b[49m\u001b[43m[\u001b[49m\u001b[38;5;124;43m'\u001b[39;49m\u001b[38;5;124;43mfilter_wheat\u001b[39;49m\u001b[38;5;124;43m'\u001b[39;49m\u001b[43m]\u001b[49m\u001b[43m,\u001b[49m\u001b[43m \u001b[49m\u001b[43mfilter_years\u001b[49m\u001b[38;5;241;43m=\u001b[39;49m\u001b[43mconfig\u001b[49m\u001b[43m[\u001b[49m\u001b[38;5;124;43m'\u001b[39;49m\u001b[38;5;124;43mfilter_years\u001b[39;49m\u001b[38;5;124;43m'\u001b[39;49m\u001b[43m]\u001b[49m\u001b[43m,\u001b[49m\u001b[43m \u001b[49m\u001b[43mdf\u001b[49m\u001b[38;5;241;43m=\u001b[39;49m\u001b[43mconfig\u001b[49m\u001b[43m[\u001b[49m\u001b[38;5;124;43m'\u001b[39;49m\u001b[38;5;124;43mdf\u001b[39;49m\u001b[38;5;124;43m'\u001b[39;49m\u001b[43m]\u001b[49m\u001b[43m,\u001b[49m\u001b[43m \u001b[49m\u001b[43mcorrelation_filters\u001b[49m\u001b[38;5;241;43m=\u001b[39;49m\u001b[43mconfig\u001b[49m\u001b[43m[\u001b[49m\u001b[38;5;124;43m'\u001b[39;49m\u001b[38;5;124;43mcorrelation_filters\u001b[39;49m\u001b[38;5;124;43m'\u001b[39;49m\u001b[43m]\u001b[49m\u001b[43m)\u001b[49m\n\u001b[1;32m      5\u001b[0m     \u001b[38;5;28;01mif\u001b[39;00m config[\u001b[38;5;124m'\u001b[39m\u001b[38;5;124mtarget\u001b[39m\u001b[38;5;124m'\u001b[39m] \u001b[38;5;129;01mis\u001b[39;00m \u001b[38;5;129;01mnot\u001b[39;00m \u001b[38;5;28;01mNone\u001b[39;00m:\n\u001b[1;32m      6\u001b[0m         target \u001b[38;5;241m=\u001b[39m config[\u001b[38;5;124m'\u001b[39m\u001b[38;5;124mtarget\u001b[39m\u001b[38;5;124m'\u001b[39m]\n",
      "File \u001b[0;32m~/Documents/Jupyter/Sentinel/cropnet.py:64\u001b[0m, in \u001b[0;36mload_data\u001b[0;34m(path, filter_yield, filter_wheat, filter_years, df, correlation_filters)\u001b[0m\n\u001b[1;32m     62\u001b[0m pmap \u001b[38;5;241m=\u001b[39m np\u001b[38;5;241m.\u001b[39marray(\u001b[38;5;28mlist\u001b[39m(\u001b[38;5;28mset\u001b[39m(df[\u001b[38;5;124m'\u001b[39m\u001b[38;5;124mpolygon_id\u001b[39m\u001b[38;5;124m'\u001b[39m])))\n\u001b[1;32m     63\u001b[0m polygons \u001b[38;5;241m=\u001b[39m [np\u001b[38;5;241m.\u001b[39mwhere(np\u001b[38;5;241m.\u001b[39marray(pmap) \u001b[38;5;241m==\u001b[39m i)[\u001b[38;5;241m0\u001b[39m][\u001b[38;5;241m0\u001b[39m] \u001b[38;5;28;01mfor\u001b[39;00m i \u001b[38;5;129;01min\u001b[39;00m df[\u001b[38;5;124m'\u001b[39m\u001b[38;5;124mpolygon_id\u001b[39m\u001b[38;5;124m'\u001b[39m]]\n\u001b[0;32m---> 64\u001b[0m \u001b[43mdf\u001b[49m\u001b[43m[\u001b[49m\u001b[38;5;124;43m'\u001b[39;49m\u001b[38;5;124;43mpolygon_id\u001b[39;49m\u001b[38;5;124;43m'\u001b[39;49m\u001b[43m]\u001b[49m \u001b[38;5;241m=\u001b[39m polygons\n\u001b[1;32m     66\u001b[0m df \u001b[38;5;241m=\u001b[39m df\u001b[38;5;241m.\u001b[39mreset_index()\n\u001b[1;32m     67\u001b[0m \u001b[38;5;28;01mif\u001b[39;00m \u001b[38;5;124m'\u001b[39m\u001b[38;5;124mlevel_0\u001b[39m\u001b[38;5;124m'\u001b[39m \u001b[38;5;129;01min\u001b[39;00m df\u001b[38;5;241m.\u001b[39mcolumns:\n",
      "File \u001b[0;32m~/Documents/Jupyter/CO2/.conda/lib/python3.12/site-packages/pandas/core/frame.py:4091\u001b[0m, in \u001b[0;36mDataFrame.__setitem__\u001b[0;34m(self, key, value)\u001b[0m\n\u001b[1;32m   4088\u001b[0m     \u001b[38;5;28mself\u001b[39m\u001b[38;5;241m.\u001b[39m_setitem_array([key], value)\n\u001b[1;32m   4089\u001b[0m \u001b[38;5;28;01melse\u001b[39;00m:\n\u001b[1;32m   4090\u001b[0m     \u001b[38;5;66;03m# set column\u001b[39;00m\n\u001b[0;32m-> 4091\u001b[0m     \u001b[38;5;28;43mself\u001b[39;49m\u001b[38;5;241;43m.\u001b[39;49m\u001b[43m_set_item\u001b[49m\u001b[43m(\u001b[49m\u001b[43mkey\u001b[49m\u001b[43m,\u001b[49m\u001b[43m \u001b[49m\u001b[43mvalue\u001b[49m\u001b[43m)\u001b[49m\n",
      "File \u001b[0;32m~/Documents/Jupyter/CO2/.conda/lib/python3.12/site-packages/pandas/core/frame.py:4300\u001b[0m, in \u001b[0;36mDataFrame._set_item\u001b[0;34m(self, key, value)\u001b[0m\n\u001b[1;32m   4290\u001b[0m \u001b[38;5;28;01mdef\u001b[39;00m \u001b[38;5;21m_set_item\u001b[39m(\u001b[38;5;28mself\u001b[39m, key, value) \u001b[38;5;241m-\u001b[39m\u001b[38;5;241m>\u001b[39m \u001b[38;5;28;01mNone\u001b[39;00m:\n\u001b[1;32m   4291\u001b[0m \u001b[38;5;250m    \u001b[39m\u001b[38;5;124;03m\"\"\"\u001b[39;00m\n\u001b[1;32m   4292\u001b[0m \u001b[38;5;124;03m    Add series to DataFrame in specified column.\u001b[39;00m\n\u001b[1;32m   4293\u001b[0m \n\u001b[0;32m   (...)\u001b[0m\n\u001b[1;32m   4298\u001b[0m \u001b[38;5;124;03m    ensure homogeneity.\u001b[39;00m\n\u001b[1;32m   4299\u001b[0m \u001b[38;5;124;03m    \"\"\"\u001b[39;00m\n\u001b[0;32m-> 4300\u001b[0m     value, refs \u001b[38;5;241m=\u001b[39m \u001b[38;5;28;43mself\u001b[39;49m\u001b[38;5;241;43m.\u001b[39;49m\u001b[43m_sanitize_column\u001b[49m\u001b[43m(\u001b[49m\u001b[43mvalue\u001b[49m\u001b[43m)\u001b[49m\n\u001b[1;32m   4302\u001b[0m     \u001b[38;5;28;01mif\u001b[39;00m (\n\u001b[1;32m   4303\u001b[0m         key \u001b[38;5;129;01min\u001b[39;00m \u001b[38;5;28mself\u001b[39m\u001b[38;5;241m.\u001b[39mcolumns\n\u001b[1;32m   4304\u001b[0m         \u001b[38;5;129;01mand\u001b[39;00m value\u001b[38;5;241m.\u001b[39mndim \u001b[38;5;241m==\u001b[39m \u001b[38;5;241m1\u001b[39m\n\u001b[1;32m   4305\u001b[0m         \u001b[38;5;129;01mand\u001b[39;00m \u001b[38;5;129;01mnot\u001b[39;00m \u001b[38;5;28misinstance\u001b[39m(value\u001b[38;5;241m.\u001b[39mdtype, ExtensionDtype)\n\u001b[1;32m   4306\u001b[0m     ):\n\u001b[1;32m   4307\u001b[0m         \u001b[38;5;66;03m# broadcast across multiple columns if necessary\u001b[39;00m\n\u001b[1;32m   4308\u001b[0m         \u001b[38;5;28;01mif\u001b[39;00m \u001b[38;5;129;01mnot\u001b[39;00m \u001b[38;5;28mself\u001b[39m\u001b[38;5;241m.\u001b[39mcolumns\u001b[38;5;241m.\u001b[39mis_unique \u001b[38;5;129;01mor\u001b[39;00m \u001b[38;5;28misinstance\u001b[39m(\u001b[38;5;28mself\u001b[39m\u001b[38;5;241m.\u001b[39mcolumns, MultiIndex):\n",
      "File \u001b[0;32m~/Documents/Jupyter/CO2/.conda/lib/python3.12/site-packages/pandas/core/frame.py:5040\u001b[0m, in \u001b[0;36mDataFrame._sanitize_column\u001b[0;34m(self, value)\u001b[0m\n\u001b[1;32m   5038\u001b[0m \u001b[38;5;28;01mif\u001b[39;00m is_list_like(value):\n\u001b[1;32m   5039\u001b[0m     com\u001b[38;5;241m.\u001b[39mrequire_length_match(value, \u001b[38;5;28mself\u001b[39m\u001b[38;5;241m.\u001b[39mindex)\n\u001b[0;32m-> 5040\u001b[0m \u001b[38;5;28;01mreturn\u001b[39;00m \u001b[43msanitize_array\u001b[49m\u001b[43m(\u001b[49m\u001b[43mvalue\u001b[49m\u001b[43m,\u001b[49m\u001b[43m \u001b[49m\u001b[38;5;28;43mself\u001b[39;49m\u001b[38;5;241;43m.\u001b[39;49m\u001b[43mindex\u001b[49m\u001b[43m,\u001b[49m\u001b[43m \u001b[49m\u001b[43mcopy\u001b[49m\u001b[38;5;241;43m=\u001b[39;49m\u001b[38;5;28;43;01mTrue\u001b[39;49;00m\u001b[43m,\u001b[49m\u001b[43m \u001b[49m\u001b[43mallow_2d\u001b[49m\u001b[38;5;241;43m=\u001b[39;49m\u001b[38;5;28;43;01mTrue\u001b[39;49;00m\u001b[43m)\u001b[49m, \u001b[38;5;28;01mNone\u001b[39;00m\n",
      "File \u001b[0;32m~/Documents/Jupyter/CO2/.conda/lib/python3.12/site-packages/pandas/core/construction.py:653\u001b[0m, in \u001b[0;36msanitize_array\u001b[0;34m(data, index, dtype, copy, allow_2d)\u001b[0m\n\u001b[1;32m    650\u001b[0m     subarr \u001b[38;5;241m=\u001b[39m _try_cast(data, dtype, copy)\n\u001b[1;32m    652\u001b[0m \u001b[38;5;28;01melse\u001b[39;00m:\n\u001b[0;32m--> 653\u001b[0m     subarr \u001b[38;5;241m=\u001b[39m \u001b[43mmaybe_convert_platform\u001b[49m\u001b[43m(\u001b[49m\u001b[43mdata\u001b[49m\u001b[43m)\u001b[49m\n\u001b[1;32m    654\u001b[0m     \u001b[38;5;28;01mif\u001b[39;00m subarr\u001b[38;5;241m.\u001b[39mdtype \u001b[38;5;241m==\u001b[39m \u001b[38;5;28mobject\u001b[39m:\n\u001b[1;32m    655\u001b[0m         subarr \u001b[38;5;241m=\u001b[39m cast(np\u001b[38;5;241m.\u001b[39mndarray, subarr)\n",
      "File \u001b[0;32m~/Documents/Jupyter/CO2/.conda/lib/python3.12/site-packages/pandas/core/dtypes/cast.py:134\u001b[0m, in \u001b[0;36mmaybe_convert_platform\u001b[0;34m(values)\u001b[0m\n\u001b[1;32m    132\u001b[0m \u001b[38;5;28;01mif\u001b[39;00m arr\u001b[38;5;241m.\u001b[39mdtype \u001b[38;5;241m==\u001b[39m _dtype_obj:\n\u001b[1;32m    133\u001b[0m     arr \u001b[38;5;241m=\u001b[39m cast(np\u001b[38;5;241m.\u001b[39mndarray, arr)\n\u001b[0;32m--> 134\u001b[0m     arr \u001b[38;5;241m=\u001b[39m \u001b[43mlib\u001b[49m\u001b[38;5;241;43m.\u001b[39;49m\u001b[43mmaybe_convert_objects\u001b[49m\u001b[43m(\u001b[49m\u001b[43marr\u001b[49m\u001b[43m)\u001b[49m\n\u001b[1;32m    136\u001b[0m \u001b[38;5;28;01mreturn\u001b[39;00m arr\n",
      "\u001b[0;31mKeyboardInterrupt\u001b[0m: "
     ]
    }
   ],
   "source": [
    "\n",
    "scores, model, data = test_run(config_present)\n",
    "del model, data\n",
    "cropnet.save_score_to_json(scores, \"results_final/baseline/score.json\")"
   ]
  },
  {
   "cell_type": "code",
   "execution_count": null,
   "metadata": {},
   "outputs": [
    {
     "name": "stderr",
     "output_type": "stream",
     "text": [
      "2198937 (954): 100%|██████████| 152/152 [00:25<00:00,  6.05it/s]\n"
     ]
    },
    {
     "name": "stdout",
     "output_type": "stream",
     "text": [
      "Number of features: 891\n",
      "Number of fields: 152\n",
      "Number of points (field 0): 1815\n",
      "Number of connections (field 0): 15375\n",
      "Setting seed: 0\n",
      "[891, 445, 64, 1]\n"
     ]
    },
    {
     "name": "stderr",
     "output_type": "stream",
     "text": [
      "Loss: 0.081, train rmse: 0.694, val rmse: 1.116, test rmse: 0.936, top: [1.116 >= 0.954 [0.889, 0.475, 0.768, 0.968, 0.108]]: 100%|██████████| 100/100 [01:04<00:00,  1.55it/s]\n"
     ]
    },
    {
     "name": "stdout",
     "output_type": "stream",
     "text": [
      "[[0.8891391571773283, 0.7684443606897201, 0.09596687318878531, 0.7910479795431], [0.8233902112736254, 0.8209742768303024, 0.08698678702917703, 0.8208080478693346]]\n",
      "Setting seed: 1\n",
      "[891, 445, 64, 1]\n"
     ]
    },
    {
     "name": "stderr",
     "output_type": "stream",
     "text": [
      "Loss: 0.083, train rmse: 0.719, val rmse: 0.943, test rmse: 0.86, top: [0.943 >= 0.938 [0.847, 0.485, 0.791, 0.977, 0.103]]: 100%|██████████| 100/100 [01:04<00:00,  1.56it/s]\n"
     ]
    },
    {
     "name": "stdout",
     "output_type": "stream",
     "text": [
      "[[0.8470867162825306, 0.7905001177671351, 0.10668178647831104, 0.8581231404237335], [0.7319632431678017, 0.8692470754494779, 0.08622790953193732, 0.894066244316216]]\n",
      "Setting seed: 2\n",
      "[891, 445, 64, 1]\n"
     ]
    },
    {
     "name": "stderr",
     "output_type": "stream",
     "text": [
      "Loss: 0.08, train rmse: 0.715, val rmse: 1.035, test rmse: 1.01, top: [1.035 >= 0.917 [1.029, 0.45, 0.725, 0.945, 0.125]]: 100%|██████████| 100/100 [01:04<00:00,  1.55it/s]  \n"
     ]
    },
    {
     "name": "stdout",
     "output_type": "stream",
     "text": [
      "[[1.0288198792391297, 0.7250608647415945, 0.12233209610156408, 0.7618893203620436], [0.7932545134712081, 0.8307035655952417, 0.09717874440222893, 0.8584449772896579]]\n",
      "Setting seed: 3\n",
      "[891, 445, 64, 1]\n"
     ]
    },
    {
     "name": "stderr",
     "output_type": "stream",
     "text": [
      "Loss: 0.099, train rmse: 0.731, val rmse: 0.9, test rmse: 0.981, top: [0.9 >= 0.876 [0.941, 0.456, 0.733, 0.966, 0.114]]: 100%|██████████| 100/100 [01:04<00:00,  1.54it/s]   \n"
     ]
    },
    {
     "name": "stdout",
     "output_type": "stream",
     "text": [
      "[[0.9408367185385234, 0.733120131201312, 0.09354634151594451, 0.7810710177026463], [0.7477717818412597, 0.8626322263222632, 0.06937569883276017, 0.8617029596180081]]\n",
      "Setting seed: 4\n",
      "[891, 445, 64, 1]\n"
     ]
    },
    {
     "name": "stderr",
     "output_type": "stream",
     "text": [
      "Loss: 0.081, train rmse: 0.687, val rmse: 1.007, test rmse: 0.982, top: [1.007 >= 0.979 [1.007, 0.444, 0.73, 0.943, 0.122]]: 100%|██████████| 100/100 [01:05<00:00,  1.54it/s]\n"
     ]
    },
    {
     "name": "stdout",
     "output_type": "stream",
     "text": [
      "[[1.0069620461871112, 0.7300823344230536, 0.11060298167973134, 0.7731759940544605], [0.8051548191183322, 0.8245701658796465, 0.08836963181063243, 0.8549821018748578]]\n",
      "Setting seed: 5\n",
      "[891, 445, 64, 1]\n"
     ]
    },
    {
     "name": "stderr",
     "output_type": "stream",
     "text": [
      "Loss: 0.104, train rmse: 0.749, val rmse: 0.895, test rmse: 0.887, top: [0.895 >= 0.856 [0.879, 0.451, 0.763, 0.974, 0.107]]: 100%|██████████| 100/100 [01:03<00:00,  1.56it/s]\n"
     ]
    },
    {
     "name": "stdout",
     "output_type": "stream",
     "text": [
      "[[0.8791793164216741, 0.7632196558923976, 0.09785439527893115, 0.8548402485325818], [0.7651141684133909, 0.8377870935370572, 0.085388233203887, 0.8900630257316615]]\n",
      "Setting seed: 6\n",
      "[891, 445, 64, 1]\n"
     ]
    },
    {
     "name": "stderr",
     "output_type": "stream",
     "text": [
      "Loss: 0.082, train rmse: 0.697, val rmse: 0.946, test rmse: 0.97, top: [0.946 >= 0.945 [0.948, 0.477, 0.77, 0.957, 0.115]]: 100%|██████████| 100/100 [01:03<00:00,  1.58it/s] \n"
     ]
    },
    {
     "name": "stdout",
     "output_type": "stream",
     "text": [
      "[[0.9478015398536577, 0.7695940750968916, 0.12180681380498391, 0.8591653593439135], [0.7815336272656406, 0.8349155042287113, 0.10326882407286057, 0.9042431152760642]]\n",
      "Setting seed: 7\n",
      "[891, 445, 64, 1]\n"
     ]
    },
    {
     "name": "stderr",
     "output_type": "stream",
     "text": [
      "Loss: 0.083, train rmse: 0.704, val rmse: 1.083, test rmse: 0.853, top: [1.083 >= 0.988 [0.941, 0.462, 0.763, 0.957, 0.114]]: 100%|██████████| 100/100 [01:03<00:00,  1.56it/s]\n"
     ]
    },
    {
     "name": "stdout",
     "output_type": "stream",
     "text": [
      "[[0.9407599580893834, 0.7627965446106241, 0.1282355317466324, 0.8354919132985701], [0.7699849049059746, 0.8457645693656524, 0.08476553159022064, 0.8897968456490828]]\n",
      "Setting seed: 8\n",
      "[891, 445, 64, 1]\n"
     ]
    },
    {
     "name": "stderr",
     "output_type": "stream",
     "text": [
      "Loss: 0.078, train rmse: 0.67, val rmse: 0.829, test rmse: 0.94, top: [0.829 >= 0.823 [0.927, 0.445, 0.779, 0.96, 0.112]]: 100%|██████████| 100/100 [01:05<00:00,  1.53it/s]  \n"
     ]
    },
    {
     "name": "stdout",
     "output_type": "stream",
     "text": [
      "[[0.9266922629797542, 0.7791791170269187, 0.10276387355598876, 0.8431234641122004], [0.8255060440247202, 0.8307915195260455, 0.0873423952353151, 0.8755120167433196]]\n",
      "Setting seed: 9\n",
      "[891, 445, 64, 1]\n"
     ]
    },
    {
     "name": "stderr",
     "output_type": "stream",
     "text": [
      "Loss: 0.115, train rmse: 0.782, val rmse: 0.989, test rmse: 0.975, top: [0.989 >= 0.872 [0.913, 0.436, 0.77, 0.969, 0.111]]: 100%|██████████| 100/100 [01:04<00:00,  1.56it/s]\n"
     ]
    },
    {
     "name": "stdout",
     "output_type": "stream",
     "text": [
      "[[0.9126774845788389, 0.7700968840010474, 0.10167602159838673, 0.7991968320821086], [0.733063610162782, 0.868421052631579, 0.07701813894242819, 0.8704554313758179]]\n"
     ]
    },
    {
     "name": "stderr",
     "output_type": "stream",
     "text": [
      "2198937 (954): 100%|██████████| 152/152 [00:34<00:00,  4.39it/s]\n"
     ]
    },
    {
     "name": "stdout",
     "output_type": "stream",
     "text": [
      "Number of features: 891\n",
      "Number of fields: 152\n",
      "Number of points (field 0): 1815\n",
      "Number of connections (field 0): 15375\n",
      "Setting seed: 0\n",
      "[891, 445, 64, 1]\n"
     ]
    },
    {
     "name": "stderr",
     "output_type": "stream",
     "text": [
      "Loss: 0.144, train rmse: 1.001, val rmse: 1.435, test rmse: 1.074, top: [1.435 >= 1.237 [0.996, 0.402, 0.722, 0.952, 0.121]]: 100%|██████████| 100/100 [01:07<00:00,  1.49it/s]\n"
     ]
    },
    {
     "name": "stdout",
     "output_type": "stream",
     "text": [
      "[[0.995982838526189, 0.7221646408492729, 0.11946102943448018, 0.7378132066482613], [0.9219082111791228, 0.7687113288733942, 0.09998793534790193, 0.7753623911301982]]\n",
      "Setting seed: 1\n",
      "[891, 445, 64, 1]\n"
     ]
    },
    {
     "name": "stderr",
     "output_type": "stream",
     "text": [
      "Loss: 0.142, train rmse: 1.051, val rmse: 1.236, test rmse: 1.224, top: [1.236 >= 1.201 [1.335, 0.375, 0.645, 0.885, 0.162]]: 100%|██████████| 100/100 [01:06<00:00,  1.49it/s]\n"
     ]
    },
    {
     "name": "stdout",
     "output_type": "stream",
     "text": [
      "[[1.3345487549349204, 0.6445630839287116, 0.16746384915985402, 0.6478524160558919], [1.2417702519818288, 0.6424746800659495, 0.15229881837701012, 0.695113406877208]]\n",
      "Setting seed: 2\n",
      "[891, 445, 64, 1]\n"
     ]
    },
    {
     "name": "stderr",
     "output_type": "stream",
     "text": [
      "Loss: 0.152, train rmse: 1.054, val rmse: 1.269, test rmse: 1.343, top: [1.269 >= 1.161 [1.18, 0.403, 0.671, 0.912, 0.143]]: 100%|██████████| 100/100 [01:07<00:00,  1.48it/s]\n"
     ]
    },
    {
     "name": "stdout",
     "output_type": "stream",
     "text": [
      "[[1.1803290860602764, 0.670868131529477, 0.14552909478122117, 0.6865946551664119], [1.0217319869469463, 0.7251995438996579, 0.1266028907955952, 0.7651588708509653]]\n",
      "Setting seed: 3\n",
      "[891, 445, 64, 1]\n"
     ]
    },
    {
     "name": "stderr",
     "output_type": "stream",
     "text": [
      "Loss: 0.16, train rmse: 1.086, val rmse: 1.172, test rmse: 1.217, top: [1.172 >= 1.158 [1.062, 0.446, 0.732, 0.934, 0.129]]: 100%|██████████| 100/100 [01:07<00:00,  1.47it/s]\n"
     ]
    },
    {
     "name": "stdout",
     "output_type": "stream",
     "text": [
      "[[1.0620965878094355, 0.7316933169331693, 0.10325879878580597, 0.721000921799732], [0.9860040562560745, 0.7665272652726527, 0.09284075020595217, 0.7595459234338324]]\n",
      "Setting seed: 4\n",
      "[891, 445, 64, 1]\n"
     ]
    },
    {
     "name": "stderr",
     "output_type": "stream",
     "text": [
      "Loss: 0.175, train rmse: 1.258, val rmse: 1.094, test rmse: 1.08, top: [1.094 >= 1.011 [1.019, 0.424, 0.7, 0.945, 0.124]]: 100%|██████████| 100/100 [01:08<00:00,  1.46it/s]  \n"
     ]
    },
    {
     "name": "stdout",
     "output_type": "stream",
     "text": [
      "[[1.019062980790226, 0.6996307058965977, 0.11344503642565335, 0.7676916267567319], [0.8098345111341834, 0.8131432376801065, 0.08983606488050953, 0.8532914673166538]]\n",
      "Setting seed: 5\n",
      "[891, 445, 64, 1]\n"
     ]
    },
    {
     "name": "stderr",
     "output_type": "stream",
     "text": [
      "Loss: 0.196, train rmse: 1.214, val rmse: 1.213, test rmse: 1.392, top: [1.213 >= 0.919 [0.941, 0.425, 0.728, 0.966, 0.114]]: 100%|██████████| 100/100 [01:06<00:00,  1.49it/s]\n"
     ]
    },
    {
     "name": "stdout",
     "output_type": "stream",
     "text": [
      "[[0.9414157728337857, 0.7280805399543564, 0.10568274313422708, 0.833561331789706], [0.803947290368086, 0.8211967693378437, 0.09186029419600283, 0.8786201929139045]]\n",
      "Setting seed: 6\n",
      "[891, 445, 64, 1]\n"
     ]
    },
    {
     "name": "stderr",
     "output_type": "stream",
     "text": [
      "Loss: 0.391, train rmse: 1.846, val rmse: 1.73, test rmse: 2.035, top: [1.73 >= 0.94 [1.037, 0.469, 0.741, 0.94, 0.126]]: 100%|██████████| 100/100 [01:06<00:00,  1.51it/s]   \n"
     ]
    },
    {
     "name": "stdout",
     "output_type": "stream",
     "text": [
      "[[1.0373522060914757, 0.740675652351289, 0.13769860920723145, 0.8312953163323812], [0.7769318867341902, 0.8366571997928794, 0.10079228766847284, 0.9053674457813206]]\n",
      "Setting seed: 7\n",
      "[891, 445, 64, 1]\n"
     ]
    },
    {
     "name": "stderr",
     "output_type": "stream",
     "text": [
      "Loss: 0.102, train rmse: 0.773, val rmse: 1.187, test rmse: 0.931, top: [1.187 >= 1.065 [0.949, 0.473, 0.752, 0.956, 0.115]]: 100%|██████████| 100/100 [01:06<00:00,  1.49it/s]\n"
     ]
    },
    {
     "name": "stdout",
     "output_type": "stream",
     "text": [
      "[[0.9490893505287235, 0.7522885507993812, 0.11301475324448347, 0.8325659417176149], [0.7725240849728798, 0.8556762506446622, 0.08103803431982819, 0.8890688130818636]]\n",
      "Setting seed: 8\n",
      "[891, 445, 64, 1]\n"
     ]
    },
    {
     "name": "stderr",
     "output_type": "stream",
     "text": [
      "Loss: 0.124, train rmse: 0.933, val rmse: 1.017, test rmse: 1.512, top: [1.017 >= 1.017 [1.512, 0.359, 0.637, 0.896, 0.183]]: 100%|██████████| 100/100 [01:08<00:00,  1.47it/s]\n"
     ]
    },
    {
     "name": "stdout",
     "output_type": "stream",
     "text": [
      "[[1.5119950588805104, 0.6372902841915997, 0.16157054608521834, 0.5823738731770753], [1.2790390904399112, 0.6994191987788946, 0.14397568023895937, 0.7011491109894423]]\n",
      "Setting seed: 9\n",
      "[891, 445, 64, 1]\n"
     ]
    },
    {
     "name": "stderr",
     "output_type": "stream",
     "text": [
      "Loss: 0.102, train rmse: 0.768, val rmse: 0.954, test rmse: 0.97, top: [0.954 >= 0.872 [1.085, 0.365, 0.656, 0.945, 0.131]]: 100%|██████████| 100/100 [01:06<00:00,  1.49it/s]\n"
     ]
    },
    {
     "name": "stdout",
     "output_type": "stream",
     "text": [
      "[[1.0845377107565277, 0.6559799685781619, 0.1194335128288919, 0.7164529053454871], [0.7850885041340586, 0.8388648860958366, 0.08349376539213828, 0.851415631510752]]\n"
     ]
    },
    {
     "name": "stderr",
     "output_type": "stream",
     "text": [
      "2198937 (954): 100%|██████████| 152/152 [00:35<00:00,  4.31it/s]\n"
     ]
    },
    {
     "name": "stdout",
     "output_type": "stream",
     "text": [
      "Number of features: 891\n",
      "Number of fields: 152\n",
      "Number of points (field 0): 1815\n",
      "Number of connections (field 0): 15375\n",
      "Setting seed: 0\n",
      "[891, 445, 64, 1]\n"
     ]
    },
    {
     "name": "stderr",
     "output_type": "stream",
     "text": [
      "Loss: 0.18, train rmse: 1.106, val rmse: 1.77, test rmse: 1.523, top: [1.77 >= 1.019 [1.09, 0.362, 0.666, 0.927, 0.132]]: 100%|██████████| 100/100 [01:07<00:00,  1.49it/s]   \n"
     ]
    },
    {
     "name": "stdout",
     "output_type": "stream",
     "text": [
      "[[1.089998998137177, 0.6659442821696662, 0.12334198627080276, 0.685978561347935], [0.8815196514645772, 0.7756996136813342, 0.09695865433620154, 0.7946138764623094]]\n",
      "Setting seed: 1\n",
      "[891, 445, 64, 1]\n"
     ]
    },
    {
     "name": "stderr",
     "output_type": "stream",
     "text": [
      "Loss: 0.131, train rmse: 0.988, val rmse: 1.17, test rmse: 1.195, top: [1.17 >= 1.162 [1.248, 0.403, 0.69, 0.897, 0.151]]: 100%|██████████| 100/100 [01:07<00:00,  1.49it/s]  \n"
     ]
    },
    {
     "name": "stdout",
     "output_type": "stream",
     "text": [
      "[[1.2476205300354015, 0.689974091230274, 0.152213032817284, 0.6922338516714346], [1.1260624285392915, 0.7134018999764465, 0.13647049166790354, 0.7492847444055817]]\n",
      "Setting seed: 2\n",
      "[891, 445, 64, 1]\n"
     ]
    },
    {
     "name": "stderr",
     "output_type": "stream",
     "text": [
      "Loss: 0.138, train rmse: 0.98, val rmse: 1.259, test rmse: 1.247, top: [1.259 >= 1.158 [1.174, 0.378, 0.648, 0.922, 0.142]]: 100%|██████████| 100/100 [01:07<00:00,  1.48it/s]\n"
     ]
    },
    {
     "name": "stdout",
     "output_type": "stream",
     "text": [
      "[[1.1740092661827541, 0.6475854417701624, 0.14558827013126788, 0.6899417942426169], [1.0263162948233726, 0.7225184135104318, 0.1262759136982517, 0.7630467724515758]]\n",
      "Setting seed: 3\n",
      "[891, 445, 64, 1]\n"
     ]
    },
    {
     "name": "stderr",
     "output_type": "stream",
     "text": [
      "Loss: 0.176, train rmse: 1.134, val rmse: 1.229, test rmse: 1.297, top: [1.229 >= 0.96 [0.995, 0.471, 0.738, 0.945, 0.121]]: 100%|██████████| 100/100 [01:07<00:00,  1.48it/s]\n"
     ]
    },
    {
     "name": "stdout",
     "output_type": "stream",
     "text": [
      "[[0.9951280801092349, 0.7377285772857729, 0.0926509774737031, 0.7550752330290516], [0.8604317625621024, 0.8021648216482165, 0.08047144191297241, 0.8168918777927212]]\n",
      "Setting seed: 4\n",
      "[891, 445, 64, 1]\n"
     ]
    },
    {
     "name": "stderr",
     "output_type": "stream",
     "text": [
      "Loss: 0.159, train rmse: 1.139, val rmse: 1.312, test rmse: 1.215, top: [1.312 >= 1.016 [1.054, 0.415, 0.696, 0.94, 0.128]]: 100%|██████████| 100/100 [01:08<00:00,  1.47it/s]\n"
     ]
    },
    {
     "name": "stdout",
     "output_type": "stream",
     "text": [
      "[[1.054130016309079, 0.6960134398837632, 0.1142066643052741, 0.751428591657195], [0.8385710818731785, 0.7998395689550793, 0.09234431491705467, 0.8426949821894263]]\n",
      "Setting seed: 5\n",
      "[891, 445, 64, 1]\n"
     ]
    },
    {
     "name": "stderr",
     "output_type": "stream",
     "text": [
      "Loss: 0.122, train rmse: 0.934, val rmse: 1.068, test rmse: 1.172, top: [1.068 >= 1.001 [1.131, 0.391, 0.682, 0.928, 0.137]]: 100%|██████████| 100/100 [01:07<00:00,  1.49it/s]\n"
     ]
    },
    {
     "name": "stdout",
     "output_type": "stream",
     "text": [
      "[[1.130904488513354, 0.6817894890180146, 0.1366962312301229, 0.7598165123326617], [1.02500632716928, 0.7408834145315054, 0.11959773333438124, 0.8026921411338988]]\n",
      "Setting seed: 6\n",
      "[891, 445, 64, 1]\n"
     ]
    },
    {
     "name": "stderr",
     "output_type": "stream",
     "text": [
      "Loss: 0.11, train rmse: 0.817, val rmse: 1.02, test rmse: 1.077, top: [1.02 >= 0.964 [1.011, 0.469, 0.743, 0.944, 0.123]]: 100%|██████████| 100/100 [01:06<00:00,  1.50it/s]  \n"
     ]
    },
    {
     "name": "stdout",
     "output_type": "stream",
     "text": [
      "[[1.0113768245758878, 0.7430763678586559, 0.12936623033233832, 0.8396382948745771], [0.7880544326367204, 0.8311967488349469, 0.10145451732446814, 0.9026385344648863]]\n",
      "Setting seed: 7\n",
      "[891, 445, 64, 1]\n"
     ]
    },
    {
     "name": "stderr",
     "output_type": "stream",
     "text": [
      "Loss: 0.151, train rmse: 1.002, val rmse: 1.38, test rmse: 1.107, top: [1.38 >= 1.38 [1.107, 0.434, 0.734, 0.924, 0.134]]: 100%|██████████| 100/100 [01:06<00:00,  1.49it/s]  \n"
     ]
    },
    {
     "name": "stdout",
     "output_type": "stream",
     "text": [
      "[[1.1070145493016632, 0.7343991748323878, 0.1222954068012731, 0.7722091575715788], [0.971573326985155, 0.785440304280557, 0.10475148614766563, 0.824538931380562]]\n",
      "Setting seed: 8\n",
      "[891, 445, 64, 1]\n"
     ]
    },
    {
     "name": "stderr",
     "output_type": "stream",
     "text": [
      "Loss: 0.171, train rmse: 1.0, val rmse: 1.173, test rmse: 1.355, top: [1.173 >= 0.9 [0.986, 0.451, 0.756, 0.949, 0.119]]: 100%|██████████| 100/100 [01:07<00:00,  1.47it/s]  \n"
     ]
    },
    {
     "name": "stdout",
     "output_type": "stream",
     "text": [
      "[[0.9856228025248408, 0.7555848758844607, 0.11382269555355266, 0.8225367619962818], [0.8843172787333577, 0.7879493448200033, 0.10285318408737947, 0.8571424695714466]]\n",
      "Setting seed: 9\n",
      "[891, 445, 64, 1]\n"
     ]
    },
    {
     "name": "stderr",
     "output_type": "stream",
     "text": [
      "Loss: 0.202, train rmse: 1.206, val rmse: 1.216, test rmse: 1.057, top: [1.216 >= 1.016 [1.015, 0.415, 0.724, 0.952, 0.123]]: 100%|██████████| 100/100 [01:06<00:00,  1.49it/s]\n"
     ]
    },
    {
     "name": "stdout",
     "output_type": "stream",
     "text": [
      "[[1.0150260748675364, 0.7237005760670333, 0.11604177882937347, 0.751635062892268], [0.8676668284221428, 0.8181133804660906, 0.09465187363009653, 0.8185145238486115]]\n"
     ]
    },
    {
     "data": {
      "application/vnd.jupyter.widget-view+json": {
       "model_id": "f2e98848954e4334804e1d0c9cd0256e",
       "version_major": 2,
       "version_minor": 0
      },
      "text/plain": [
       "  0%|          | 0/153 [00:00<?, ?it/s]"
      ]
     },
     "metadata": {},
     "output_type": "display_data"
    },
    {
     "data": {
      "application/vnd.jupyter.widget-view+json": {
       "model_id": "27258e34215d4961aa37af7e7302dbc2",
       "version_major": 2,
       "version_minor": 0
      },
      "text/plain": [
       "  0%|          | 0/153 [00:00<?, ?it/s]"
      ]
     },
     "metadata": {},
     "output_type": "display_data"
    },
    {
     "data": {
      "application/vnd.jupyter.widget-view+json": {
       "model_id": "c737a96a99fa45338a69d51cfdd69f11",
       "version_major": 2,
       "version_minor": 0
      },
      "text/plain": [
       "  0%|          | 0/153 [00:00<?, ?it/s]"
      ]
     },
     "metadata": {},
     "output_type": "display_data"
    },
    {
     "data": {
      "application/vnd.jupyter.widget-view+json": {
       "model_id": "9fa6c01da98b4bfd8c27c4ce7c8e4d5b",
       "version_major": 2,
       "version_minor": 0
      },
      "text/plain": [
       "  0%|          | 0/153 [00:00<?, ?it/s]"
      ]
     },
     "metadata": {},
     "output_type": "display_data"
    },
    {
     "name": "stdout",
     "output_type": "stream",
     "text": [
      "Number of features: 1782\n",
      "Number of fields: 188\n",
      "Number of points (field 0): 4214\n",
      "Number of connections (field 0): 20304\n",
      "Setting seed: 0\n",
      "[1782, 891, 64, 1]\n"
     ]
    },
    {
     "name": "stderr",
     "output_type": "stream",
     "text": [
      "Loss: 0.059, train rmse: 0.718, val rmse: 1.48, test rmse: 1.173, top: [1.48 >= 0.862 [1.061, 0.423, 0.752, 0.934, 0.137]]: 100%|██████████| 100/100 [01:26<00:00,  1.15it/s] \n"
     ]
    },
    {
     "name": "stdout",
     "output_type": "stream",
     "text": [
      "[[1.061369178788476, 0.7516201804757998, 0.10434535269813973, 0.7944512192740713], [0.7289717522105309, 0.8984413453650533, 0.06934331469921913, 0.9030375991463833]]\n",
      "Setting seed: 1\n",
      "[1782, 891, 64, 1]\n"
     ]
    },
    {
     "name": "stderr",
     "output_type": "stream",
     "text": [
      "Loss: 0.057, train rmse: 0.704, val rmse: 1.045, test rmse: 0.837, top: [1.045 >= 1.01 [0.885, 0.481, 0.764, 0.977, 0.114]]: 100%|██████████| 100/100 [01:28<00:00,  1.13it/s]\n"
     ]
    },
    {
     "name": "stdout",
     "output_type": "stream",
     "text": [
      "[[0.8850828185539087, 0.7640499463703884, 0.08351094468743174, 0.771670953583935], [0.7340464989796757, 0.8830672090340599, 0.06585642967697884, 0.8429490796508231]]\n",
      "Setting seed: 2\n",
      "[1782, 891, 64, 1]\n"
     ]
    },
    {
     "name": "stderr",
     "output_type": "stream",
     "text": [
      "Loss: 0.08, train rmse: 0.817, val rmse: 0.9, test rmse: 0.932, top: [0.9 >= 0.83 [0.908, 0.46, 0.753, 0.969, 0.117]]: 100%|██████████| 100/100 [01:26<00:00,  1.15it/s]      \n"
     ]
    },
    {
     "name": "stdout",
     "output_type": "stream",
     "text": [
      "[[0.9079758419580264, 0.753194364812843, 0.09076713947274942, 0.7116688333694579], [0.7154114419558686, 0.8692358096486199, 0.06951896625379508, 0.8209992851012184]]\n",
      "Setting seed: 3\n",
      "[1782, 891, 64, 1]\n"
     ]
    },
    {
     "name": "stderr",
     "output_type": "stream",
     "text": [
      "Loss: 0.111, train rmse: 0.982, val rmse: 1.122, test rmse: 1.394, top: [1.122 >= 0.876 [1.184, 0.336, 0.583, 0.916, 0.153]]: 100%|██████████| 100/100 [01:25<00:00,  1.17it/s]\n"
     ]
    },
    {
     "name": "stdout",
     "output_type": "stream",
     "text": [
      "[[1.1837850801993828, 0.5833418206261585, 0.13360813167190286, 0.7410662212327486], [0.7383108768888419, 0.8891491658688612, 0.07631375225005856, 0.8992786546029767]]\n",
      "Setting seed: 4\n",
      "[1782, 891, 64, 1]\n"
     ]
    },
    {
     "name": "stderr",
     "output_type": "stream",
     "text": [
      "Loss: 0.092, train rmse: 0.952, val rmse: 1.476, test rmse: 1.74, top: [1.476 >= 0.944 [1.304, 0.361, 0.654, 0.892, 0.169]]: 100%|██████████| 100/100 [01:26<00:00,  1.15it/s]\n"
     ]
    },
    {
     "name": "stdout",
     "output_type": "stream",
     "text": [
      "[[1.3041835548336866, 0.6535133402772214, 0.13288912551200752, 0.6832875521249535], [0.7439080999556322, 0.8798774136687766, 0.07394081489753597, 0.8969551553929415]]\n",
      "Setting seed: 5\n",
      "[1782, 891, 64, 1]\n"
     ]
    },
    {
     "name": "stderr",
     "output_type": "stream",
     "text": [
      "Loss: 0.072, train rmse: 0.799, val rmse: 0.972, test rmse: 1.005, top: [0.972 >= 0.836 [0.931, 0.488, 0.785, 0.958, 0.12]]: 100%|██████████| 100/100 [01:27<00:00,  1.15it/s]\n"
     ]
    },
    {
     "name": "stdout",
     "output_type": "stream",
     "text": [
      "[[0.9313667364202833, 0.785107785747108, 0.10339511995618571, 0.8073258661505118], [0.7389975817960815, 0.8626056380236948, 0.08147887331500628, 0.8786979882352711]]\n",
      "Setting seed: 6\n",
      "[1782, 891, 64, 1]\n"
     ]
    },
    {
     "name": "stderr",
     "output_type": "stream",
     "text": [
      "Loss: 0.104, train rmse: 0.939, val rmse: 0.932, test rmse: 0.971, top: [0.932 >= 0.777 [1.084, 0.358, 0.649, 0.948, 0.14]]: 100%|██████████| 100/100 [01:27<00:00,  1.14it/s]\n"
     ]
    },
    {
     "name": "stdout",
     "output_type": "stream",
     "text": [
      "[[1.0837267136375603, 0.6492612523531537, 0.11888422756520849, 0.6761504183525623], [0.7055846157361766, 0.8752590845994409, 0.06830349412454788, 0.8627216694862481]]\n",
      "Setting seed: 7\n",
      "[1782, 891, 64, 1]\n"
     ]
    },
    {
     "name": "stderr",
     "output_type": "stream",
     "text": [
      "Loss: 0.05, train rmse: 0.666, val rmse: 1.133, test rmse: 0.762, top: [1.133 >= 1.133 [0.762, 0.519, 0.837, 0.984, 0.099]]: 100%|██████████| 100/100 [01:27<00:00,  1.14it/s]\n"
     ]
    },
    {
     "name": "stdout",
     "output_type": "stream",
     "text": [
      "[[0.7624130517964861, 0.8374299266925399, 0.0931354008695549, 0.8767107619608849], [0.6332956499249645, 0.9069796094375655, 0.07749653456955229, 0.9149337019328553]]\n",
      "Setting seed: 8\n",
      "[1782, 891, 64, 1]\n"
     ]
    },
    {
     "name": "stderr",
     "output_type": "stream",
     "text": [
      "Loss: 0.09, train rmse: 0.98, val rmse: 1.071, test rmse: 1.199, top: [1.071 >= 0.965 [0.964, 0.436, 0.746, 0.952, 0.125]]: 100%|██████████| 100/100 [01:26<00:00,  1.16it/s] \n"
     ]
    },
    {
     "name": "stdout",
     "output_type": "stream",
     "text": [
      "[[0.9638428937680956, 0.7456407137064072, 0.09496338567214072, 0.7843689505090712], [0.7817521629508435, 0.8527777777777777, 0.07608243987871353, 0.8581475045656859]]\n",
      "Setting seed: 9\n",
      "[1782, 891, 64, 1]\n"
     ]
    },
    {
     "name": "stderr",
     "output_type": "stream",
     "text": [
      "Loss: 0.067, train rmse: 0.768, val rmse: 1.184, test rmse: 1.395, top: [1.184 >= 0.943 [0.983, 0.465, 0.756, 0.947, 0.127]]: 100%|██████████| 100/100 [01:27<00:00,  1.15it/s]\n"
     ]
    },
    {
     "name": "stdout",
     "output_type": "stream",
     "text": [
      "[[0.9829876131525709, 0.7562690943388489, 0.1053725231300547, 0.7930882845361369], [0.7253173866082581, 0.8879046974636566, 0.07768825829501647, 0.8873463760535294]]\n"
     ]
    }
   ],
   "source": [
    "# Scheme Ablation\n",
    "#[None, \"distance\", \"one-hot\", \"concat\"]\n",
    "for i, scheme in enumerate([None, \"distance\", \"one-hot\", \"concat\"]):\n",
    "    config_present['time_scheme'] = scheme\n",
    "    config_present['filter_yield'] = scheme != \"concat\"\n",
    "    config_present['filter_wheat'] = scheme != \"concat\"\n",
    "    config_present['dist_thresh'] = 200 if scheme != \"concat\" else 100\n",
    "    scores, model, data = test_run(config_present)\n",
    "    del model, data\n",
    "    cropnet.save_score_to_json(scores, \"results_final/present_scheme/score\" + str(i) + \".json\")"
   ]
  },
  {
   "cell_type": "code",
   "execution_count": null,
   "metadata": {},
   "outputs": [
    {
     "name": "stderr",
     "output_type": "stream",
     "text": [
      "2198937 (954): 100%|██████████| 152/152 [00:21<00:00,  6.91it/s]\n"
     ]
    },
    {
     "name": "stdout",
     "output_type": "stream",
     "text": [
      "Number of features: 67\n",
      "Number of fields: 152\n",
      "Number of points (field 0): 1815\n",
      "Number of connections (field 0): 15375\n",
      "Setting seed: 0\n",
      "[67, 33, 64, 1]\n"
     ]
    },
    {
     "name": "stderr",
     "output_type": "stream",
     "text": [
      "Loss: 0.138, train rmse: 0.925, val rmse: 1.505, test rmse: 1.343, top: [1.505 >= 1.391 [1.22, 0.35, 0.623, 0.903, 0.148]]:  80%|████████  | 80/100 [00:28<00:07,  2.84it/s] "
     ]
    },
    {
     "name": "stderr",
     "output_type": "stream",
     "text": [
      "Loss: 0.13, train rmse: 0.89, val rmse: 1.416, test rmse: 1.331, top: [1.416 >= 1.391 [1.22, 0.35, 0.623, 0.903, 0.148]]: 100%|██████████| 100/100 [00:35<00:00,  2.82it/s] \n"
     ]
    },
    {
     "name": "stdout",
     "output_type": "stream",
     "text": [
      "[[1.2197866218925224, 0.6231037406953736, 0.1439027987273635, 0.6067444747511654], [1.0433857970229128, 0.7307547347592576, 0.1191566598328618, 0.7122621841275734]]\n",
      "Setting seed: 1\n",
      "[67, 33, 64, 1]\n"
     ]
    },
    {
     "name": "stderr",
     "output_type": "stream",
     "text": [
      "Loss: 0.122, train rmse: 0.886, val rmse: 1.32, test rmse: 1.196, top: [1.32 >= 1.32 [1.196, 0.359, 0.641, 0.902, 0.145]]: 100%|██████████| 100/100 [00:35<00:00,  2.84it/s]  \n"
     ]
    },
    {
     "name": "stdout",
     "output_type": "stream",
     "text": [
      "[[1.1963680259075025, 0.6412656041454031, 0.14916248349706987, 0.7170006621844423], [1.0938328588583806, 0.6693098845882076, 0.13896002352347914, 0.7634310429884444]]\n",
      "Setting seed: 2\n",
      "[67, 33, 64, 1]\n"
     ]
    },
    {
     "name": "stderr",
     "output_type": "stream",
     "text": [
      "Loss: 0.127, train rmse: 0.879, val rmse: 1.608, test rmse: 1.388, top: [1.608 >= 1.478 [1.32, 0.317, 0.584, 0.875, 0.16]]: 100%|██████████| 100/100 [00:35<00:00,  2.82it/s] \n"
     ]
    },
    {
     "name": "stdout",
     "output_type": "stream",
     "text": [
      "[[1.3196864677527942, 0.5842861105118802, 0.16867015906976357, 0.6082205006525563], [1.164681198336264, 0.6515146845819594, 0.14893851971201827, 0.694849342979127]]\n",
      "Setting seed: 3\n",
      "[67, 33, 64, 1]\n"
     ]
    },
    {
     "name": "stderr",
     "output_type": "stream",
     "text": [
      "Loss: 0.125, train rmse: 0.862, val rmse: 1.271, test rmse: 1.237, top: [1.271 >= 1.239 [1.249, 0.317, 0.591, 0.899, 0.151]]: 100%|██████████| 100/100 [00:36<00:00,  2.78it/s]\n"
     ]
    },
    {
     "name": "stdout",
     "output_type": "stream",
     "text": [
      "[[1.2492911681572931, 0.590930709307093, 0.1267378008664562, 0.6139868668638004], [1.0422617533206329, 0.7127019270192702, 0.1071162233227194, 0.7313243280407273]]\n",
      "Setting seed: 4\n",
      "[67, 33, 64, 1]\n"
     ]
    },
    {
     "name": "stderr",
     "output_type": "stream",
     "text": [
      "Loss: 0.127, train rmse: 0.893, val rmse: 1.224, test rmse: 1.413, top: [1.224 >= 1.152 [1.386, 0.306, 0.557, 0.856, 0.168]]: 100%|██████████| 100/100 [00:36<00:00,  2.73it/s]\n"
     ]
    },
    {
     "name": "stdout",
     "output_type": "stream",
     "text": [
      "[[1.3858467397423797, 0.5572103160188885, 0.16579528339768002, 0.570371362843372], [1.1160744912865672, 0.6890816079428502, 0.12849761386121175, 0.7213563328445958]]\n",
      "Setting seed: 5\n",
      "[67, 33, 64, 1]\n"
     ]
    },
    {
     "name": "stderr",
     "output_type": "stream",
     "text": [
      "Loss: 0.126, train rmse: 0.862, val rmse: 1.29, test rmse: 1.367, top: [1.29 >= 1.245 [1.309, 0.33, 0.595, 0.873, 0.159]]: 100%|██████████| 100/100 [00:35<00:00,  2.85it/s]  \n"
     ]
    },
    {
     "name": "stdout",
     "output_type": "stream",
     "text": [
      "[[1.3091123857596638, 0.5951960895391937, 0.1488776908287731, 0.6781561943181069], [1.1024052230660166, 0.6724017933735817, 0.12885980705720537, 0.7717694295645767]]\n",
      "Setting seed: 6\n",
      "[67, 33, 64, 1]\n"
     ]
    },
    {
     "name": "stderr",
     "output_type": "stream",
     "text": [
      "Loss: 0.134, train rmse: 0.876, val rmse: 1.389, test rmse: 1.174, top: [1.389 >= 1.287 [1.246, 0.368, 0.642, 0.899, 0.151]]: 100%|██████████| 100/100 [00:34<00:00,  2.89it/s]\n"
     ]
    },
    {
     "name": "stdout",
     "output_type": "stream",
     "text": [
      "[[1.246338190393767, 0.6416029875570758, 0.18221547166819785, 0.7564733604453099], [1.0999548628637152, 0.6911079380521253, 0.15328988277460162, 0.8103187520766967]]\n",
      "Setting seed: 7\n",
      "[67, 33, 64, 1]\n"
     ]
    },
    {
     "name": "stderr",
     "output_type": "stream",
     "text": [
      "Loss: 0.12, train rmse: 0.877, val rmse: 1.332, test rmse: 1.233, top: [1.332 >= 1.292 [1.249, 0.36, 0.634, 0.889, 0.151]]: 100%|██████████| 100/100 [00:35<00:00,  2.83it/s] \n"
     ]
    },
    {
     "name": "stdout",
     "output_type": "stream",
     "text": [
      "[[1.249177641427743, 0.6339769210933471, 0.16408814401029484, 0.7099465684363091], [0.9830992008765316, 0.7420867715317174, 0.1161650235229101, 0.8203512129258018]]\n",
      "Setting seed: 8\n",
      "[67, 33, 64, 1]\n"
     ]
    },
    {
     "name": "stderr",
     "output_type": "stream",
     "text": [
      "Loss: 0.144, train rmse: 0.892, val rmse: 1.222, test rmse: 1.355, top: [1.222 >= 1.176 [1.414, 0.3, 0.565, 0.862, 0.171]]: 100%|██████████| 100/100 [00:36<00:00,  2.73it/s] \n"
     ]
    },
    {
     "name": "stdout",
     "output_type": "stream",
     "text": [
      "[[1.4139244489981488, 0.5645284385631314, 0.15663019121839583, 0.6347928050526757], [1.270953702524977, 0.6203836651273494, 0.14362053506654443, 0.7049155134996912]]\n",
      "Setting seed: 9\n",
      "[67, 33, 64, 1]\n"
     ]
    },
    {
     "name": "stderr",
     "output_type": "stream",
     "text": [
      "Loss: 0.128, train rmse: 0.886, val rmse: 1.489, test rmse: 1.335, top: [1.489 >= 1.325 [1.33, 0.301, 0.569, 0.877, 0.161]]: 100%|██████████| 100/100 [00:34<00:00,  2.87it/s]\n"
     ]
    },
    {
     "name": "stdout",
     "output_type": "stream",
     "text": [
      "[[1.3304942784158516, 0.5687680020947892, 0.15933572652242367, 0.5732614187025882], [1.078714688028831, 0.7149122807017544, 0.12038634346224462, 0.719489533159755]]\n"
     ]
    },
    {
     "name": "stderr",
     "output_type": "stream",
     "text": [
      "2198937 (954): 100%|██████████| 152/152 [00:23<00:00,  6.39it/s]\n"
     ]
    },
    {
     "name": "stdout",
     "output_type": "stream",
     "text": [
      "Number of features: 64\n",
      "Number of fields: 152\n",
      "Number of points (field 0): 1815\n",
      "Number of connections (field 0): 15375\n",
      "Setting seed: 0\n",
      "[64, 32, 64, 1]\n"
     ]
    },
    {
     "name": "stderr",
     "output_type": "stream",
     "text": [
      "Loss: 0.144, train rmse: 0.938, val rmse: 1.474, test rmse: 1.361, top: [1.474 >= 1.37 [1.177, 0.381, 0.644, 0.912, 0.143]]: 100%|██████████| 100/100 [00:35<00:00,  2.82it/s]\n"
     ]
    },
    {
     "name": "stdout",
     "output_type": "stream",
     "text": [
      "[[1.1766109547244512, 0.643613178805867, 0.1349634204773928, 0.634091181298845], [1.0640212412282215, 0.7236565218756871, 0.12205631867773262, 0.7007682329081111]]\n",
      "Setting seed: 1\n",
      "[64, 32, 64, 1]\n"
     ]
    },
    {
     "name": "stderr",
     "output_type": "stream",
     "text": [
      "Loss: 0.114, train rmse: 0.857, val rmse: 1.29, test rmse: 1.387, top: [1.29 >= 1.202 [1.38, 0.32, 0.57, 0.857, 0.167]]: 100%|██████████| 100/100 [00:35<00:00,  2.85it/s]    \n"
     ]
    },
    {
     "name": "stdout",
     "output_type": "stream",
     "text": [
      "[[1.3799071945055714, 0.5698359111250687, 0.17062841720014815, 0.6235081476362676], [1.0834085676278191, 0.7002747899819424, 0.131523878300885, 0.7679185893595957]]\n",
      "Setting seed: 2\n",
      "[64, 32, 64, 1]\n"
     ]
    },
    {
     "name": "stderr",
     "output_type": "stream",
     "text": [
      "Loss: 0.124, train rmse: 0.868, val rmse: 1.474, test rmse: 1.49, top: [1.474 >= 1.396 [1.348, 0.333, 0.581, 0.86, 0.163]]: 100%|██████████| 100/100 [00:35<00:00,  2.81it/s] \n"
     ]
    },
    {
     "name": "stdout",
     "output_type": "stream",
     "text": [
      "[[1.347627209017596, 0.581081081081081, 0.16980617105999618, 0.5914551672018771], [1.1420676773768301, 0.6568307189743906, 0.1452437577689669, 0.7065839536614601]]\n",
      "Setting seed: 3\n",
      "[64, 32, 64, 1]\n"
     ]
    },
    {
     "name": "stderr",
     "output_type": "stream",
     "text": [
      "Loss: 0.125, train rmse: 0.856, val rmse: 1.279, test rmse: 1.137, top: [1.279 >= 1.234 [1.121, 0.373, 0.667, 0.924, 0.136]]: 100%|██████████| 100/100 [00:36<00:00,  2.76it/s]\n"
     ]
    },
    {
     "name": "stdout",
     "output_type": "stream",
     "text": [
      "[[1.1214553076114562, 0.6674866748667486, 0.11259713217584473, 0.6889439285953947], [0.9976067363032463, 0.7408610086100861, 0.10100050687434878, 0.753853600632274]]\n",
      "Setting seed: 4\n",
      "[64, 32, 64, 1]\n"
     ]
    },
    {
     "name": "stderr",
     "output_type": "stream",
     "text": [
      "Loss: 0.128, train rmse: 0.885, val rmse: 1.145, test rmse: 1.424, top: [1.145 >= 1.107 [1.388, 0.301, 0.546, 0.848, 0.168]]: 100%|██████████| 100/100 [00:36<00:00,  2.72it/s]\n"
     ]
    },
    {
     "name": "stdout",
     "output_type": "stream",
     "text": [
      "[[1.3877818787005824, 0.5464644630100497, 0.16363976992508306, 0.5691706938956282], [1.1164875566216903, 0.6798795253662671, 0.12841820202596402, 0.7211500395552815]]\n",
      "Setting seed: 5\n",
      "[64, 32, 64, 1]\n"
     ]
    },
    {
     "name": "stderr",
     "output_type": "stream",
     "text": [
      "Loss: 0.131, train rmse: 0.869, val rmse: 1.36, test rmse: 1.391, top: [1.36 >= 1.275 [1.361, 0.288, 0.545, 0.863, 0.165]]: 100%|██████████| 100/100 [00:35<00:00,  2.85it/s] \n"
     ]
    },
    {
     "name": "stdout",
     "output_type": "stream",
     "text": [
      "[[1.3605230087327251, 0.5445349044235469, 0.1512539096294332, 0.6523813465183308], [1.093996802176891, 0.6932003949306443, 0.12716728053971735, 0.7752377368587732]]\n",
      "Setting seed: 6\n",
      "[64, 32, 64, 1]\n"
     ]
    },
    {
     "name": "stderr",
     "output_type": "stream",
     "text": [
      "Loss: 0.136, train rmse: 0.882, val rmse: 1.252, test rmse: 1.206, top: [1.252 >= 1.201 [1.224, 0.389, 0.651, 0.902, 0.148]]: 100%|██████████| 100/100 [00:34<00:00,  2.90it/s]\n"
     ]
    },
    {
     "name": "stdout",
     "output_type": "stream",
     "text": [
      "[[1.22410438527703, 0.6505468296433446, 0.18619531820292154, 0.7650845515636434], [1.0587896883214258, 0.7051042663695847, 0.14590486604824332, 0.8242505089119952]]\n",
      "Setting seed: 7\n",
      "[64, 32, 64, 1]\n"
     ]
    },
    {
     "name": "stderr",
     "output_type": "stream",
     "text": [
      "Loss: 0.121, train rmse: 0.868, val rmse: 1.309, test rmse: 1.19, top: [1.309 >= 1.269 [1.192, 0.372, 0.636, 0.904, 0.144]]: 100%|██████████| 100/100 [00:35<00:00,  2.86it/s]\n"
     ]
    },
    {
     "name": "stdout",
     "output_type": "stream",
     "text": [
      "[[1.1917131280883544, 0.635959257349149, 0.16116750382388115, 0.7360187685782571], [0.9609355796081636, 0.7580743940175348, 0.11498535880952274, 0.8283601402748025]]\n",
      "Setting seed: 8\n",
      "[64, 32, 64, 1]\n"
     ]
    },
    {
     "name": "stderr",
     "output_type": "stream",
     "text": [
      "Loss: 0.122, train rmse: 0.864, val rmse: 1.348, test rmse: 1.228, top: [1.348 >= 1.289 [1.205, 0.332, 0.618, 0.903, 0.146]]: 100%|██████████| 100/100 [00:36<00:00,  2.74it/s]\n"
     ]
    },
    {
     "name": "stdout",
     "output_type": "stream",
     "text": [
      "[[1.2047940968391209, 0.6177577709651131, 0.1426998970820952, 0.7348372108901176], [1.0911212199888145, 0.6897693611186568, 0.12439120345575262, 0.7825131913734917]]\n",
      "Setting seed: 9\n",
      "[64, 32, 64, 1]\n"
     ]
    },
    {
     "name": "stderr",
     "output_type": "stream",
     "text": [
      "Loss: 0.129, train rmse: 0.879, val rmse: 1.287, test rmse: 1.283, top: [1.287 >= 1.234 [1.355, 0.295, 0.56, 0.866, 0.164]]: 100%|██████████| 100/100 [00:35<00:00,  2.85it/s]\n"
     ]
    },
    {
     "name": "stdout",
     "output_type": "stream",
     "text": [
      "[[1.354554079118613, 0.5596687614558785, 0.15601611224174222, 0.5576881411505479], [0.9652167564388702, 0.7516201885310291, 0.10998144415675698, 0.7754124941808639]]\n"
     ]
    },
    {
     "name": "stderr",
     "output_type": "stream",
     "text": [
      "2198937 (954): 100%|██████████| 152/152 [00:22<00:00,  6.67it/s]\n"
     ]
    },
    {
     "name": "stdout",
     "output_type": "stream",
     "text": [
      "Number of features: 64\n",
      "Number of fields: 152\n",
      "Number of points (field 0): 1815\n",
      "Number of connections (field 0): 15375\n",
      "Setting seed: 0\n",
      "[64, 32, 64, 1]\n"
     ]
    },
    {
     "name": "stderr",
     "output_type": "stream",
     "text": [
      "Loss: 0.128, train rmse: 0.91, val rmse: 1.472, test rmse: 1.204, top: [1.472 >= 1.322 [1.277, 0.333, 0.602, 0.896, 0.155]]: 100%|██████████| 100/100 [00:35<00:00,  2.80it/s]\n"
     ]
    },
    {
     "name": "stdout",
     "output_type": "stream",
     "text": [
      "[[1.2769116518302024, 0.6019975501743146, 0.14429275645225167, 0.5690480985395232], [1.1216621847608947, 0.6959389428059927, 0.1288273879668426, 0.6674696737615999]]\n",
      "Setting seed: 1\n",
      "[64, 32, 64, 1]\n"
     ]
    },
    {
     "name": "stderr",
     "output_type": "stream",
     "text": [
      "Loss: 0.121, train rmse: 0.87, val rmse: 1.314, test rmse: 1.307, top: [1.314 >= 1.253 [1.398, 0.33, 0.594, 0.858, 0.169]]: 100%|██████████| 100/100 [00:35<00:00,  2.83it/s] \n"
     ]
    },
    {
     "name": "stdout",
     "output_type": "stream",
     "text": [
      "[[1.3975928227151333, 0.5941587500981392, 0.17479448723766994, 0.6137956620914649], [1.0375346900261229, 0.7109994504200361, 0.129134526501837, 0.7871561643380001]]\n",
      "Setting seed: 2\n",
      "[64, 32, 64, 1]\n"
     ]
    },
    {
     "name": "stderr",
     "output_type": "stream",
     "text": [
      "Loss: 0.107, train rmse: 0.836, val rmse: 1.303, test rmse: 1.569, top: [1.303 >= 1.269 [1.42, 0.324, 0.569, 0.845, 0.172]]: 100%|██████████| 100/100 [00:35<00:00,  2.80it/s]\n"
     ]
    },
    {
     "name": "stdout",
     "output_type": "stream",
     "text": [
      "[[1.4201466345282978, 0.5692163086689883, 0.17841235247114196, 0.546302320510591], [1.133618296471303, 0.650605565656877, 0.1479824090882519, 0.7109094644722715]]\n",
      "Setting seed: 3\n",
      "[64, 32, 64, 1]\n"
     ]
    },
    {
     "name": "stderr",
     "output_type": "stream",
     "text": [
      "Loss: 0.119, train rmse: 0.838, val rmse: 1.281, test rmse: 1.232, top: [1.281 >= 1.227 [1.195, 0.336, 0.617, 0.915, 0.145]]: 100%|██████████| 100/100 [00:36<00:00,  2.74it/s]\n"
     ]
    },
    {
     "name": "stdout",
     "output_type": "stream",
     "text": [
      "[[1.194520915772725, 0.6172857728577286, 0.11870918142215793, 0.647091386569479], [0.939305128728193, 0.763050430504305, 0.09301707972737108, 0.7817832273060349]]\n",
      "Setting seed: 4\n",
      "[64, 32, 64, 1]\n"
     ]
    },
    {
     "name": "stderr",
     "output_type": "stream",
     "text": [
      "Loss: 0.126, train rmse: 0.886, val rmse: 1.138, test rmse: 1.242, top: [1.138 >= 1.114 [1.26, 0.325, 0.589, 0.892, 0.153]]: 100%|██████████| 100/100 [00:36<00:00,  2.71it/s]\n"
     ]
    },
    {
     "name": "stdout",
     "output_type": "stream",
     "text": [
      "[[1.2604618669517527, 0.5890089599225088, 0.15903238611530618, 0.6445960619669202], [1.0766193683311627, 0.6882794527182468, 0.12597932936970357, 0.7407091509348609]]\n",
      "Setting seed: 5\n",
      "[64, 32, 64, 1]\n"
     ]
    },
    {
     "name": "stderr",
     "output_type": "stream",
     "text": [
      "Loss: 0.116, train rmse: 0.841, val rmse: 1.365, test rmse: 1.356, top: [1.365 >= 1.275 [1.376, 0.301, 0.55, 0.857, 0.167]]: 100%|██████████| 100/100 [00:35<00:00,  2.83it/s]\n"
     ]
    },
    {
     "name": "stdout",
     "output_type": "stream",
     "text": [
      "[[1.3758359358762988, 0.5504426784066815, 0.14900669920638113, 0.6445122916531772], [1.0875342328936122, 0.6768852273279057, 0.12570025360641335, 0.7778853705517399]]\n",
      "Setting seed: 6\n",
      "[64, 32, 64, 1]\n"
     ]
    },
    {
     "name": "stderr",
     "output_type": "stream",
     "text": [
      "Loss: 0.122, train rmse: 0.848, val rmse: 1.373, test rmse: 1.499, top: [1.373 >= 1.316 [1.547, 0.304, 0.543, 0.821, 0.187]]: 100%|██████████| 100/100 [00:34<00:00,  2.90it/s]\n"
     ]
    },
    {
     "name": "stdout",
     "output_type": "stream",
     "text": [
      "[[1.546756583293529, 0.542859832734462, 0.2673693513232283, 0.6249245695198691], [1.1793288821292307, 0.6532927460733395, 0.16639470018858732, 0.7819557997069129]]\n",
      "Setting seed: 7\n",
      "[64, 32, 64, 1]\n"
     ]
    },
    {
     "name": "stderr",
     "output_type": "stream",
     "text": [
      "Loss: 0.124, train rmse: 0.879, val rmse: 1.385, test rmse: 1.261, top: [1.385 >= 1.331 [1.205, 0.355, 0.655, 0.908, 0.146]]: 100%|██████████| 100/100 [00:35<00:00,  2.82it/s]\n"
     ]
    },
    {
     "name": "stdout",
     "output_type": "stream",
     "text": [
      "[[1.2050283476098167, 0.6547995100567303, 0.14772519087990393, 0.7300867961270899], [0.9494349213433542, 0.7695332645693657, 0.10870989667083635, 0.8324439914342567]]\n",
      "Setting seed: 8\n",
      "[64, 32, 64, 1]\n"
     ]
    },
    {
     "name": "stderr",
     "output_type": "stream",
     "text": [
      "Loss: 0.114, train rmse: 0.832, val rmse: 1.329, test rmse: 1.186, top: [1.329 >= 1.273 [1.265, 0.311, 0.59, 0.906, 0.153]]: 100%|██████████| 100/100 [00:36<00:00,  2.73it/s]\n"
     ]
    },
    {
     "name": "stdout",
     "output_type": "stream",
     "text": [
      "[[1.2654559424112333, 0.5899595120752326, 0.14656398695732478, 0.7074628839035138], [1.0740760007506562, 0.7127685720568642, 0.11985765090024447, 0.7892551637554459]]\n",
      "Setting seed: 9\n",
      "[64, 32, 64, 1]\n"
     ]
    },
    {
     "name": "stderr",
     "output_type": "stream",
     "text": [
      "Loss: 0.115, train rmse: 0.843, val rmse: 1.284, test rmse: 1.467, top: [1.284 >= 1.211 [1.411, 0.318, 0.578, 0.842, 0.171]]: 100%|██████████| 100/100 [00:35<00:00,  2.85it/s]\n"
     ]
    },
    {
     "name": "stdout",
     "output_type": "stream",
     "text": [
      "[[1.4110085357289937, 0.5776708562450903, 0.15974292047127275, 0.5200509145487492], [1.001287982789223, 0.7212621105001309, 0.11558757106230515, 0.7583126642283835]]\n"
     ]
    },
    {
     "name": "stderr",
     "output_type": "stream",
     "text": [
      "2198937 (954): 100%|██████████| 152/152 [00:23<00:00,  6.55it/s]\n"
     ]
    },
    {
     "name": "stdout",
     "output_type": "stream",
     "text": [
      "Number of features: 65\n",
      "Number of fields: 152\n",
      "Number of points (field 0): 1815\n",
      "Number of connections (field 0): 15375\n",
      "Setting seed: 0\n",
      "[65, 32, 64, 1]\n"
     ]
    },
    {
     "name": "stderr",
     "output_type": "stream",
     "text": [
      "Loss: 0.106, train rmse: 0.823, val rmse: 1.479, test rmse: 1.145, top: [1.479 >= 1.325 [1.101, 0.382, 0.668, 0.925, 0.133]]: 100%|██████████| 100/100 [00:35<00:00,  2.81it/s]\n"
     ]
    },
    {
     "name": "stdout",
     "output_type": "stream",
     "text": [
      "[[1.1008191197815396, 0.6677188353905588, 0.13185907262500524, 0.6797132080057198], [1.0116531999486855, 0.7295612299381262, 0.11357001092208958, 0.7294980373191424]]\n",
      "Setting seed: 1\n",
      "[65, 32, 64, 1]\n"
     ]
    },
    {
     "name": "stderr",
     "output_type": "stream",
     "text": [
      "Loss: 0.095, train rmse: 0.796, val rmse: 1.121, test rmse: 1.165, top: [1.121 >= 1.105 [1.169, 0.366, 0.659, 0.912, 0.142]]: 100%|██████████| 100/100 [00:35<00:00,  2.84it/s]\n"
     ]
    },
    {
     "name": "stdout",
     "output_type": "stream",
     "text": [
      "[[1.1694495246930725, 0.6591662086833634, 0.13772727640522997, 0.7295924660030167], [0.9120654642702559, 0.7761796341367669, 0.10729531874005918, 0.8355219885182401]]\n",
      "Setting seed: 2\n",
      "[65, 32, 64, 1]\n"
     ]
    },
    {
     "name": "stderr",
     "output_type": "stream",
     "text": [
      "Loss: 0.107, train rmse: 0.817, val rmse: 1.117, test rmse: 1.367, top: [1.117 >= 1.074 [1.333, 0.338, 0.597, 0.876, 0.162]]: 100%|██████████| 100/100 [00:35<00:00,  2.82it/s]\n"
     ]
    },
    {
     "name": "stdout",
     "output_type": "stream",
     "text": [
      "[[1.3329714939119568, 0.5971370458257573, 0.1609020106630003, 0.600292861955358], [1.059080197505952, 0.6883108878547876, 0.13243221442485803, 0.7476763980619077]]\n",
      "Setting seed: 3\n",
      "[65, 32, 64, 1]\n"
     ]
    },
    {
     "name": "stderr",
     "output_type": "stream",
     "text": [
      "Loss: 0.106, train rmse: 0.801, val rmse: 1.227, test rmse: 1.127, top: [1.227 >= 1.158 [1.075, 0.408, 0.702, 0.926, 0.13]]: 100%|██████████| 100/100 [00:36<00:00,  2.77it/s]\n"
     ]
    },
    {
     "name": "stdout",
     "output_type": "stream",
     "text": [
      "[[1.075399634945151, 0.7024518245182452, 0.10437297696319388, 0.7139680738664468], [0.8881184379423644, 0.7995735957359573, 0.08585622203531801, 0.8049183078545403]]\n",
      "Setting seed: 4\n",
      "[65, 32, 64, 1]\n"
     ]
    },
    {
     "name": "stderr",
     "output_type": "stream",
     "text": [
      "Loss: 0.098, train rmse: 0.803, val rmse: 1.099, test rmse: 1.215, top: [1.099 >= 1.07 [1.223, 0.354, 0.625, 0.896, 0.148]]: 100%|██████████| 100/100 [00:36<00:00,  2.72it/s]\n"
     ]
    },
    {
     "name": "stdout",
     "output_type": "stream",
     "text": [
      "[[1.223375278287417, 0.6247124349194818, 0.1375327890469773, 0.6652024948033401], [1.0241268393938159, 0.7158100254268072, 0.11678557588353501, 0.765377148530106]]\n",
      "Setting seed: 5\n",
      "[65, 32, 64, 1]\n"
     ]
    },
    {
     "name": "stderr",
     "output_type": "stream",
     "text": [
      "Loss: 0.11, train rmse: 0.789, val rmse: 1.268, test rmse: 1.261, top: [1.268 >= 1.162 [1.348, 0.281, 0.525, 0.869, 0.163]]: 100%|██████████| 100/100 [00:34<00:00,  2.86it/s]\n"
     ]
    },
    {
     "name": "stdout",
     "output_type": "stream",
     "text": [
      "[[1.348326525851271, 0.5252091999417315, 0.14516963494414428, 0.6585859035986723], [1.0175245261298458, 0.7150025087807326, 0.1148974794194061, 0.8055620365578111]]\n",
      "Setting seed: 6\n",
      "[65, 32, 64, 1]\n"
     ]
    },
    {
     "name": "stderr",
     "output_type": "stream",
     "text": [
      "Loss: 0.1, train rmse: 0.796, val rmse: 1.491, test rmse: 1.317, top: [1.491 >= 1.309 [1.335, 0.366, 0.639, 0.889, 0.162]]: 100%|██████████| 100/100 [00:34<00:00,  2.90it/s] \n"
     ]
    },
    {
     "name": "stdout",
     "output_type": "stream",
     "text": [
      "[[1.3347839480635373, 0.638857071127081, 0.16899054718656645, 0.7206834812415708], [1.0659494104520248, 0.7150209474196231, 0.134821076195834, 0.8218655744591431]]\n",
      "Setting seed: 7\n",
      "[65, 32, 64, 1]\n"
     ]
    },
    {
     "name": "stderr",
     "output_type": "stream",
     "text": [
      "Loss: 0.115, train rmse: 0.843, val rmse: 1.541, test rmse: 1.129, top: [1.541 >= 1.403 [1.127, 0.391, 0.68, 0.923, 0.137]]: 100%|██████████| 100/100 [00:35<00:00,  2.84it/s]\n"
     ]
    },
    {
     "name": "stdout",
     "output_type": "stream",
     "text": [
      "[[1.126897048589473, 0.6803603661681279, 0.13098976731058942, 0.7639532169334656], [0.8763325070271676, 0.7991716090768437, 0.09677002047212768, 0.8572528497370777]]\n",
      "Setting seed: 8\n",
      "[65, 32, 64, 1]\n"
     ]
    },
    {
     "name": "stderr",
     "output_type": "stream",
     "text": [
      "Loss: 0.102, train rmse: 0.795, val rmse: 1.162, test rmse: 1.392, top: [1.162 >= 1.127 [1.223, 0.32, 0.577, 0.911, 0.148]]: 100%|██████████| 100/100 [00:36<00:00,  2.73it/s]\n"
     ]
    },
    {
     "name": "stdout",
     "output_type": "stream",
     "text": [
      "[[1.2227510718316157, 0.577321587954519, 0.14885683489100543, 0.7268740147314343], [0.9851500084245135, 0.7480435148175456, 0.10886740177601813, 0.8227069760941219]]\n",
      "Setting seed: 9\n",
      "[65, 32, 64, 1]\n"
     ]
    },
    {
     "name": "stderr",
     "output_type": "stream",
     "text": [
      "Loss: 0.105, train rmse: 0.806, val rmse: 1.38, test rmse: 1.167, top: [1.38 >= 1.291 [1.25, 0.329, 0.592, 0.888, 0.151]]: 100%|██████████| 100/100 [00:35<00:00,  2.85it/s] \n"
     ]
    },
    {
     "name": "stdout",
     "output_type": "stream",
     "text": [
      "[[1.2499982313059848, 0.5923998428908092, 0.1400535487739153, 0.6233355061528297], [0.9609634411010755, 0.7470869337522912, 0.10591569725712226, 0.7773874636322837]]\n"
     ]
    },
    {
     "name": "stderr",
     "output_type": "stream",
     "text": [
      "2198937 (954): 100%|██████████| 152/152 [00:22<00:00,  6.76it/s]\n"
     ]
    },
    {
     "name": "stdout",
     "output_type": "stream",
     "text": [
      "Number of features: 65\n",
      "Number of fields: 152\n",
      "Number of points (field 0): 1815\n",
      "Number of connections (field 0): 15375\n",
      "Setting seed: 0\n",
      "[65, 32, 64, 1]\n"
     ]
    },
    {
     "name": "stderr",
     "output_type": "stream",
     "text": [
      "Loss: 0.1, train rmse: 0.772, val rmse: 1.028, test rmse: 1.022, top: [1.028 >= 1.028 [1.022, 0.404, 0.701, 0.947, 0.124]]: 100%|██████████| 100/100 [00:35<00:00,  2.80it/s] \n"
     ]
    },
    {
     "name": "stdout",
     "output_type": "stream",
     "text": [
      "[[1.022458707485279, 0.7012940104902792, 0.10958552994011117, 0.7236886930495852], [0.9261765174166103, 0.7645026539778259, 0.10133176278232235, 0.7732774943874006]]\n",
      "Setting seed: 1\n",
      "[65, 32, 64, 1]\n"
     ]
    },
    {
     "name": "stderr",
     "output_type": "stream",
     "text": [
      "Loss: 0.086, train rmse: 0.743, val rmse: 1.042, test rmse: 1.024, top: [1.042 >= 1.006 [1.076, 0.35, 0.664, 0.946, 0.13]]: 100%|██████████| 100/100 [00:35<00:00,  2.84it/s] \n"
     ]
    },
    {
     "name": "stdout",
     "output_type": "stream",
     "text": [
      "[[1.0757682915744755, 0.6644892831907042, 0.13265606063696905, 0.7711803575400464], [0.886910169873082, 0.7755201381801052, 0.10198583205893802, 0.8444696698748516]]\n",
      "Setting seed: 2\n",
      "[65, 32, 64, 1]\n"
     ]
    },
    {
     "name": "stderr",
     "output_type": "stream",
     "text": [
      "Loss: 0.084, train rmse: 0.722, val rmse: 1.029, test rmse: 1.109, top: [1.029 >= 1.007 [1.11, 0.397, 0.681, 0.935, 0.135]]: 100%|██████████| 100/100 [00:35<00:00,  2.81it/s]\n"
     ]
    },
    {
     "name": "stdout",
     "output_type": "stream",
     "text": [
      "[[1.109839581831472, 0.6810071188634472, 0.1313588289956484, 0.7229101615976758], [0.8735088582887574, 0.7895928996271071, 0.10511962155937456, 0.8283535573379472]]\n",
      "Setting seed: 3\n",
      "[65, 32, 64, 1]\n"
     ]
    },
    {
     "name": "stderr",
     "output_type": "stream",
     "text": [
      "Loss: 0.091, train rmse: 0.728, val rmse: 1.113, test rmse: 1.058, top: [1.113 >= 1.064 [0.991, 0.433, 0.724, 0.951, 0.12]]: 100%|██████████| 100/100 [00:36<00:00,  2.76it/s]\n"
     ]
    },
    {
     "name": "stdout",
     "output_type": "stream",
     "text": [
      "[[0.990863086052144, 0.7239032390323903, 0.09717355249749364, 0.7571701676981026], [0.8447419924531719, 0.8162525625256253, 0.08055934279152727, 0.8235088599119731]]\n",
      "Setting seed: 4\n",
      "[65, 32, 64, 1]\n"
     ]
    },
    {
     "name": "stderr",
     "output_type": "stream",
     "text": [
      "Loss: 0.091, train rmse: 0.742, val rmse: 1.114, test rmse: 1.136, top: [1.114 >= 1.082 [1.185, 0.328, 0.608, 0.914, 0.144]]: 100%|██████████| 100/100 [00:36<00:00,  2.74it/s]\n"
     ]
    },
    {
     "name": "stdout",
     "output_type": "stream",
     "text": [
      "[[1.1854954075640642, 0.6079731202324736, 0.13265179850547276, 0.6856144585193245], [1.0100804300988646, 0.7122532994309239, 0.11410915367040383, 0.7717689508337312]]\n",
      "Setting seed: 5\n",
      "[65, 32, 64, 1]\n"
     ]
    },
    {
     "name": "stderr",
     "output_type": "stream",
     "text": [
      "Loss: 0.09, train rmse: 0.735, val rmse: 1.124, test rmse: 1.116, top: [1.124 >= 1.049 [1.198, 0.345, 0.607, 0.901, 0.145]]: 100%|██████████| 100/100 [00:35<00:00,  2.84it/s]\n"
     ]
    },
    {
     "name": "stdout",
     "output_type": "stream",
     "text": [
      "[[1.197922917542761, 0.6072058656912096, 0.12546174612168012, 0.7305060385865842], [0.9850636504525707, 0.7126070278231876, 0.1106219378113937, 0.8177699986034124]]\n",
      "Setting seed: 6\n",
      "[65, 32, 64, 1]\n"
     ]
    },
    {
     "name": "stderr",
     "output_type": "stream",
     "text": [
      "Loss: 0.093, train rmse: 0.747, val rmse: 1.19, test rmse: 1.117, top: [1.19 >= 1.057 [1.054, 0.437, 0.707, 0.942, 0.128]]: 100%|██████████| 100/100 [00:34<00:00,  2.92it/s] \n"
     ]
    },
    {
     "name": "stdout",
     "output_type": "stream",
     "text": [
      "[[1.0540648428032586, 0.7066733614724389, 0.1330834654453257, 0.8258155721155632], [0.8954138062188203, 0.7651849178578713, 0.11767546661910717, 0.8743037726594514]]\n",
      "Setting seed: 7\n",
      "[65, 32, 64, 1]\n"
     ]
    },
    {
     "name": "stderr",
     "output_type": "stream",
     "text": [
      "Loss: 0.108, train rmse: 0.807, val rmse: 1.239, test rmse: 0.974, top: [1.239 >= 1.089 [1.036, 0.436, 0.723, 0.942, 0.126]]: 100%|██████████| 100/100 [00:35<00:00,  2.82it/s]\n"
     ]
    },
    {
     "name": "stdout",
     "output_type": "stream",
     "text": [
      "[[1.0357683693665964, 0.7233271015987622, 0.11945909743168384, 0.8005863458890313], [0.8598042916517996, 0.812354951005673, 0.09315107826793532, 0.8625866839033476]]\n",
      "Setting seed: 8\n",
      "[65, 32, 64, 1]\n"
     ]
    },
    {
     "name": "stderr",
     "output_type": "stream",
     "text": [
      "Loss: 0.106, train rmse: 0.803, val rmse: 1.232, test rmse: 1.166, top: [1.232 >= 1.126 [1.037, 0.384, 0.714, 0.943, 0.126]]: 100%|██████████| 100/100 [00:36<00:00,  2.75it/s]\n"
     ]
    },
    {
     "name": "stdout",
     "output_type": "stream",
     "text": [
      "[[1.0366332438267607, 0.7141138577360394, 0.11828091128687693, 0.8036923695584465], [0.8790373480730376, 0.7903553365154514, 0.09255348704666182, 0.8588432756425698]]\n",
      "Setting seed: 9\n",
      "[65, 32, 64, 1]\n"
     ]
    },
    {
     "name": "stderr",
     "output_type": "stream",
     "text": [
      "Loss: 0.091, train rmse: 0.746, val rmse: 1.034, test rmse: 1.061, top: [1.034 >= 0.962 [1.094, 0.379, 0.658, 0.934, 0.133]]: 100%|██████████| 100/100 [00:35<00:00,  2.85it/s]\n"
     ]
    },
    {
     "name": "stdout",
     "output_type": "stream",
     "text": [
      "[[1.0937730614014844, 0.6579601990049752, 0.11867786433152078, 0.7116032696581542], [0.8314204606699827, 0.8093414506415292, 0.08938121948634474, 0.8333607499331962]]\n"
     ]
    },
    {
     "name": "stderr",
     "output_type": "stream",
     "text": [
      "2198937 (954): 100%|██████████| 152/152 [00:22<00:00,  6.84it/s]\n"
     ]
    },
    {
     "name": "stdout",
     "output_type": "stream",
     "text": [
      "Number of features: 65\n",
      "Number of fields: 152\n",
      "Number of points (field 0): 1815\n",
      "Number of connections (field 0): 15375\n",
      "Setting seed: 0\n",
      "[65, 32, 64, 1]\n"
     ]
    },
    {
     "name": "stderr",
     "output_type": "stream",
     "text": [
      "Loss: 0.092, train rmse: 0.729, val rmse: 1.048, test rmse: 0.998, top: [1.048 >= 0.968 [0.977, 0.452, 0.73, 0.95, 0.118]]: 100%|██████████| 100/100 [00:35<00:00,  2.81it/s] \n"
     ]
    },
    {
     "name": "stdout",
     "output_type": "stream",
     "text": [
      "[[0.9769202438877366, 0.7303464304783441, 0.10321954035455162, 0.7477534007642246], [0.8811582536725583, 0.7883727504004523, 0.09295751813352594, 0.7947822467899577]]\n",
      "Setting seed: 1\n",
      "[65, 32, 64, 1]\n"
     ]
    },
    {
     "name": "stderr",
     "output_type": "stream",
     "text": [
      "Loss: 0.08, train rmse: 0.715, val rmse: 1.026, test rmse: 0.971, top: [1.026 >= 0.993 [0.979, 0.429, 0.725, 0.955, 0.119]]: 100%|██████████| 100/100 [00:35<00:00,  2.85it/s]\n"
     ]
    },
    {
     "name": "stdout",
     "output_type": "stream",
     "text": [
      "[[0.9793263759490959, 0.7246604380937426, 0.11586012981727428, 0.8103683923111441], [0.8076767154243216, 0.818748527910811, 0.0962566441804462, 0.871017452689205]]\n",
      "Setting seed: 2\n",
      "[65, 32, 64, 1]\n"
     ]
    },
    {
     "name": "stderr",
     "output_type": "stream",
     "text": [
      "Loss: 0.088, train rmse: 0.712, val rmse: 1.079, test rmse: 1.004, top: [1.079 >= 1.02 [1.047, 0.406, 0.711, 0.945, 0.127]]: 100%|██████████| 100/100 [00:35<00:00,  2.83it/s]\n"
     ]
    },
    {
     "name": "stdout",
     "output_type": "stream",
     "text": [
      "[[1.047136052084276, 0.7109464082098061, 0.12697186098713417, 0.7533356394874673], [0.8637414190171847, 0.7843385004160375, 0.1041500229704618, 0.8321707430493365]]\n",
      "Setting seed: 3\n",
      "[65, 32, 64, 1]\n"
     ]
    },
    {
     "name": "stderr",
     "output_type": "stream",
     "text": [
      "Loss: 0.086, train rmse: 0.707, val rmse: 0.973, test rmse: 1.165, top: [0.973 >= 0.931 [1.053, 0.42, 0.696, 0.933, 0.128]]: 100%|██████████| 100/100 [00:35<00:00,  2.78it/s]\n"
     ]
    },
    {
     "name": "stdout",
     "output_type": "stream",
     "text": [
      "[[1.0527132715728638, 0.6955965559655597, 0.10142348419454025, 0.7259088976920167], [0.8338201859978921, 0.8261418614186142, 0.0780910740675143, 0.8280431223259272]]\n",
      "Setting seed: 4\n",
      "[65, 32, 64, 1]\n"
     ]
    },
    {
     "name": "stderr",
     "output_type": "stream",
     "text": [
      "Loss: 0.086, train rmse: 0.735, val rmse: 1.187, test rmse: 1.004, top: [1.187 >= 1.114 [1.062, 0.396, 0.683, 0.934, 0.129]]: 100%|██████████| 100/100 [00:36<00:00,  2.73it/s]\n"
     ]
    },
    {
     "name": "stdout",
     "output_type": "stream",
     "text": [
      "[[1.0621657685824284, 0.6830578762562054, 0.11775904069630272, 0.747624370823499], [0.8954567537595339, 0.7582031722968883, 0.10002142690890321, 0.8206290758931062]]\n",
      "Setting seed: 5\n",
      "[65, 32, 64, 1]\n"
     ]
    },
    {
     "name": "stderr",
     "output_type": "stream",
     "text": [
      "Loss: 0.086, train rmse: 0.696, val rmse: 0.991, test rmse: 1.129, top: [0.991 >= 0.962 [1.067, 0.368, 0.661, 0.937, 0.129]]: 100%|██████████| 100/100 [00:35<00:00,  2.84it/s]\n"
     ]
    },
    {
     "name": "stdout",
     "output_type": "stream",
     "text": [
      "[[1.06723570731247, 0.6612336726931356, 0.12150119357676777, 0.7860994082742473], [0.8370402746553176, 0.7946198792548111, 0.09463781802245215, 0.8684217818131168]]\n",
      "Setting seed: 6\n",
      "[65, 32, 64, 1]\n"
     ]
    },
    {
     "name": "stderr",
     "output_type": "stream",
     "text": [
      "Loss: 0.086, train rmse: 0.715, val rmse: 0.931, test rmse: 1.1, top: [0.931 >= 0.923 [1.112, 0.451, 0.725, 0.932, 0.135]]: 100%|██████████| 100/100 [00:34<00:00,  2.90it/s] \n"
     ]
    },
    {
     "name": "stdout",
     "output_type": "stream",
     "text": [
      "[[1.112399994858118, 0.7253299022453751, 0.1376050343551894, 0.8060022797045612], [0.8954677461101013, 0.7964726742087838, 0.11692967519468905, 0.8742886282759149]]\n",
      "Setting seed: 7\n",
      "[65, 32, 64, 1]\n"
     ]
    },
    {
     "name": "stderr",
     "output_type": "stream",
     "text": [
      "Loss: 0.082, train rmse: 0.705, val rmse: 1.321, test rmse: 0.952, top: [1.321 >= 1.21 [0.976, 0.434, 0.736, 0.954, 0.118]]: 100%|██████████| 100/100 [00:35<00:00,  2.82it/s]\n"
     ]
    },
    {
     "name": "stdout",
     "output_type": "stream",
     "text": [
      "[[0.9761542623426172, 0.7359302475502837, 0.11024693507086214, 0.8228804447206289], [0.8242045255671173, 0.8212190562145436, 0.08944285305260152, 0.873730170848509]]\n",
      "Setting seed: 8\n",
      "[65, 32, 64, 1]\n"
     ]
    },
    {
     "name": "stderr",
     "output_type": "stream",
     "text": [
      "Loss: 0.08, train rmse: 0.693, val rmse: 0.974, test rmse: 1.003, top: [0.974 >= 0.974 [1.003, 0.401, 0.728, 0.951, 0.122]]: 100%|██████████| 100/100 [00:36<00:00,  2.73it/s]\n"
     ]
    },
    {
     "name": "stdout",
     "output_type": "stream",
     "text": [
      "[[1.0027398447799614, 0.7283169700027164, 0.11096185153700248, 0.8163193272572512], [0.8438485196859663, 0.813897835901018, 0.08907986136758163, 0.8699183903368981]]\n",
      "Setting seed: 9\n",
      "[65, 32, 64, 1]\n"
     ]
    },
    {
     "name": "stderr",
     "output_type": "stream",
     "text": [
      "Loss: 0.09, train rmse: 0.724, val rmse: 0.902, test rmse: 0.909, top: [0.902 >= 0.88 [1.006, 0.419, 0.714, 0.954, 0.122]]: 100%|██████████| 100/100 [00:35<00:00,  2.84it/s] \n"
     ]
    },
    {
     "name": "stdout",
     "output_type": "stream",
     "text": [
      "[[1.0061012653896741, 0.7140776381251637, 0.10991946076193247, 0.7559834531815344], [0.8042978449649584, 0.8300929562712752, 0.08498321629102974, 0.8440556312888579]]\n"
     ]
    },
    {
     "name": "stderr",
     "output_type": "stream",
     "text": [
      "2198937 (954): 100%|██████████| 152/152 [00:22<00:00,  6.72it/s]\n"
     ]
    },
    {
     "name": "stdout",
     "output_type": "stream",
     "text": [
      "Number of features: 65\n",
      "Number of fields: 152\n",
      "Number of points (field 0): 1815\n",
      "Number of connections (field 0): 15375\n",
      "Setting seed: 0\n",
      "[65, 32, 64, 1]\n"
     ]
    },
    {
     "name": "stderr",
     "output_type": "stream",
     "text": [
      "Loss: 0.102, train rmse: 0.752, val rmse: 1.286, test rmse: 1.176, top: [1.286 >= 1.068 [0.959, 0.435, 0.735, 0.957, 0.116]]: 100%|██████████| 100/100 [00:35<00:00,  2.80it/s]\n"
     ]
    },
    {
     "name": "stdout",
     "output_type": "stream",
     "text": [
      "[[0.959327683896458, 0.7345079933414994, 0.10430805693102665, 0.7567566051225678], [0.8561480294832248, 0.7989415496717862, 0.09332211655483343, 0.8062664554959501]]\n",
      "Setting seed: 1\n",
      "[65, 32, 64, 1]\n"
     ]
    },
    {
     "name": "stderr",
     "output_type": "stream",
     "text": [
      "Loss: 0.087, train rmse: 0.729, val rmse: 1.116, test rmse: 0.93, top: [1.116 >= 1.09 [0.906, 0.471, 0.782, 0.964, 0.11]]: 100%|██████████| 100/100 [00:35<00:00,  2.82it/s]  \n"
     ]
    },
    {
     "name": "stdout",
     "output_type": "stream",
     "text": [
      "[[0.9060990488256079, 0.7820051817539452, 0.11345426885144447, 0.8376668660079896], [0.7666520220196209, 0.8397895893852556, 0.093885081686341, 0.8837876201173148]]\n",
      "Setting seed: 2\n",
      "[65, 32, 64, 1]\n"
     ]
    },
    {
     "name": "stderr",
     "output_type": "stream",
     "text": [
      "Loss: 0.091, train rmse: 0.73, val rmse: 1.38, test rmse: 1.238, top: [1.38 >= 1.226 [1.197, 0.399, 0.703, 0.925, 0.145]]: 100%|██████████| 100/100 [00:35<00:00,  2.80it/s]  \n"
     ]
    },
    {
     "name": "stdout",
     "output_type": "stream",
     "text": [
      "[[1.197408615875485, 0.7025023883632777, 0.13587961204189394, 0.6774589929192065], [0.8900575414386374, 0.7826435329285957, 0.10954001853365276, 0.8217882443236554]]\n",
      "Setting seed: 3\n",
      "[65, 32, 64, 1]\n"
     ]
    },
    {
     "name": "stderr",
     "output_type": "stream",
     "text": [
      "Loss: 0.096, train rmse: 0.723, val rmse: 0.964, test rmse: 1.058, top: [0.964 >= 0.924 [1.024, 0.393, 0.7, 0.952, 0.124]]: 100%|██████████| 100/100 [00:36<00:00,  2.75it/s] \n"
     ]
    },
    {
     "name": "stdout",
     "output_type": "stream",
     "text": [
      "[[1.024217700710939, 0.7001066010660106, 0.10164195015366934, 0.7405466423086895], [0.8769039735279034, 0.804050840508405, 0.08319550627847518, 0.8098138805358304]]\n",
      "Setting seed: 4\n",
      "[65, 32, 64, 1]\n"
     ]
    },
    {
     "name": "stderr",
     "output_type": "stream",
     "text": [
      "Loss: 0.088, train rmse: 0.717, val rmse: 1.165, test rmse: 1.103, top: [1.165 >= 1.102 [1.194, 0.364, 0.638, 0.905, 0.145]]: 100%|██████████| 100/100 [00:36<00:00,  2.72it/s]\n"
     ]
    },
    {
     "name": "stdout",
     "output_type": "stream",
     "text": [
      "[[1.193551814629874, 0.6381220486741737, 0.13423772093312508, 0.6813269274803115], [0.9135806213310746, 0.758218307301126, 0.10200339334619694, 0.8132947326196337]]\n",
      "Setting seed: 5\n",
      "[65, 32, 64, 1]\n"
     ]
    },
    {
     "name": "stderr",
     "output_type": "stream",
     "text": [
      "Loss: 0.091, train rmse: 0.711, val rmse: 1.011, test rmse: 1.057, top: [1.011 >= 0.961 [1.132, 0.327, 0.627, 0.926, 0.137]]: 100%|██████████| 100/100 [00:35<00:00,  2.84it/s]\n"
     ]
    },
    {
     "name": "stdout",
     "output_type": "stream",
     "text": [
      "[[1.1320326022061218, 0.6269038408623732, 0.12684557740672395, 0.7593370917860391], [0.9181632787788528, 0.7521810206691161, 0.10399599739370922, 0.8416816954401828]]\n",
      "Setting seed: 6\n",
      "[65, 32, 64, 1]\n"
     ]
    },
    {
     "name": "stderr",
     "output_type": "stream",
     "text": [
      "Loss: 0.091, train rmse: 0.725, val rmse: 0.988, test rmse: 0.968, top: [0.988 >= 0.976 [0.953, 0.483, 0.78, 0.956, 0.115]]: 100%|██████████| 100/100 [00:34<00:00,  2.89it/s]\n"
     ]
    },
    {
     "name": "stdout",
     "output_type": "stream",
     "text": [
      "[[0.9529035582192856, 0.7795735199510442, 0.12587189228883422, 0.8576450518813102], [0.8096870297094165, 0.8251557326889583, 0.10951324310753117, 0.8972199002258721]]\n",
      "Setting seed: 7\n",
      "[65, 32, 64, 1]\n"
     ]
    },
    {
     "name": "stderr",
     "output_type": "stream",
     "text": [
      "Loss: 0.096, train rmse: 0.736, val rmse: 1.173, test rmse: 1.181, top: [1.173 >= 1.123 [1.124, 0.428, 0.713, 0.913, 0.136]]: 100%|██████████| 100/100 [00:35<00:00,  2.82it/s]\n"
     ]
    },
    {
     "name": "stdout",
     "output_type": "stream",
     "text": [
      "[[1.124242789753093, 0.7126579422382672, 0.11784817252443643, 0.7650638621456618], [0.9523096943073895, 0.7639891696750902, 0.1022861451690779, 0.8314277770209388]]\n",
      "Setting seed: 8\n",
      "[65, 32, 64, 1]\n"
     ]
    },
    {
     "name": "stderr",
     "output_type": "stream",
     "text": [
      "Loss: 0.086, train rmse: 0.699, val rmse: 0.914, test rmse: 1.16, top: [0.914 >= 0.889 [1.089, 0.369, 0.649, 0.944, 0.132]]: 100%|██████████| 100/100 [00:36<00:00,  2.72it/s]\n"
     ]
    },
    {
     "name": "stdout",
     "output_type": "stream",
     "text": [
      "[[1.0894465942093656, 0.6487381479038121, 0.13153415934715998, 0.7831802657924792], [0.982724964095438, 0.7075814609285058, 0.11583293377781469, 0.8235787504723386]]\n",
      "Setting seed: 9\n",
      "[65, 32, 64, 1]\n"
     ]
    },
    {
     "name": "stderr",
     "output_type": "stream",
     "text": [
      "Loss: 0.093, train rmse: 0.722, val rmse: 1.058, test rmse: 0.918, top: [1.058 >= 0.982 [0.991, 0.477, 0.749, 0.953, 0.12]]: 100%|██████████| 100/100 [00:35<00:00,  2.84it/s]\n"
     ]
    },
    {
     "name": "stdout",
     "output_type": "stream",
     "text": [
      "[[0.9905412861904733, 0.7489198743126473, 0.10589146005062255, 0.7634728220475304], [0.8070457363279332, 0.8305184603299293, 0.08768844469056732, 0.8429882401356126]]\n"
     ]
    }
   ],
   "source": [
    "config_present = {\n",
    "    'type': \"present\",\n",
    "    'filter_yield': True,\n",
    "    'filter_wheat': True,\n",
    "    'filter_years': False,\n",
    "    'filter_weeks': None,\n",
    "    'predictors': None,\n",
    "    'target': 'yield_1',\n",
    "    'dist_thresh': 200, \n",
    "    'sparsity_thresh': None,\n",
    "    'size_thresh': None,\n",
    "    'time_scheme': None,\n",
    "    'options': [gen_option(epochs=100, seed=seed) for seed in range(10)],\n",
    "    'df': df,\n",
    "    'correlation_filters': correlation_filters,\n",
    "}\n",
    "\n",
    "for i, week in enumerate([16, 18, 20, 22, 24, 26, 28]):\n",
    "    config_present['filter_weeks'] = week\n",
    "    scores, model, data = test_run(config_present)\n",
    "    cropnet.save_score_to_json(scores, \"results_final/present_week/score\" + str(i) + \".json\")"
   ]
  },
  {
   "cell_type": "code",
   "execution_count": 12,
   "metadata": {},
   "outputs": [],
   "source": [
    "rem = [c for c in df.columns if c not in ['index', 'x', 'y', 'x_int', 'y_int', 'polygon_id', 'year', 'grdkod_mar'] and \"yield\" not in c and \"_pid\" not in c]\n",
    "\n",
    "soil = [d for d in rem if 'week' not in d]\n",
    "rem = [d for d in rem if d not in soil]\n",
    "weather = [d for d in rem if 'weather' in d]\n",
    "rem = [d for d in rem if d not in weather]\n",
    "sen1 = [d for d in rem if 'sigma' in d or 'theta' in d]\n",
    "sen2 = [d for d in rem if d not in sen1]"
   ]
  },
  {
   "cell_type": "code",
   "execution_count": 13,
   "metadata": {},
   "outputs": [
    {
     "name": "stderr",
     "output_type": "stream",
     "text": [
      "2198937 (954): 100%|██████████| 152/152 [00:23<00:00,  6.42it/s]\n"
     ]
    },
    {
     "name": "stdout",
     "output_type": "stream",
     "text": [
      "Number of features: 891\n",
      "Number of fields: 152\n",
      "Number of points (field 0): 1815\n",
      "Number of connections (field 0): 15375\n",
      "Setting seed: 0\n",
      "[891, 445, 64, 1]\n"
     ]
    },
    {
     "name": "stderr",
     "output_type": "stream",
     "text": [
      "Loss: 0.118, train rmse: 0.811, val rmse: 1.123, test rmse: 0.906, top: [1.123 >= 1.08 [0.997, 0.36, 0.699, 0.957, 0.121]]:  37%|███▋      | 37/100 [00:23<00:40,  1.56it/s]  "
     ]
    },
    {
     "name": "stderr",
     "output_type": "stream",
     "text": [
      "Loss: 0.095, train rmse: 0.747, val rmse: 1.124, test rmse: 0.921, top: [1.124 >= 0.953 [0.944, 0.408, 0.73, 0.964, 0.114]]: 100%|██████████| 100/100 [01:04<00:00,  1.55it/s]\n"
     ]
    },
    {
     "name": "stdout",
     "output_type": "stream",
     "text": [
      "[[0.9437131376314337, 0.7299381261974308, 0.1030231385034988, 0.7646104907857056], [0.8335743219242776, 0.8079556518734885, 0.08959545126406497, 0.8163479599143382]]\n",
      "Setting seed: 1\n",
      "[891, 445, 64, 1]\n"
     ]
    },
    {
     "name": "stderr",
     "output_type": "stream",
     "text": [
      "Loss: 0.084, train rmse: 0.726, val rmse: 0.964, test rmse: 0.971, top: [0.964 >= 0.917 [0.905, 0.457, 0.748, 0.973, 0.11]]: 100%|██████████| 100/100 [01:04<00:00,  1.55it/s]\n"
     ]
    },
    {
     "name": "stdout",
     "output_type": "stream",
     "text": [
      "[[0.9052372221662686, 0.7483551856795164, 0.1141127847933881, 0.8379755220850471], [0.7789282893255239, 0.8377482923765408, 0.09386675850622384, 0.8800360442179853]]\n",
      "Setting seed: 2\n",
      "[891, 445, 64, 1]\n"
     ]
    },
    {
     "name": "stderr",
     "output_type": "stream",
     "text": [
      "Loss: 0.079, train rmse: 0.683, val rmse: 0.984, test rmse: 1.046, top: [0.984 >= 0.961 [1.107, 0.404, 0.679, 0.93, 0.134]]: 100%|██████████| 100/100 [01:04<00:00,  1.54it/s]\n"
     ]
    },
    {
     "name": "stdout",
     "output_type": "stream",
     "text": [
      "[[1.1067233687805251, 0.6787882523344325, 0.12997244335679883, 0.7244640055149496], [0.8397173960040987, 0.7943850349779654, 0.10132604132948048, 0.841376882588683]]\n",
      "Setting seed: 3\n",
      "[891, 445, 64, 1]\n"
     ]
    },
    {
     "name": "stderr",
     "output_type": "stream",
     "text": [
      "Loss: 0.079, train rmse: 0.665, val rmse: 0.906, test rmse: 0.913, top: [0.906 >= 0.841 [0.866, 0.476, 0.789, 0.973, 0.105]]: 100%|██████████| 100/100 [01:04<00:00,  1.54it/s]\n"
     ]
    },
    {
     "name": "stdout",
     "output_type": "stream",
     "text": [
      "[[0.8657335121361065, 0.7893562935629357, 0.0843888555285918, 0.8146283995356705], [0.7158968982151269, 0.8789667896678967, 0.0651875715328647, 0.8732419052969326]]\n",
      "Setting seed: 4\n",
      "[891, 445, 64, 1]\n"
     ]
    },
    {
     "name": "stderr",
     "output_type": "stream",
     "text": [
      "Loss: 0.087, train rmse: 0.708, val rmse: 1.043, test rmse: 1.021, top: [1.043 >= 0.98 [1.015, 0.412, 0.697, 0.948, 0.123]]: 100%|██████████| 100/100 [01:05<00:00,  1.52it/s]\n"
     ]
    },
    {
     "name": "stdout",
     "output_type": "stream",
     "text": [
      "[[1.015486900038767, 0.6972091052185495, 0.10986199084328761, 0.7693191922431344], [0.7803545571565667, 0.836405739193607, 0.08658241528858565, 0.8637781560552684]]\n",
      "Setting seed: 5\n",
      "[891, 445, 64, 1]\n"
     ]
    },
    {
     "name": "stderr",
     "output_type": "stream",
     "text": [
      "Loss: 0.2, train rmse: 1.027, val rmse: 1.022, test rmse: 1.033, top: [1.022 >= 0.902 [0.928, 0.393, 0.723, 0.973, 0.113]]: 100%|██████████| 100/100 [01:04<00:00,  1.55it/s] \n"
     ]
    },
    {
     "name": "stdout",
     "output_type": "stream",
     "text": [
      "[[0.9283380966820475, 0.7229982357606461, 0.1041365967954594, 0.8381533786425304], [0.7485770677104022, 0.8460256057491543, 0.08500208990707196, 0.8947640009184674]]\n",
      "Setting seed: 6\n",
      "[891, 445, 64, 1]\n"
     ]
    },
    {
     "name": "stderr",
     "output_type": "stream",
     "text": [
      "Loss: 0.095, train rmse: 0.749, val rmse: 1.002, test rmse: 1.049, top: [1.002 >= 0.927 [0.971, 0.479, 0.746, 0.954, 0.118]]: 100%|██████████| 100/100 [01:03<00:00,  1.57it/s]\n"
     ]
    },
    {
     "name": "stdout",
     "output_type": "stream",
     "text": [
      "[[0.9712233226045764, 0.7459791937989362, 0.12576758103601984, 0.8521188307291974], [0.7657416317551264, 0.8417881407792126, 0.10217152880062264, 0.9080738251682594]]\n",
      "Setting seed: 7\n",
      "[891, 445, 64, 1]\n"
     ]
    },
    {
     "name": "stderr",
     "output_type": "stream",
     "text": [
      "Loss: 0.105, train rmse: 0.778, val rmse: 1.053, test rmse: 0.878, top: [1.053 >= 0.947 [0.845, 0.504, 0.803, 0.972, 0.102]]: 100%|██████████| 100/100 [01:04<00:00,  1.56it/s]\n"
     ]
    },
    {
     "name": "stdout",
     "output_type": "stream",
     "text": [
      "[[0.8454955089183956, 0.8029912325941206, 0.10071538966294623, 0.8671222660152582], [0.7260627059855355, 0.8698265858690046, 0.07707592703700883, 0.9020108787495595]]\n",
      "Setting seed: 8\n",
      "[891, 445, 64, 1]\n"
     ]
    },
    {
     "name": "stderr",
     "output_type": "stream",
     "text": [
      "Loss: 0.083, train rmse: 0.681, val rmse: 0.859, test rmse: 0.982, top: [0.859 >= 0.838 [0.953, 0.448, 0.759, 0.959, 0.116]]: 100%|██████████| 100/100 [01:05<00:00,  1.53it/s]\n"
     ]
    },
    {
     "name": "stdout",
     "output_type": "stream",
     "text": [
      "[[0.9531656174712392, 0.7588058002509476, 0.10468144619509354, 0.8340322704552166], [0.815262257609955, 0.8237158342711527, 0.08723598056005005, 0.878582414842836]]\n",
      "Setting seed: 9\n",
      "[891, 445, 64, 1]\n"
     ]
    },
    {
     "name": "stderr",
     "output_type": "stream",
     "text": [
      "Loss: 0.128, train rmse: 0.839, val rmse: 0.989, test rmse: 1.006, top: [0.989 >= 0.864 [1.057, 0.375, 0.675, 0.951, 0.128]]: 100%|██████████| 100/100 [01:04<00:00,  1.56it/s]\n"
     ]
    },
    {
     "name": "stdout",
     "output_type": "stream",
     "text": [
      "[[1.0574705067541688, 0.6754222309505106, 0.11914190581148229, 0.7304294692736755], [0.7546219567235195, 0.8498134328358209, 0.08066795366774697, 0.8627239540730343]]\n"
     ]
    },
    {
     "name": "stderr",
     "output_type": "stream",
     "text": [
      "2198937 (954): 100%|██████████| 152/152 [00:24<00:00,  6.18it/s]\n"
     ]
    },
    {
     "name": "stdout",
     "output_type": "stream",
     "text": [
      "Number of features: 839\n",
      "Number of fields: 152\n",
      "Number of points (field 0): 1815\n",
      "Number of connections (field 0): 15375\n",
      "Setting seed: 0\n",
      "[839, 419, 64, 1]\n"
     ]
    },
    {
     "name": "stderr",
     "output_type": "stream",
     "text": [
      "Loss: 0.089, train rmse: 0.714, val rmse: 1.053, test rmse: 1.103, top: [1.053 >= 0.971 [0.959, 0.451, 0.733, 0.959, 0.116]]: 100%|██████████| 100/100 [01:02<00:00,  1.60it/s]\n"
     ]
    },
    {
     "name": "stdout",
     "output_type": "stream",
     "text": [
      "[[0.9586005093834745, 0.7327805521530198, 0.10745907785025671, 0.7571252244423754], [0.8664561434855823, 0.7862684129526681, 0.09350867356623398, 0.801573225806809]]\n",
      "Setting seed: 1\n",
      "[839, 419, 64, 1]\n"
     ]
    },
    {
     "name": "stderr",
     "output_type": "stream",
     "text": [
      "Loss: 0.085, train rmse: 0.714, val rmse: 0.956, test rmse: 0.813, top: [0.956 >= 0.908 [0.888, 0.455, 0.779, 0.969, 0.108]]: 100%|██████████| 100/100 [01:02<00:00,  1.60it/s]\n"
     ]
    },
    {
     "name": "stdout",
     "output_type": "stream",
     "text": [
      "[[0.8882290481460614, 0.7791630682264269, 0.11084945445591705, 0.8440067637182119], [0.7139503055283684, 0.868540472638769, 0.08496323587841637, 0.8992159534146977]]\n",
      "Setting seed: 2\n",
      "[839, 419, 64, 1]\n"
     ]
    },
    {
     "name": "stderr",
     "output_type": "stream",
     "text": [
      "Loss: 0.188, train rmse: 1.016, val rmse: 1.096, test rmse: 1.099, top: [1.096 >= 0.987 [1.094, 0.388, 0.694, 0.937, 0.133]]: 100%|██████████| 100/100 [01:02<00:00,  1.59it/s]\n"
     ]
    },
    {
     "name": "stdout",
     "output_type": "stream",
     "text": [
      "[[1.0936335064703677, 0.6937501926099418, 0.1306856940329136, 0.7309433099048444], [0.8225986203972959, 0.808792258621221, 0.0986971796632968, 0.8477784521447204]]\n",
      "Setting seed: 3\n",
      "[839, 419, 64, 1]\n"
     ]
    },
    {
     "name": "stderr",
     "output_type": "stream",
     "text": [
      "Loss: 0.092, train rmse: 0.696, val rmse: 0.864, test rmse: 0.873, top: [0.864 >= 0.859 [0.851, 0.52, 0.809, 0.971, 0.103]]: 100%|██████████| 100/100 [01:03<00:00,  1.57it/s]\n"
     ]
    },
    {
     "name": "stdout",
     "output_type": "stream",
     "text": [
      "[[0.8513187656597524, 0.8092824928249283, 0.08083329024270887, 0.8207500040374098], [0.745839728685815, 0.864649446494465, 0.06754114424139537, 0.8624166855293187]]\n",
      "Setting seed: 4\n",
      "[839, 419, 64, 1]\n"
     ]
    },
    {
     "name": "stderr",
     "output_type": "stream",
     "text": [
      "Loss: 0.088, train rmse: 0.708, val rmse: 1.024, test rmse: 1.022, top: [1.024 >= 0.984 [1.039, 0.429, 0.695, 0.939, 0.126]]: 100%|██████████| 100/100 [01:03<00:00,  1.56it/s]\n"
     ]
    },
    {
     "name": "stdout",
     "output_type": "stream",
     "text": [
      "[[1.0391024743201873, 0.6948177745489769, 0.11351402686494508, 0.7584652786018893], [0.8261909585665473, 0.7989314687008112, 0.09219696966807933, 0.8473053964276672]]\n",
      "Setting seed: 5\n",
      "[839, 419, 64, 1]\n"
     ]
    },
    {
     "name": "stderr",
     "output_type": "stream",
     "text": [
      "Loss: 0.115, train rmse: 0.83, val rmse: 0.924, test rmse: 0.971, top: [0.924 >= 0.852 [0.969, 0.383, 0.702, 0.966, 0.117]]: 100%|██████████| 100/100 [01:02<00:00,  1.60it/s]\n"
     ]
    },
    {
     "name": "stdout",
     "output_type": "stream",
     "text": [
      "[[0.9686228970046562, 0.7021672628392923, 0.10797977779774157, 0.8238020897321308], [0.7879611478047234, 0.824644319634851, 0.0908862758794688, 0.8833993692819332]]\n",
      "Setting seed: 6\n",
      "[839, 419, 64, 1]\n"
     ]
    },
    {
     "name": "stderr",
     "output_type": "stream",
     "text": [
      "Loss: 0.1, train rmse: 0.76, val rmse: 0.984, test rmse: 1.009, top: [0.984 >= 0.896 [1.023, 0.479, 0.769, 0.936, 0.124]]: 100%|██████████| 100/100 [01:02<00:00,  1.61it/s]  \n"
     ]
    },
    {
     "name": "stdout",
     "output_type": "stream",
     "text": [
      "[[1.0231188081404048, 0.769170419419121, 0.13073714423173446, 0.8358931131094155], [0.7713186533327573, 0.8327501529867726, 0.09891195277753677, 0.9067299222524354]]\n",
      "Setting seed: 7\n",
      "[839, 419, 64, 1]\n"
     ]
    },
    {
     "name": "stderr",
     "output_type": "stream",
     "text": [
      "Loss: 0.1, train rmse: 0.748, val rmse: 1.176, test rmse: 0.933, top: [1.176 >= 1.011 [0.857, 0.498, 0.809, 0.969, 0.104]]: 100%|██████████| 100/100 [01:02<00:00,  1.60it/s] \n"
     ]
    },
    {
     "name": "stdout",
     "output_type": "stream",
     "text": [
      "[[0.856593843182076, 0.8092605724600309, 0.09472200454309909, 0.8636109512803927], [0.7296566634854297, 0.8688273594636411, 0.07984461023239207, 0.9010383998187116]]\n",
      "Setting seed: 8\n",
      "[839, 419, 64, 1]\n"
     ]
    },
    {
     "name": "stderr",
     "output_type": "stream",
     "text": [
      "Loss: 0.09, train rmse: 0.688, val rmse: 0.938, test rmse: 1.019, top: [0.938 >= 0.839 [0.988, 0.407, 0.715, 0.958, 0.12]]: 100%|██████████| 100/100 [01:03<00:00,  1.57it/s] \n"
     ]
    },
    {
     "name": "stdout",
     "output_type": "stream",
     "text": [
      "[[0.9877793012391103, 0.7154979497328832, 0.11597901664224296, 0.8217593491603786], [0.8353823548137421, 0.8144411243483772, 0.09311519016961768, 0.8725154626900067]]\n",
      "Setting seed: 9\n",
      "[839, 419, 64, 1]\n"
     ]
    },
    {
     "name": "stderr",
     "output_type": "stream",
     "text": [
      "Loss: 0.099, train rmse: 0.748, val rmse: 0.869, test rmse: 0.981, top: [0.869 >= 0.833 [0.999, 0.395, 0.704, 0.959, 0.121]]: 100%|██████████| 100/100 [01:02<00:00,  1.60it/s]\n"
     ]
    },
    {
     "name": "stdout",
     "output_type": "stream",
     "text": [
      "[[0.9985088803533535, 0.7042583136946845, 0.1130107868141252, 0.7596524221210501], [0.7282700791321421, 0.8658843938203719, 0.07681085759196561, 0.8721440859709692]]\n"
     ]
    },
    {
     "name": "stderr",
     "output_type": "stream",
     "text": [
      "2198937 (954): 100%|██████████| 152/152 [00:22<00:00,  6.63it/s]\n"
     ]
    },
    {
     "name": "stdout",
     "output_type": "stream",
     "text": [
      "Number of features: 488\n",
      "Number of fields: 152\n",
      "Number of points (field 0): 1815\n",
      "Number of connections (field 0): 15375\n",
      "Setting seed: 0\n",
      "[488, 244, 64, 1]\n"
     ]
    },
    {
     "name": "stderr",
     "output_type": "stream",
     "text": [
      "Loss: 0.16, train rmse: 0.974, val rmse: 1.203, test rmse: 1.233, top: [1.203 >= 1.166 [1.188, 0.382, 0.664, 0.909, 0.144]]: 100%|██████████| 100/100 [00:49<00:00,  2.03it/s]\n"
     ]
    },
    {
     "name": "stdout",
     "output_type": "stream",
     "text": [
      "[[1.1880369228839722, 0.6635572725274035, 0.13717319223293134, 0.6269500570492386], [1.0723151763713594, 0.7233267376487955, 0.1209831159297615, 0.696085090328312]]\n",
      "Setting seed: 1\n",
      "[488, 244, 64, 1]\n"
     ]
    },
    {
     "name": "stderr",
     "output_type": "stream",
     "text": [
      "Loss: 0.154, train rmse: 1.002, val rmse: 1.239, test rmse: 1.545, top: [1.239 >= 1.186 [1.434, 0.323, 0.589, 0.876, 0.174]]: 100%|██████████| 100/100 [00:48<00:00,  2.05it/s]\n"
     ]
    },
    {
     "name": "stdout",
     "output_type": "stream",
     "text": [
      "[[1.4342110141813422, 0.5890555075763524, 0.16739111843221724, 0.5932927343464117], [1.1999068526340344, 0.7042945748606422, 0.1294326831311498, 0.7153239761091656]]\n",
      "Setting seed: 2\n",
      "[488, 244, 64, 1]\n"
     ]
    },
    {
     "name": "stderr",
     "output_type": "stream",
     "text": [
      "Loss: 0.189, train rmse: 1.019, val rmse: 1.422, test rmse: 1.598, top: [1.422 >= 1.245 [1.487, 0.297, 0.55, 0.834, 0.18]]: 100%|██████████| 100/100 [00:49<00:00,  2.03it/s] \n"
     ]
    },
    {
     "name": "stdout",
     "output_type": "stream",
     "text": [
      "[[1.4872678072661616, 0.5500477672655552, 0.19187683612106837, 0.5024021042848461], [1.2137045221893357, 0.6149342044438966, 0.15813721677814851, 0.6686201322326497]]\n",
      "Setting seed: 3\n",
      "[488, 244, 64, 1]\n"
     ]
    },
    {
     "name": "stderr",
     "output_type": "stream",
     "text": [
      "Loss: 0.145, train rmse: 0.929, val rmse: 1.236, test rmse: 1.232, top: [1.236 >= 1.226 [1.192, 0.345, 0.63, 0.907, 0.144]]: 100%|██████████| 100/100 [00:49<00:00,  2.01it/s]\n"
     ]
    },
    {
     "name": "stdout",
     "output_type": "stream",
     "text": [
      "[[1.1915163363174794, 0.6297006970069701, 0.12373082248839855, 0.648864496468166], [1.033510534904064, 0.7216564165641657, 0.10345169041333277, 0.7358171889544602]]\n",
      "Setting seed: 4\n",
      "[488, 244, 64, 1]\n"
     ]
    },
    {
     "name": "stderr",
     "output_type": "stream",
     "text": [
      "Loss: 0.168, train rmse: 0.978, val rmse: 1.305, test rmse: 1.37, top: [1.305 >= 1.196 [1.357, 0.322, 0.566, 0.864, 0.164]]: 100%|██████████| 100/100 [00:50<00:00,  2.00it/s]\n"
     ]
    },
    {
     "name": "stdout",
     "output_type": "stream",
     "text": [
      "[[1.356851703917061, 0.5659583484683376, 0.16607756871381923, 0.5881608948292362], [1.1269280630993939, 0.6681196270734956, 0.13151380824481965, 0.7159104879838558]]\n",
      "Setting seed: 5\n",
      "[488, 244, 64, 1]\n"
     ]
    },
    {
     "name": "stderr",
     "output_type": "stream",
     "text": [
      "Loss: 0.156, train rmse: 0.93, val rmse: 1.359, test rmse: 1.293, top: [1.359 >= 1.192 [1.231, 0.321, 0.597, 0.9, 0.149]]: 100%|██████████| 100/100 [00:48<00:00,  2.05it/s]  \n"
     ]
    },
    {
     "name": "stdout",
     "output_type": "stream",
     "text": [
      "[[1.2309356662442652, 0.5967175436608776, 0.1419596475650226, 0.7154477641882604], [1.0424770965971735, 0.712250942815985, 0.12228169090300373, 0.7959087734252464]]\n",
      "Setting seed: 6\n",
      "[488, 244, 64, 1]\n"
     ]
    },
    {
     "name": "stderr",
     "output_type": "stream",
     "text": [
      "Loss: 0.176, train rmse: 1.037, val rmse: 1.351, test rmse: 1.477, top: [1.351 >= 1.166 [1.322, 0.33, 0.615, 0.891, 0.16]]: 100%|██████████| 100/100 [00:48<00:00,  2.08it/s] \n"
     ]
    },
    {
     "name": "stdout",
     "output_type": "stream",
     "text": [
      "[[1.3219770518004796, 0.6147714612982693, 0.18132729465353328, 0.7260177027868603], [1.1778083037724965, 0.6739106557248434, 0.15980309370965795, 0.7825177117421065]]\n",
      "Setting seed: 7\n",
      "[488, 244, 64, 1]\n"
     ]
    },
    {
     "name": "stderr",
     "output_type": "stream",
     "text": [
      "Loss: 0.252, train rmse: 1.175, val rmse: 1.348, test rmse: 1.243, top: [1.348 >= 1.222 [1.101, 0.388, 0.689, 0.932, 0.133]]: 100%|██████████| 100/100 [00:48<00:00,  2.06it/s]\n"
     ]
    },
    {
     "name": "stdout",
     "output_type": "stream",
     "text": [
      "[[1.1014677171139915, 0.6887248581743166, 0.14524184951543678, 0.7744861864918073], [0.9894842773585535, 0.7466316400206292, 0.11859109149432147, 0.8180100529105042]]\n",
      "Setting seed: 8\n",
      "[488, 244, 64, 1]\n"
     ]
    },
    {
     "name": "stderr",
     "output_type": "stream",
     "text": [
      "Loss: 0.14, train rmse: 0.921, val rmse: 1.172, test rmse: 1.204, top: [1.172 >= 1.147 [1.229, 0.34, 0.628, 0.907, 0.149]]: 100%|██████████| 100/100 [00:49<00:00,  2.02it/s] \n"
     ]
    },
    {
     "name": "stdout",
     "output_type": "stream",
     "text": [
      "[[1.2291490238709464, 0.6276275110921391, 0.14924876490475858, 0.7240083151029733], [1.0573452192826567, 0.7255358505698061, 0.11893257183245112, 0.7957695338558116]]\n",
      "Setting seed: 9\n",
      "[488, 244, 64, 1]\n"
     ]
    },
    {
     "name": "stderr",
     "output_type": "stream",
     "text": [
      "Loss: 0.161, train rmse: 0.989, val rmse: 1.412, test rmse: 1.248, top: [1.412 >= 1.289 [1.413, 0.343, 0.615, 0.86, 0.171]]: 100%|██████████| 100/100 [00:48<00:00,  2.06it/s]\n"
     ]
    },
    {
     "name": "stdout",
     "output_type": "stream",
     "text": [
      "[[1.4125936246479167, 0.6146406127258445, 0.1616658042624615, 0.5189719851624826], [1.1467607109472704, 0.7072204765645457, 0.1268302671463069, 0.6829837700368704]]\n"
     ]
    },
    {
     "name": "stderr",
     "output_type": "stream",
     "text": [
      "2198937 (954): 100%|██████████| 152/152 [00:23<00:00,  6.44it/s]\n"
     ]
    },
    {
     "name": "stdout",
     "output_type": "stream",
     "text": [
      "Number of features: 477\n",
      "Number of fields: 152\n",
      "Number of points (field 0): 1815\n",
      "Number of connections (field 0): 15375\n",
      "Setting seed: 0\n",
      "[477, 238, 64, 1]\n"
     ]
    },
    {
     "name": "stderr",
     "output_type": "stream",
     "text": [
      "Loss: 0.085, train rmse: 0.707, val rmse: 1.024, test rmse: 0.908, top: [1.024 >= 0.955 [0.91, 0.461, 0.76, 0.964, 0.11]]: 100%|██████████| 100/100 [00:48<00:00,  2.07it/s]  \n"
     ]
    },
    {
     "name": "stdout",
     "output_type": "stream",
     "text": [
      "[[0.9095088378574125, 0.7600584189201922, 0.10135750262050998, 0.781364364859743], [0.8396562060401617, 0.8125569270391658, 0.08971756644342357, 0.8136582773858836]]\n",
      "Setting seed: 1\n",
      "[477, 238, 64, 1]\n"
     ]
    },
    {
     "name": "stderr",
     "output_type": "stream",
     "text": [
      "Loss: 0.071, train rmse: 0.678, val rmse: 0.994, test rmse: 1.004, top: [0.994 >= 0.943 [1.22, 0.473, 0.76, 0.976, 0.148]]: 100%|██████████| 100/100 [00:47<00:00,  2.10it/s]\n"
     ]
    },
    {
     "name": "stdout",
     "output_type": "stream",
     "text": [
      "[[1.2201226592264391, 0.7603203266075214, 0.1109448949835403, 0.7056508341731127], [1.1211626108443458, 0.8593232315301876, 0.08846635424491103, 0.7514618641237198]]\n",
      "Setting seed: 2\n",
      "[477, 238, 64, 1]\n"
     ]
    },
    {
     "name": "stderr",
     "output_type": "stream",
     "text": [
      "Loss: 0.067, train rmse: 0.657, val rmse: 1.012, test rmse: 0.985, top: [1.012 >= 0.905 [1.002, 0.488, 0.761, 0.942, 0.121]]: 100%|██████████| 100/100 [00:48<00:00,  2.07it/s]\n"
     ]
    },
    {
     "name": "stdout",
     "output_type": "stream",
     "text": [
      "[[1.0020826186438752, 0.7608246787266172, 0.11622111575949143, 0.7741046773290083], [0.8166044010004363, 0.8131067213165275, 0.09945950402332666, 0.8499888251127306]]\n",
      "Setting seed: 3\n",
      "[477, 238, 64, 1]\n"
     ]
    },
    {
     "name": "stderr",
     "output_type": "stream",
     "text": [
      "Loss: 0.071, train rmse: 0.65, val rmse: 0.873, test rmse: 0.959, top: [0.873 >= 0.835 [0.827, 0.521, 0.817, 0.975, 0.1]]: 100%|██████████| 100/100 [00:48<00:00,  2.05it/s]  \n"
     ]
    },
    {
     "name": "stdout",
     "output_type": "stream",
     "text": [
      "[[0.8267677407273003, 0.8165149651496515, 0.08144816258465756, 0.8309396410605275], [0.7451260235133266, 0.8628618286182862, 0.06797732499291681, 0.8626798706019164]]\n",
      "Setting seed: 4\n",
      "[477, 238, 64, 1]\n"
     ]
    },
    {
     "name": "stderr",
     "output_type": "stream",
     "text": [
      "Loss: 0.075, train rmse: 0.671, val rmse: 0.99, test rmse: 1.036, top: [0.99 >= 0.948 [0.986, 0.448, 0.728, 0.948, 0.12]]: 100%|██████████| 100/100 [00:49<00:00,  2.03it/s]  \n"
     ]
    },
    {
     "name": "stdout",
     "output_type": "stream",
     "text": [
      "[[0.9864622830274918, 0.7275093837026274, 0.10478624355542625, 0.7823173666499579], [0.7826891497200961, 0.8305484925535779, 0.08529180459461373, 0.8629618650088612]]\n",
      "Setting seed: 5\n",
      "[477, 238, 64, 1]\n"
     ]
    },
    {
     "name": "stderr",
     "output_type": "stream",
     "text": [
      "Loss: 0.07, train rmse: 0.646, val rmse: 0.895, test rmse: 0.889, top: [0.895 >= 0.864 [0.843, 0.471, 0.785, 0.978, 0.102]]: 100%|██████████| 100/100 [00:47<00:00,  2.08it/s]\n"
     ]
    },
    {
     "name": "stdout",
     "output_type": "stream",
     "text": [
      "[[0.8432543836119557, 0.7847304274638655, 0.09804195270817342, 0.8664608811117197], [0.7453774336416937, 0.8518200799572698, 0.0827464123831994, 0.8956616962669871]]\n",
      "Setting seed: 6\n",
      "[477, 238, 64, 1]\n"
     ]
    },
    {
     "name": "stderr",
     "output_type": "stream",
     "text": [
      "Loss: 0.088, train rmse: 0.748, val rmse: 0.949, test rmse: 0.973, top: [0.949 >= 0.914 [0.921, 0.495, 0.789, 0.963, 0.112]]: 100%|██████████| 100/100 [00:47<00:00,  2.11it/s]\n"
     ]
    },
    {
     "name": "stdout",
     "output_type": "stream",
     "text": [
      "[[0.9211204497936556, 0.7894902010010827, 0.12381619800613741, 0.866982886757178], [0.71995533444725, 0.8676468280742495, 0.09177587190737327, 0.9187383234997566]]\n",
      "Setting seed: 7\n",
      "[477, 238, 64, 1]\n"
     ]
    },
    {
     "name": "stderr",
     "output_type": "stream",
     "text": [
      "Loss: 0.069, train rmse: 0.673, val rmse: 1.069, test rmse: 0.854, top: [1.069 >= 0.96 [0.876, 0.519, 0.798, 0.964, 0.106]]: 100%|██████████| 100/100 [00:47<00:00,  2.09it/s]\n"
     ]
    },
    {
     "name": "stdout",
     "output_type": "stream",
     "text": [
      "[[0.8757521110547445, 0.7984302475502837, 0.11349403756202653, 0.8574418703077937], [0.6943728116017636, 0.8804312790097989, 0.07426049115971707, 0.9103779201545705]]\n",
      "Setting seed: 8\n",
      "[477, 238, 64, 1]\n"
     ]
    },
    {
     "name": "stderr",
     "output_type": "stream",
     "text": [
      "Loss: 0.068, train rmse: 0.632, val rmse: 0.942, test rmse: 0.98, top: [0.942 >= 0.838 [0.991, 0.396, 0.711, 0.956, 0.12]]: 100%|██████████| 100/100 [00:49<00:00,  2.04it/s] \n"
     ]
    },
    {
     "name": "stdout",
     "output_type": "stream",
     "text": [
      "[[0.9905246269005105, 0.7105566119497587, 0.11385809398460363, 0.8207672072411092], [0.8328196172263098, 0.8242849935969576, 0.08803056253992018, 0.8732964422823885]]\n",
      "Setting seed: 9\n",
      "[477, 238, 64, 1]\n"
     ]
    },
    {
     "name": "stderr",
     "output_type": "stream",
     "text": [
      "Loss: 0.07, train rmse: 0.662, val rmse: 0.957, test rmse: 0.93, top: [0.957 >= 0.858 [1.032, 0.415, 0.7, 0.947, 0.125]]: 100%|██████████| 100/100 [00:47<00:00,  2.09it/s]   \n"
     ]
    },
    {
     "name": "stdout",
     "output_type": "stream",
     "text": [
      "[[1.0324871679304484, 0.7004124116260801, 0.1137888004751664, 0.7430165163181021], [0.7982309679468208, 0.8301256873527101, 0.08628019241025432, 0.8463993577572565]]\n"
     ]
    },
    {
     "name": "stderr",
     "output_type": "stream",
     "text": [
      "2198937 (954): 100%|██████████| 152/152 [00:23<00:00,  6.48it/s]\n"
     ]
    },
    {
     "name": "stdout",
     "output_type": "stream",
     "text": [
      "Number of features: 869\n",
      "Number of fields: 152\n",
      "Number of points (field 0): 1815\n",
      "Number of connections (field 0): 15375\n",
      "Setting seed: 0\n",
      "[869, 434, 64, 1]\n"
     ]
    },
    {
     "name": "stderr",
     "output_type": "stream",
     "text": [
      "Loss: 0.091, train rmse: 0.732, val rmse: 1.092, test rmse: 0.918, top: [1.092 >= 0.964 [0.892, 0.459, 0.75, 0.972, 0.108]]: 100%|██████████| 100/100 [01:03<00:00,  1.57it/s]\n"
     ]
    },
    {
     "name": "stdout",
     "output_type": "stream",
     "text": [
      "[[0.8918210736460959, 0.7498508118973586, 0.09591471935006184, 0.7897855516830601], [0.8055739405598201, 0.8273815132384811, 0.08631644392657935, 0.8284787555280183]]\n",
      "Setting seed: 1\n",
      "[869, 434, 64, 1]\n"
     ]
    },
    {
     "name": "stderr",
     "output_type": "stream",
     "text": [
      "Loss: 0.091, train rmse: 0.764, val rmse: 0.995, test rmse: 1.086, top: [0.995 >= 0.913 [1.002, 0.455, 0.72, 0.966, 0.121]]: 100%|██████████| 100/100 [01:03<00:00,  1.58it/s]\n"
     ]
    },
    {
     "name": "stdout",
     "output_type": "stream",
     "text": [
      "[[1.0023834072002182, 0.7198084321268745, 0.11974650674513547, 0.8013339933382375], [0.8174030346134404, 0.8499018607207348, 0.09201596780666996, 0.8678922440186018]]\n",
      "Setting seed: 2\n",
      "[869, 434, 64, 1]\n"
     ]
    },
    {
     "name": "stderr",
     "output_type": "stream",
     "text": [
      "Loss: 0.092, train rmse: 0.738, val rmse: 0.997, test rmse: 1.021, top: [0.997 >= 0.889 [0.978, 0.472, 0.745, 0.959, 0.119]]: 100%|██████████| 100/100 [01:03<00:00,  1.56it/s]\n"
     ]
    },
    {
     "name": "stdout",
     "output_type": "stream",
     "text": [
      "[[0.9780706291185914, 0.7449844371167063, 0.11607912791036382, 0.78480081853749], [0.7806445475320071, 0.8402416099109372, 0.09343446721375939, 0.8629096637973435]]\n",
      "Setting seed: 3\n",
      "[869, 434, 64, 1]\n"
     ]
    },
    {
     "name": "stderr",
     "output_type": "stream",
     "text": [
      "Loss: 0.093, train rmse: 0.715, val rmse: 0.921, test rmse: 0.951, top: [0.921 >= 0.88 [0.84, 0.539, 0.811, 0.971, 0.102]]: 100%|██████████| 100/100 [01:04<00:00,  1.55it/s] \n"
     ]
    },
    {
     "name": "stdout",
     "output_type": "stream",
     "text": [
      "[[0.8403670725250278, 0.8109389093890939, 0.08220503599700717, 0.825332221766137], [0.7319765264966963, 0.8707011070110701, 0.06706358931867322, 0.8674837769247894]]\n",
      "Setting seed: 4\n",
      "[869, 434, 64, 1]\n"
     ]
    },
    {
     "name": "stderr",
     "output_type": "stream",
     "text": [
      "Loss: 0.087, train rmse: 0.713, val rmse: 1.065, test rmse: 0.965, top: [1.065 >= 0.988 [1.001, 0.411, 0.715, 0.948, 0.121]]: 100%|██████████| 100/100 [01:05<00:00,  1.54it/s]\n"
     ]
    },
    {
     "name": "stdout",
     "output_type": "stream",
     "text": [
      "[[1.0010603791458796, 0.7148867901683013, 0.11165119666523424, 0.7758269717604998], [0.7852433880402748, 0.8323949630705897, 0.08702342000276923, 0.8620659813774529]]\n",
      "Setting seed: 5\n",
      "[869, 434, 64, 1]\n"
     ]
    },
    {
     "name": "stderr",
     "output_type": "stream",
     "text": [
      "Loss: 0.1, train rmse: 0.744, val rmse: 0.974, test rmse: 0.927, top: [0.974 >= 0.882 [0.904, 0.442, 0.755, 0.967, 0.11]]: 100%|██████████| 100/100 [01:03<00:00,  1.57it/s]  \n"
     ]
    },
    {
     "name": "stdout",
     "output_type": "stream",
     "text": [
      "[[0.9044668626002319, 0.7547383584481168, 0.10271594113364227, 0.8463697945386573], [0.7768598541052322, 0.8307463218037324, 0.08781176227118101, 0.8866617117544031]]\n",
      "Setting seed: 6\n",
      "[869, 434, 64, 1]\n"
     ]
    },
    {
     "name": "stderr",
     "output_type": "stream",
     "text": [
      "Loss: 0.14, train rmse: 0.844, val rmse: 1.208, test rmse: 1.058, top: [1.208 >= 0.939 [0.927, 0.479, 0.78, 0.961, 0.112]]: 100%|██████████| 100/100 [01:02<00:00,  1.59it/s] \n"
     ]
    },
    {
     "name": "stdout",
     "output_type": "stream",
     "text": [
      "[[0.9267510010566485, 0.7795421380489872, 0.12837565135732112, 0.8653517238284307], [0.7250837981977217, 0.86441449216237, 0.0925347290630187, 0.9175764962227281]]\n",
      "Setting seed: 7\n",
      "[869, 434, 64, 1]\n"
     ]
    },
    {
     "name": "stderr",
     "output_type": "stream",
     "text": [
      "Loss: 0.094, train rmse: 0.742, val rmse: 1.094, test rmse: 0.918, top: [1.094 >= 0.914 [0.905, 0.483, 0.761, 0.965, 0.11]]: 100%|██████████| 100/100 [01:03<00:00,  1.57it/s]\n"
     ]
    },
    {
     "name": "stdout",
     "output_type": "stream",
     "text": [
      "[[0.9053754817978263, 0.76139440433213, 0.11422003357632515, 0.8476343524229251], [0.727743886073853, 0.868231046931408, 0.07871130502267398, 0.9015565706552804]]\n",
      "Setting seed: 8\n",
      "[869, 434, 64, 1]\n"
     ]
    },
    {
     "name": "stderr",
     "output_type": "stream",
     "text": [
      "Loss: 0.102, train rmse: 0.714, val rmse: 0.922, test rmse: 0.988, top: [0.922 >= 0.839 [0.902, 0.456, 0.79, 0.964, 0.109]]: 100%|██████████| 100/100 [01:04<00:00,  1.55it/s]\n"
     ]
    },
    {
     "name": "stdout",
     "output_type": "stream",
     "text": [
      "[[0.9019692278612607, 0.7895145329659669, 0.10292403414837549, 0.8513823605762759], [0.7929402921181301, 0.8478792347394156, 0.08490537413988787, 0.8851402439547125]]\n",
      "Setting seed: 9\n",
      "[869, 434, 64, 1]\n"
     ]
    },
    {
     "name": "stderr",
     "output_type": "stream",
     "text": [
      "Loss: 0.097, train rmse: 0.742, val rmse: 0.968, test rmse: 0.974, top: [0.968 >= 0.853 [1.137, 0.34, 0.615, 0.938, 0.138]]: 100%|██████████| 100/100 [01:03<00:00,  1.57it/s]\n"
     ]
    },
    {
     "name": "stdout",
     "output_type": "stream",
     "text": [
      "[[1.1368209834142973, 0.6147715370515842, 0.12660916864799146, 0.6884555285109832], [0.7659804206260694, 0.843381775333857, 0.08263429208360756, 0.8585603334229401]]\n"
     ]
    },
    {
     "name": "stderr",
     "output_type": "stream",
     "text": [
      "2198937 (954): 100%|██████████| 152/152 [00:23<00:00,  6.51it/s]\n"
     ]
    },
    {
     "name": "stdout",
     "output_type": "stream",
     "text": [
      "Number of features: 455\n",
      "Number of fields: 152\n",
      "Number of points (field 0): 1815\n",
      "Number of connections (field 0): 15375\n",
      "Setting seed: 0\n",
      "[455, 227, 64, 1]\n"
     ]
    },
    {
     "name": "stderr",
     "output_type": "stream",
     "text": [
      "Loss: 0.098, train rmse: 0.76, val rmse: 1.009, test rmse: 0.936, top: [1.009 >= 0.914 [0.828, 0.504, 0.801, 0.976, 0.1]]: 100%|██████████| 100/100 [00:47<00:00,  2.09it/s]  \n"
     ]
    },
    {
     "name": "stdout",
     "output_type": "stream",
     "text": [
      "[[0.828021572785684, 0.8011401111843965, 0.10221200085879843, 0.8187865598911942], [0.7512151997381324, 0.8495712805050409, 0.08117828264114998, 0.8508456806013682]]\n",
      "Setting seed: 1\n",
      "[455, 227, 64, 1]\n"
     ]
    },
    {
     "name": "stderr",
     "output_type": "stream",
     "text": [
      "Loss: 0.083, train rmse: 0.705, val rmse: 1.022, test rmse: 1.369, top: [1.022 >= 0.883 [1.386, 0.512, 0.82, 0.977, 0.168]]: 100%|██████████| 100/100 [00:47<00:00,  2.12it/s]\n"
     ]
    },
    {
     "name": "stdout",
     "output_type": "stream",
     "text": [
      "[[1.3864762297031117, 0.820350160948418, 0.1035904678195925, 0.6199150436445386], [1.3246024936086878, 0.8757949281620476, 0.08355889693821662, 0.6530818987466911]]\n",
      "Setting seed: 2\n",
      "[455, 227, 64, 1]\n"
     ]
    },
    {
     "name": "stderr",
     "output_type": "stream",
     "text": [
      "Loss: 0.107, train rmse: 0.791, val rmse: 1.002, test rmse: 1.176, top: [1.002 >= 0.87 [1.007, 0.475, 0.761, 0.941, 0.122]]: 100%|██████████| 100/100 [00:47<00:00,  2.10it/s]\n"
     ]
    },
    {
     "name": "stdout",
     "output_type": "stream",
     "text": [
      "[[1.0072422105582484, 0.7614564393355727, 0.11576008945725015, 0.7717724779012313], [0.7983870062414377, 0.8282073407501002, 0.09626302549870944, 0.8566072807986665]]\n",
      "Setting seed: 3\n",
      "[455, 227, 64, 1]\n"
     ]
    },
    {
     "name": "stderr",
     "output_type": "stream",
     "text": [
      "Loss: 0.074, train rmse: 0.641, val rmse: 0.851, test rmse: 0.885, top: [0.851 >= 0.843 [0.931, 0.458, 0.746, 0.965, 0.113]]: 100%|██████████| 100/100 [00:48<00:00,  2.08it/s]\n"
     ]
    },
    {
     "name": "stdout",
     "output_type": "stream",
     "text": [
      "[[0.9305924391179865, 0.7458630586305863, 0.08743286843697086, 0.7858126683003478], [0.7733615756820152, 0.8441656416564166, 0.07204413560913257, 0.8520755640013845]]\n",
      "Setting seed: 4\n",
      "[455, 227, 64, 1]\n"
     ]
    },
    {
     "name": "stderr",
     "output_type": "stream",
     "text": [
      "Loss: 0.081, train rmse: 0.69, val rmse: 1.027, test rmse: 1.027, top: [1.027 >= 0.907 [1.059, 0.405, 0.679, 0.933, 0.128]]: 100%|██████████| 100/100 [00:48<00:00,  2.05it/s]\n"
     ]
    },
    {
     "name": "stdout",
     "output_type": "stream",
     "text": [
      "[[1.0589346034821727, 0.6793649352221819, 0.11084192779025723, 0.7491575156519548], [0.8331387311638827, 0.7971001331880373, 0.08993722996660948, 0.8447264572947693]]\n",
      "Setting seed: 5\n",
      "[455, 227, 64, 1]\n"
     ]
    },
    {
     "name": "stderr",
     "output_type": "stream",
     "text": [
      "Loss: 0.077, train rmse: 0.679, val rmse: 0.875, test rmse: 0.858, top: [0.875 >= 0.854 [0.84, 0.475, 0.782, 0.981, 0.102]]: 100%|██████████| 100/100 [00:47<00:00,  2.11it/s]\n"
     ]
    },
    {
     "name": "stdout",
     "output_type": "stream",
     "text": [
      "[[0.8397431413211817, 0.7822216467313015, 0.09522093650749196, 0.8675706577218245], [0.7062087272675851, 0.8653351245488241, 0.07838569312145978, 0.9063392886765786]]\n",
      "Setting seed: 6\n",
      "[455, 227, 64, 1]\n"
     ]
    },
    {
     "name": "stderr",
     "output_type": "stream",
     "text": [
      "Loss: 0.07, train rmse: 0.659, val rmse: 0.936, test rmse: 0.925, top: [0.936 >= 0.885 [0.85, 0.506, 0.822, 0.97, 0.103]]: 100%|██████████| 100/100 [00:46<00:00,  2.15it/s]  \n"
     ]
    },
    {
     "name": "stdout",
     "output_type": "stream",
     "text": [
      "[[0.8504615222105905, 0.8223941253079349, 0.1096873123117747, 0.886607583933141], [0.7229800344114141, 0.8639751455335708, 0.09252487269359116, 0.91805409076109]]\n",
      "Setting seed: 7\n",
      "[455, 227, 64, 1]\n"
     ]
    },
    {
     "name": "stderr",
     "output_type": "stream",
     "text": [
      "Loss: 0.087, train rmse: 0.73, val rmse: 0.995, test rmse: 0.89, top: [0.995 >= 0.958 [0.875, 0.525, 0.82, 0.96, 0.106]]: 100%|██████████| 100/100 [00:47<00:00,  2.11it/s]   \n"
     ]
    },
    {
     "name": "stdout",
     "output_type": "stream",
     "text": [
      "[[0.8750220489789793, 0.8199136152656008, 0.09469890484154246, 0.857679455582634], [0.7158665696710539, 0.8742586384734399, 0.07554312922736663, 0.9047436872233373]]\n",
      "Setting seed: 8\n",
      "[455, 227, 64, 1]\n"
     ]
    },
    {
     "name": "stderr",
     "output_type": "stream",
     "text": [
      "Loss: 0.074, train rmse: 0.668, val rmse: 0.855, test rmse: 0.936, top: [0.855 >= 0.844 [1.011, 0.404, 0.694, 0.955, 0.123]]: 100%|██████████| 100/100 [00:48<00:00,  2.07it/s]\n"
     ]
    },
    {
     "name": "stdout",
     "output_type": "stream",
     "text": [
      "[[1.011107327677787, 0.6937017346423998, 0.11757971321933708, 0.8132410462727165], [0.8744848532040895, 0.8033295820559587, 0.09654590099573215, 0.8603015782436918]]\n",
      "Setting seed: 9\n",
      "[455, 227, 64, 1]\n"
     ]
    },
    {
     "name": "stderr",
     "output_type": "stream",
     "text": [
      "Loss: 0.091, train rmse: 0.715, val rmse: 0.938, test rmse: 0.926, top: [0.938 >= 0.885 [1.075, 0.36, 0.67, 0.945, 0.13]]: 100%|██████████| 100/100 [00:47<00:00,  2.12it/s]  \n"
     ]
    },
    {
     "name": "stdout",
     "output_type": "stream",
     "text": [
      "[[1.0753174632416866, 0.6700216025137471, 0.11743117774078372, 0.7212535890959639], [0.7771616354367765, 0.8499770882429956, 0.0814913156756748, 0.8544009324880423]]\n"
     ]
    },
    {
     "name": "stderr",
     "output_type": "stream",
     "text": [
      "2198937 (954): 100%|██████████| 152/152 [00:22<00:00,  6.63it/s]\n"
     ]
    },
    {
     "name": "stdout",
     "output_type": "stream",
     "text": [
      "Number of features: 466\n",
      "Number of fields: 152\n",
      "Number of points (field 0): 1815\n",
      "Number of connections (field 0): 15375\n",
      "Setting seed: 0\n",
      "[466, 233, 64, 1]\n"
     ]
    },
    {
     "name": "stderr",
     "output_type": "stream",
     "text": [
      "Loss: 0.236, train rmse: 1.14, val rmse: 1.434, test rmse: 1.358, top: [1.434 >= 1.17 [1.305, 0.342, 0.614, 0.888, 0.158]]: 100%|██████████| 100/100 [00:48<00:00,  2.08it/s] \n"
     ]
    },
    {
     "name": "stdout",
     "output_type": "stream",
     "text": [
      "[[1.3049893204672676, 0.6141681585476931, 0.1457143078697153, 0.5498875593241518], [1.081563356648719, 0.7082822952982192, 0.12320270673401736, 0.6908202573738015]]\n",
      "Setting seed: 1\n",
      "[466, 233, 64, 1]\n"
     ]
    },
    {
     "name": "stderr",
     "output_type": "stream",
     "text": [
      "Loss: 0.227, train rmse: 1.201, val rmse: 1.295, test rmse: 1.227, top: [1.295 >= 1.228 [1.247, 0.347, 0.622, 0.892, 0.151]]: 100%|██████████| 100/100 [00:47<00:00,  2.09it/s]\n"
     ]
    },
    {
     "name": "stdout",
     "output_type": "stream",
     "text": [
      "[[1.2472091890121322, 0.6218889848472953, 0.15771923240677171, 0.6924367594784437], [1.0769363791184523, 0.6837245819266703, 0.133034095578335, 0.7706831752274523]]\n",
      "Setting seed: 2\n",
      "[466, 233, 64, 1]\n"
     ]
    },
    {
     "name": "stderr",
     "output_type": "stream",
     "text": [
      "Loss: 0.222, train rmse: 1.114, val rmse: 1.426, test rmse: 1.492, top: [1.426 >= 1.319 [1.53, 0.304, 0.539, 0.825, 0.185]]: 100%|██████████| 100/100 [00:48<00:00,  2.08it/s]\n"
     ]
    },
    {
     "name": "stdout",
     "output_type": "stream",
     "text": [
      "[[1.5301845514427452, 0.5392462017319486, 0.19979354233763533, 0.4732703009520488], [1.3021448781263456, 0.5881074917562945, 0.16862327571328806, 0.6185665341058227]]\n",
      "Setting seed: 3\n",
      "[466, 233, 64, 1]\n"
     ]
    },
    {
     "name": "stderr",
     "output_type": "stream",
     "text": [
      "Loss: 0.248, train rmse: 1.157, val rmse: 1.316, test rmse: 1.234, top: [1.316 >= 1.295 [1.31, 0.292, 0.55, 0.883, 0.159]]: 100%|██████████| 100/100 [00:48<00:00,  2.06it/s] \n"
     ]
    },
    {
     "name": "stdout",
     "output_type": "stream",
     "text": [
      "[[1.3100270894778439, 0.5503403034030341, 0.13296641176305823, 0.5755414424263074], [1.0682058962259744, 0.706879868798688, 0.10588738900751392, 0.7177820174986049]]\n",
      "Setting seed: 4\n",
      "[466, 233, 64, 1]\n"
     ]
    },
    {
     "name": "stderr",
     "output_type": "stream",
     "text": [
      "Loss: 0.212, train rmse: 1.061, val rmse: 1.373, test rmse: 1.588, top: [1.373 >= 1.276 [1.552, 0.239, 0.479, 0.804, 0.188]]: 100%|██████████| 100/100 [00:49<00:00,  2.04it/s]\n"
     ]
    },
    {
     "name": "stdout",
     "output_type": "stream",
     "text": [
      "[[1.5522969498428323, 0.47946179924930377, 0.21101148948022924, 0.46097063996788357], [1.1965105830303944, 0.6238043346652137, 0.14763752013316567, 0.6797450129180048]]\n",
      "Setting seed: 5\n",
      "[466, 233, 64, 1]\n"
     ]
    },
    {
     "name": "stderr",
     "output_type": "stream",
     "text": [
      "Loss: 0.246, train rmse: 1.145, val rmse: 1.488, test rmse: 1.383, top: [1.488 >= 1.374 [1.392, 0.279, 0.537, 0.852, 0.169]]: 100%|██████████| 100/100 [00:47<00:00,  2.09it/s]\n"
     ]
    },
    {
     "name": "stdout",
     "output_type": "stream",
     "text": [
      "[[1.391885771151078, 0.5369438194972728, 0.16617455777768528, 0.6361700207147574], [1.113314748862007, 0.6848000258970914, 0.12948332127922269, 0.7672298875789499]]\n",
      "Setting seed: 6\n",
      "[466, 233, 64, 1]\n"
     ]
    },
    {
     "name": "stderr",
     "output_type": "stream",
     "text": [
      "Loss: 0.227, train rmse: 1.118, val rmse: 1.284, test rmse: 1.473, top: [1.284 >= 1.25 [1.446, 0.3, 0.55, 0.866, 0.175]]: 100%|██████████| 100/100 [00:47<00:00,  2.12it/s]   \n"
     ]
    },
    {
     "name": "stdout",
     "output_type": "stream",
     "text": [
      "[[1.445630022269076, 0.5497952330890775, 0.2273816020022745, 0.6723659819935579], [1.2250506804603158, 0.6320628893317224, 0.1710891464914539, 0.7647212079070311]]\n",
      "Setting seed: 7\n",
      "[466, 233, 64, 1]\n"
     ]
    },
    {
     "name": "stderr",
     "output_type": "stream",
     "text": [
      "Loss: 0.246, train rmse: 1.159, val rmse: 1.474, test rmse: 1.379, top: [1.474 >= 1.323 [1.222, 0.345, 0.633, 0.901, 0.148]]: 100%|██████████| 100/100 [00:47<00:00,  2.09it/s]\n"
     ]
    },
    {
     "name": "stdout",
     "output_type": "stream",
     "text": [
      "[[1.2215293244190406, 0.6329938112429088, 0.17285274293561675, 0.7226441070788248], [1.019189557264086, 0.7424735688499227, 0.1255965577191455, 0.8069190026191186]]\n",
      "Setting seed: 8\n",
      "[466, 233, 64, 1]\n"
     ]
    },
    {
     "name": "stderr",
     "output_type": "stream",
     "text": [
      "Loss: 0.231, train rmse: 1.153, val rmse: 1.176, test rmse: 1.259, top: [1.176 >= 1.157 [1.263, 0.358, 0.618, 0.888, 0.153]]: 100%|██████████| 100/100 [00:49<00:00,  2.04it/s]\n"
     ]
    },
    {
     "name": "stdout",
     "output_type": "stream",
     "text": [
      "[[1.263406082482615, 0.6177448355258903, 0.15731186433857297, 0.7084098539393526], [1.018541167885665, 0.7228452792114556, 0.11879910318029521, 0.8104847812785234]]\n",
      "Setting seed: 9\n",
      "[466, 233, 64, 1]\n"
     ]
    },
    {
     "name": "stderr",
     "output_type": "stream",
     "text": [
      "Loss: 0.26, train rmse: 1.205, val rmse: 1.384, test rmse: 1.391, top: [1.384 >= 1.384 [1.391, 0.295, 0.549, 0.863, 0.169]]: 100%|██████████| 100/100 [00:47<00:00,  2.11it/s]\n"
     ]
    },
    {
     "name": "stdout",
     "output_type": "stream",
     "text": [
      "[[1.3909017080030839, 0.5492275464781357, 0.1711486356948958, 0.533631974378171], [1.127323671300611, 0.6960428122545169, 0.12762962797510374, 0.6936392393483879]]\n"
     ]
    },
    {
     "name": "stderr",
     "output_type": "stream",
     "text": [
      "2198937 (954): 100%|██████████| 152/152 [00:23<00:00,  6.61it/s]\n"
     ]
    },
    {
     "name": "stdout",
     "output_type": "stream",
     "text": [
      "Number of features: 74\n",
      "Number of fields: 152\n",
      "Number of points (field 0): 1815\n",
      "Number of connections (field 0): 15375\n",
      "Setting seed: 0\n",
      "[74, 37, 64, 1]\n"
     ]
    },
    {
     "name": "stderr",
     "output_type": "stream",
     "text": [
      "Loss: 0.119, train rmse: 0.886, val rmse: 1.276, test rmse: 1.22, top: [1.276 >= 1.155 [1.296, 0.352, 0.615, 0.88, 0.157]]: 100%|██████████| 100/100 [00:35<00:00,  2.79it/s] \n"
     ]
    },
    {
     "name": "stdout",
     "output_type": "stream",
     "text": [
      "[[1.2963495994779235, 0.6149219510663023, 0.14706078547146842, 0.5558277961214031], [1.1704561092980894, 0.6696347247086906, 0.1329861739602665, 0.6379093028570695]]\n",
      "Setting seed: 1\n",
      "[74, 37, 64, 1]\n"
     ]
    },
    {
     "name": "stderr",
     "output_type": "stream",
     "text": [
      "Loss: 0.114, train rmse: 0.875, val rmse: 1.273, test rmse: 1.189, top: [1.273 >= 1.197 [1.168, 0.379, 0.652, 0.912, 0.142]]: 100%|██████████| 100/100 [00:35<00:00,  2.82it/s]\n"
     ]
    },
    {
     "name": "stdout",
     "output_type": "stream",
     "text": [
      "[[1.1676855007724707, 0.6520373714375441, 0.1536045104700011, 0.7304076283258377], [1.0512718191501054, 0.699254141477585, 0.13056064538285386, 0.7814826779552106]]\n",
      "Setting seed: 2\n",
      "[74, 37, 64, 1]\n"
     ]
    },
    {
     "name": "stderr",
     "output_type": "stream",
     "text": [
      "Loss: 0.102, train rmse: 0.838, val rmse: 1.399, test rmse: 1.413, top: [1.399 >= 1.361 [1.363, 0.309, 0.572, 0.864, 0.165]]: 100%|██████████| 100/100 [00:35<00:00,  2.80it/s]\n"
     ]
    },
    {
     "name": "stdout",
     "output_type": "stream",
     "text": [
      "[[1.3632745221483598, 0.5716200807420876, 0.16867668465005883, 0.5819128526459962], [1.1472315274297815, 0.6423310425590927, 0.14831759287481125, 0.7039245983876038]]\n",
      "Setting seed: 3\n",
      "[74, 37, 64, 1]\n"
     ]
    },
    {
     "name": "stderr",
     "output_type": "stream",
     "text": [
      "Loss: 0.113, train rmse: 0.861, val rmse: 1.278, test rmse: 1.286, top: [1.278 >= 1.251 [1.345, 0.256, 0.519, 0.873, 0.163]]: 100%|██████████| 100/100 [00:36<00:00,  2.74it/s]\n"
     ]
    },
    {
     "name": "stdout",
     "output_type": "stream",
     "text": [
      "[[1.3448347519238935, 0.5189175891758918, 0.13741344485386933, 0.5526859003959222], [1.0780081843668965, 0.693579335793358, 0.10802210217370721, 0.7125787608768906]]\n",
      "Setting seed: 4\n",
      "[74, 37, 64, 1]\n"
     ]
    },
    {
     "name": "stderr",
     "output_type": "stream",
     "text": [
      "Loss: 0.115, train rmse: 0.867, val rmse: 1.211, test rmse: 1.389, top: [1.211 >= 1.211 [1.389, 0.301, 0.547, 0.85, 0.168]]: 100%|██████████| 100/100 [00:36<00:00,  2.71it/s]\n"
     ]
    },
    {
     "name": "stdout",
     "output_type": "stream",
     "text": [
      "[[1.3890830284700633, 0.5471909432134641, 0.15955087735745285, 0.5683624454946461], [1.204870008698171, 0.6419814747548129, 0.13790050447852037, 0.6752544555443059]]\n",
      "Setting seed: 5\n",
      "[74, 37, 64, 1]\n"
     ]
    },
    {
     "name": "stderr",
     "output_type": "stream",
     "text": [
      "Loss: 0.115, train rmse: 0.855, val rmse: 1.411, test rmse: 1.537, top: [1.411 >= 1.316 [1.459, 0.289, 0.536, 0.833, 0.177]]: 100%|██████████| 100/100 [00:35<00:00,  2.83it/s]\n"
     ]
    },
    {
     "name": "stdout",
     "output_type": "stream",
     "text": [
      "[[1.458849267930114, 0.5362316494828675, 0.16860538094513292, 0.6003202593445994], [1.2294639651079327, 0.6186977000145671, 0.14332292486530568, 0.7161277761775271]]\n",
      "Setting seed: 6\n",
      "[74, 37, 64, 1]\n"
     ]
    },
    {
     "name": "stderr",
     "output_type": "stream",
     "text": [
      "Loss: 0.107, train rmse: 0.842, val rmse: 1.256, test rmse: 1.282, top: [1.256 >= 1.222 [1.287, 0.336, 0.599, 0.889, 0.156]]: 100%|██████████| 100/100 [00:34<00:00,  2.90it/s]\n"
     ]
    },
    {
     "name": "stdout",
     "output_type": "stream",
     "text": [
      "[[1.2865492301835333, 0.5986568545919568, 0.18537249246523924, 0.7405058995737687], [1.0838266646137598, 0.6912020837582966, 0.1502506507187956, 0.815840412714443]]\n",
      "Setting seed: 7\n",
      "[74, 37, 64, 1]\n"
     ]
    },
    {
     "name": "stderr",
     "output_type": "stream",
     "text": [
      "Loss: 0.109, train rmse: 0.858, val rmse: 1.193, test rmse: 1.329, top: [1.193 >= 1.162 [1.286, 0.385, 0.664, 0.898, 0.156]]: 100%|██████████| 100/100 [00:35<00:00,  2.81it/s]\n"
     ]
    },
    {
     "name": "stdout",
     "output_type": "stream",
     "text": [
      "[[1.2855676344895364, 0.6640181794739557, 0.14128506744397795, 0.692801236470596], [1.0512457601382779, 0.7167031975244972, 0.118343979686505, 0.7945821792061197]]\n",
      "Setting seed: 8\n",
      "[74, 37, 64, 1]\n"
     ]
    },
    {
     "name": "stderr",
     "output_type": "stream",
     "text": [
      "Loss: 0.108, train rmse: 0.849, val rmse: 1.361, test rmse: 1.329, top: [1.361 >= 1.322 [1.304, 0.281, 0.546, 0.886, 0.158]]: 100%|██████████| 100/100 [00:37<00:00,  2.70it/s]\n"
     ]
    },
    {
     "name": "stdout",
     "output_type": "stream",
     "text": [
      "[[1.3042644361178615, 0.545862599764575, 0.1585707343644316, 0.689244931135409], [1.2608363724621268, 0.5712678023982304, 0.15019883337142706, 0.7095948096040672]]\n",
      "Setting seed: 9\n",
      "[74, 37, 64, 1]\n"
     ]
    },
    {
     "name": "stderr",
     "output_type": "stream",
     "text": [
      "Loss: 0.119, train rmse: 0.884, val rmse: 1.377, test rmse: 1.261, top: [1.377 >= 1.306 [1.211, 0.351, 0.63, 0.903, 0.147]]: 100%|██████████| 100/100 [00:35<00:00,  2.82it/s]\n"
     ]
    },
    {
     "name": "stdout",
     "output_type": "stream",
     "text": [
      "[[1.2110620772978844, 0.6300405865409793, 0.13907357146819382, 0.6464354643425132], [1.0690171127247763, 0.6992013616129877, 0.11950691535360042, 0.7245104045243771]]\n"
     ]
    },
    {
     "name": "stderr",
     "output_type": "stream",
     "text": [
      "2198937 (954): 100%|██████████| 152/152 [00:23<00:00,  6.42it/s]\n"
     ]
    },
    {
     "name": "stdout",
     "output_type": "stream",
     "text": [
      "Number of features: 817\n",
      "Number of fields: 152\n",
      "Number of points (field 0): 1815\n",
      "Number of connections (field 0): 15375\n",
      "Setting seed: 0\n",
      "[817, 408, 64, 1]\n"
     ]
    },
    {
     "name": "stderr",
     "output_type": "stream",
     "text": [
      "Loss: 0.095, train rmse: 0.732, val rmse: 1.154, test rmse: 0.903, top: [1.154 >= 0.992 [0.931, 0.438, 0.746, 0.962, 0.113]]: 100%|██████████| 100/100 [01:01<00:00,  1.62it/s]\n"
     ]
    },
    {
     "name": "stdout",
     "output_type": "stream",
     "text": [
      "[[0.9305232060779803, 0.7456421370017903, 0.11224208161476382, 0.7711444135786062], [0.8531564534580249, 0.8037469769779202, 0.09378880435747539, 0.8076179882560847]]\n",
      "Setting seed: 1\n",
      "[817, 408, 64, 1]\n"
     ]
    },
    {
     "name": "stderr",
     "output_type": "stream",
     "text": [
      "Loss: 0.099, train rmse: 0.761, val rmse: 1.008, test rmse: 0.855, top: [1.008 >= 0.947 [0.831, 0.472, 0.795, 0.98, 0.101]]: 100%|██████████| 100/100 [01:01<00:00,  1.63it/s]\n"
     ]
    },
    {
     "name": "stdout",
     "output_type": "stream",
     "text": [
      "[[0.8314304643093385, 0.7954306351574154, 0.10693748298646051, 0.8633191437129739], [0.7035791417301602, 0.876407317264662, 0.08424810235833237, 0.9021227551254417]]\n",
      "Setting seed: 2\n",
      "[817, 408, 64, 1]\n"
     ]
    },
    {
     "name": "stderr",
     "output_type": "stream",
     "text": [
      "Loss: 0.095, train rmse: 0.745, val rmse: 0.949, test rmse: 1.027, top: [0.949 >= 0.898 [0.989, 0.462, 0.738, 0.957, 0.12]]: 100%|██████████| 100/100 [01:01<00:00,  1.61it/s]\n"
     ]
    },
    {
     "name": "stdout",
     "output_type": "stream",
     "text": [
      "[[0.9892598040798861, 0.7381121143948967, 0.11755413351361041, 0.7798488764710985], [0.7809095287732699, 0.8319670868131529, 0.09389597548865913, 0.8628165803758022]]\n",
      "Setting seed: 3\n",
      "[817, 408, 64, 1]\n"
     ]
    },
    {
     "name": "stderr",
     "output_type": "stream",
     "text": [
      "Loss: 0.092, train rmse: 0.699, val rmse: 0.89, test rmse: 0.922, top: [0.89 >= 0.853 [0.857, 0.513, 0.796, 0.972, 0.104]]: 100%|██████████| 100/100 [01:02<00:00,  1.60it/s] \n"
     ]
    },
    {
     "name": "stdout",
     "output_type": "stream",
     "text": [
      "[[0.8572357212761991, 0.7955227552275522, 0.0811008486922846, 0.8182496478168039], [0.7519819805363319, 0.8655350553505535, 0.06897771699288668, 0.8601412607567315]]\n",
      "Setting seed: 4\n",
      "[817, 408, 64, 1]\n"
     ]
    },
    {
     "name": "stderr",
     "output_type": "stream",
     "text": [
      "Loss: 0.113, train rmse: 0.794, val rmse: 1.071, test rmse: 0.982, top: [1.071 >= 0.955 [1.137, 0.357, 0.633, 0.922, 0.138]]: 100%|██████████| 100/100 [01:02<00:00,  1.59it/s]\n"
     ]
    },
    {
     "name": "stdout",
     "output_type": "stream",
     "text": [
      "[[1.1373605027675335, 0.6326431771400896, 0.1298565090407297, 0.7106262731220945], [0.8347938613332927, 0.7947844775396538, 0.09395248484031293, 0.8441089053936397]]\n",
      "Setting seed: 5\n",
      "[817, 408, 64, 1]\n"
     ]
    },
    {
     "name": "stderr",
     "output_type": "stream",
     "text": [
      "Loss: 0.1, train rmse: 0.737, val rmse: 0.871, test rmse: 0.919, top: [0.871 >= 0.843 [0.919, 0.429, 0.735, 0.971, 0.111]]: 100%|██████████| 100/100 [01:01<00:00,  1.62it/s] \n"
     ]
    },
    {
     "name": "stdout",
     "output_type": "stream",
     "text": [
      "[[0.9189432813112035, 0.7346519269054594, 0.10257765479989367, 0.8414125905115046], [0.7788837591067337, 0.8262143308029717, 0.08619806330151271, 0.8860703960113518]]\n",
      "Setting seed: 6\n",
      "[817, 408, 64, 1]\n"
     ]
    },
    {
     "name": "stderr",
     "output_type": "stream",
     "text": [
      "Loss: 0.107, train rmse: 0.796, val rmse: 0.992, test rmse: 0.963, top: [0.992 >= 0.942 [0.932, 0.524, 0.776, 0.956, 0.113]]: 100%|██████████| 100/100 [01:01<00:00,  1.64it/s]\n"
     ]
    },
    {
     "name": "stdout",
     "output_type": "stream",
     "text": [
      "[[0.9318956104026548, 0.7756664731449373, 0.11875425315323429, 0.8638526469809822], [0.772153571316021, 0.8377084935117918, 0.10403085138570163, 0.906527891582429]]\n",
      "Setting seed: 7\n",
      "[817, 408, 64, 1]\n"
     ]
    },
    {
     "name": "stderr",
     "output_type": "stream",
     "text": [
      "Loss: 0.109, train rmse: 0.776, val rmse: 1.241, test rmse: 0.954, top: [1.241 >= 1.026 [0.875, 0.481, 0.8, 0.967, 0.106]]: 100%|██████████| 100/100 [01:01<00:00,  1.62it/s] \n"
     ]
    },
    {
     "name": "stdout",
     "output_type": "stream",
     "text": [
      "[[0.8745946602754672, 0.8002675348117586, 0.09685065018817757, 0.8578184494246872], [0.7373477033793848, 0.870664646725116, 0.0779646193261954, 0.8989411697588682]]\n",
      "Setting seed: 8\n",
      "[817, 408, 64, 1]\n"
     ]
    },
    {
     "name": "stderr",
     "output_type": "stream",
     "text": [
      "Loss: 0.097, train rmse: 0.727, val rmse: 0.897, test rmse: 0.953, top: [0.897 >= 0.821 [0.977, 0.432, 0.752, 0.951, 0.118]]: 100%|██████████| 100/100 [01:02<00:00,  1.60it/s]\n"
     ]
    },
    {
     "name": "stdout",
     "output_type": "stream",
     "text": [
      "[[0.9774944271893102, 0.7519629529020658, 0.10832533334903663, 0.8254517508652888], [0.8063383230137213, 0.8314382914871874, 0.08571622030377064, 0.8812259627575433]]\n",
      "Setting seed: 9\n",
      "[817, 408, 64, 1]\n"
     ]
    },
    {
     "name": "stderr",
     "output_type": "stream",
     "text": [
      "Loss: 0.125, train rmse: 0.811, val rmse: 0.921, test rmse: 0.905, top: [0.921 >= 0.819 [0.965, 0.44, 0.743, 0.96, 0.117]]: 100%|██████████| 100/100 [01:01<00:00,  1.62it/s] \n"
     ]
    },
    {
     "name": "stdout",
     "output_type": "stream",
     "text": [
      "[[0.964895064586835, 0.7428482587064676, 0.103580499350143, 0.7755621723347959], [0.7344127569787849, 0.8714650432050275, 0.07701753494371599, 0.8699781590914948]]\n"
     ]
    },
    {
     "name": "stderr",
     "output_type": "stream",
     "text": [
      "2198937 (954): 100%|██████████| 152/152 [00:23<00:00,  6.48it/s]\n"
     ]
    },
    {
     "name": "stdout",
     "output_type": "stream",
     "text": [
      "Number of features: 425\n",
      "Number of fields: 152\n",
      "Number of points (field 0): 1815\n",
      "Number of connections (field 0): 15375\n",
      "Setting seed: 0\n",
      "[425, 212, 64, 1]\n"
     ]
    },
    {
     "name": "stderr",
     "output_type": "stream",
     "text": [
      "Loss: 0.079, train rmse: 0.682, val rmse: 1.123, test rmse: 0.963, top: [1.123 >= 0.912 [0.954, 0.468, 0.776, 0.949, 0.116]]: 100%|██████████| 100/100 [00:46<00:00,  2.13it/s]\n"
     ]
    },
    {
     "name": "stdout",
     "output_type": "stream",
     "text": [
      "[[0.9544266386733731, 0.7762492540594867, 0.10227441370212689, 0.7592356363412684], [0.8642377121810698, 0.813876063946732, 0.09124729389370362, 0.8025880091691743]]\n",
      "Setting seed: 1\n",
      "[425, 212, 64, 1]\n"
     ]
    },
    {
     "name": "stderr",
     "output_type": "stream",
     "text": [
      "Loss: 0.091, train rmse: 0.739, val rmse: 0.997, test rmse: 0.776, top: [0.997 >= 0.931 [0.791, 0.522, 0.834, 0.977, 0.096]]: 100%|██████████| 100/100 [00:46<00:00,  2.16it/s]\n"
     ]
    },
    {
     "name": "stdout",
     "output_type": "stream",
     "text": [
      "[[0.7914996835672382, 0.8338227212059355, 0.09841009141856162, 0.8761325162729737], [0.686985440356442, 0.8822799717358876, 0.07900520245357151, 0.9066851225521946]]\n",
      "Setting seed: 2\n",
      "[425, 212, 64, 1]\n"
     ]
    },
    {
     "name": "stderr",
     "output_type": "stream",
     "text": [
      "Loss: 0.073, train rmse: 0.675, val rmse: 1.035, test rmse: 0.953, top: [1.035 >= 0.924 [0.931, 0.492, 0.774, 0.959, 0.113]]: 100%|██████████| 100/100 [00:46<00:00,  2.14it/s]\n"
     ]
    },
    {
     "name": "stdout",
     "output_type": "stream",
     "text": [
      "[[0.9313547160563533, 0.7737526580171962, 0.11069751806387021, 0.8048671371938174], [0.7662612799510222, 0.8415359487195291, 0.09265275297770016, 0.8679148658686955]]\n",
      "Setting seed: 3\n",
      "[425, 212, 64, 1]\n"
     ]
    },
    {
     "name": "stderr",
     "output_type": "stream",
     "text": [
      "Loss: 0.099, train rmse: 0.739, val rmse: 0.866, test rmse: 0.89, top: [0.866 >= 0.841 [0.868, 0.479, 0.789, 0.972, 0.105]]: 100%|██████████| 100/100 [00:47<00:00,  2.11it/s]\n"
     ]
    },
    {
     "name": "stdout",
     "output_type": "stream",
     "text": [
      "[[0.8683275261313546, 0.7894710947109471, 0.08264197334304267, 0.8135158702896387], [0.7562602336004038, 0.8611070110701107, 0.06930468162069724, 0.8585453363983732]]\n",
      "Setting seed: 4\n",
      "[425, 212, 64, 1]\n"
     ]
    },
    {
     "name": "stderr",
     "output_type": "stream",
     "text": [
      "Loss: 0.081, train rmse: 0.703, val rmse: 1.01, test rmse: 0.998, top: [1.01 >= 0.943 [1.041, 0.415, 0.7, 0.937, 0.126]]: 100%|██████████| 100/100 [00:47<00:00,  2.09it/s]   \n"
     ]
    },
    {
     "name": "stdout",
     "output_type": "stream",
     "text": [
      "[[1.0406717234952578, 0.6997669209347379, 0.11239100362024658, 0.7577351978346354], [0.7920688380683639, 0.8235409855914759, 0.08653163486444061, 0.8596576747884561]]\n",
      "Setting seed: 5\n",
      "[425, 212, 64, 1]\n"
     ]
    },
    {
     "name": "stderr",
     "output_type": "stream",
     "text": [
      "Loss: 0.079, train rmse: 0.689, val rmse: 0.93, test rmse: 0.959, top: [0.93 >= 0.839 [0.909, 0.422, 0.744, 0.972, 0.11]]: 100%|██████████| 100/100 [00:46<00:00,  2.15it/s]  \n"
     ]
    },
    {
     "name": "stdout",
     "output_type": "stream",
     "text": [
      "[[0.9092611357681456, 0.7437159089069809, 0.10570900075130034, 0.8447367943904397], [0.77622229953309, 0.8345661427900879, 0.08761830468579139, 0.8868476647098348]]\n",
      "Setting seed: 6\n",
      "[425, 212, 64, 1]\n"
     ]
    },
    {
     "name": "stderr",
     "output_type": "stream",
     "text": [
      "Loss: 0.081, train rmse: 0.702, val rmse: 1.014, test rmse: 0.945, top: [1.014 >= 0.934 [0.87, 0.474, 0.81, 0.97, 0.105]]: 100%|██████████| 100/100 [00:45<00:00,  2.18it/s]  \n"
     ]
    },
    {
     "name": "stdout",
     "output_type": "stream",
     "text": [
      "[[0.8696096283181527, 0.8097315278279017, 0.11537926956607086, 0.8814440515226147], [0.7265743375217177, 0.8617627214385464, 0.09337113837749615, 0.9172372754330821]]\n",
      "Setting seed: 7\n",
      "[425, 212, 64, 1]\n"
     ]
    },
    {
     "name": "stderr",
     "output_type": "stream",
     "text": [
      "Loss: 0.076, train rmse: 0.678, val rmse: 1.062, test rmse: 0.85, top: [1.062 >= 1.015 [0.862, 0.487, 0.784, 0.97, 0.105]]: 100%|██████████| 100/100 [00:46<00:00,  2.14it/s] \n"
     ]
    },
    {
     "name": "stdout",
     "output_type": "stream",
     "text": [
      "[[0.8622472029079293, 0.7841993295513151, 0.09288011690698077, 0.8618047259021484], [0.7161734113384268, 0.8712287261474987, 0.07614894615278177, 0.9046620103544823]]\n",
      "Setting seed: 8\n",
      "[425, 212, 64, 1]\n"
     ]
    },
    {
     "name": "stderr",
     "output_type": "stream",
     "text": [
      "Loss: 0.069, train rmse: 0.639, val rmse: 0.822, test rmse: 1.014, top: [0.822 >= 0.822 [1.014, 0.414, 0.703, 0.954, 0.123]]: 100%|██████████| 100/100 [00:47<00:00,  2.09it/s]\n"
     ]
    },
    {
     "name": "stdout",
     "output_type": "stream",
     "text": [
      "[[1.0143925702788699, 0.7026530585846043, 0.11644087224781842, 0.8120254577578627], [0.904674200230414, 0.7726208493409393, 0.09988466332258661, 0.85048962632936]]\n",
      "Setting seed: 9\n",
      "[425, 212, 64, 1]\n"
     ]
    },
    {
     "name": "stderr",
     "output_type": "stream",
     "text": [
      "Loss: 0.087, train rmse: 0.697, val rmse: 0.859, test rmse: 0.877, top: [0.859 >= 0.828 [0.939, 0.445, 0.739, 0.968, 0.114]]: 100%|██████████| 100/100 [00:46<00:00,  2.15it/s]\n"
     ]
    },
    {
     "name": "stdout",
     "output_type": "stream",
     "text": [
      "[[0.938924562218032, 0.7388387012306886, 0.10217256902020096, 0.7874812331816976], [0.7798232363974511, 0.8440200314218381, 0.08304252249661688, 0.8534019376964671]]\n"
     ]
    },
    {
     "name": "stderr",
     "output_type": "stream",
     "text": [
      "2198937 (954): 100%|██████████| 152/152 [00:24<00:00,  6.12it/s]\n"
     ]
    },
    {
     "name": "stdout",
     "output_type": "stream",
     "text": [
      "Number of features: 436\n",
      "Number of fields: 152\n",
      "Number of points (field 0): 1815\n",
      "Number of connections (field 0): 15375\n",
      "Setting seed: 0\n",
      "[436, 218, 64, 1]\n"
     ]
    },
    {
     "name": "stderr",
     "output_type": "stream",
     "text": [
      "Loss: 0.226, train rmse: 1.146, val rmse: 1.43, test rmse: 1.321, top: [1.43 >= 1.292 [1.273, 0.366, 0.63, 0.893, 0.154]]: 100%|██████████| 100/100 [00:47<00:00,  2.12it/s]  \n"
     ]
    },
    {
     "name": "stdout",
     "output_type": "stream",
     "text": [
      "[[1.2730295033557917, 0.6303589936869877, 0.14334077565406064, 0.5716645302312768], [1.1874388869252244, 0.6940544615094695, 0.1323841822947788, 0.627325535495171]]\n",
      "Setting seed: 1\n",
      "[436, 218, 64, 1]\n"
     ]
    },
    {
     "name": "stderr",
     "output_type": "stream",
     "text": [
      "Loss: 0.218, train rmse: 1.13, val rmse: 1.453, test rmse: 1.394, top: [1.453 >= 1.301 [1.336, 0.302, 0.583, 0.868, 0.162]]: 100%|██████████| 100/100 [00:46<00:00,  2.13it/s]\n"
     ]
    },
    {
     "name": "stdout",
     "output_type": "stream",
     "text": [
      "[[1.3364619709029915, 0.5834026850906807, 0.16936345328886415, 0.6468420111339804], [1.1141672749689584, 0.6582397738871005, 0.139785342230678, 0.7545536258766192]]\n",
      "Setting seed: 2\n",
      "[436, 218, 64, 1]\n"
     ]
    },
    {
     "name": "stderr",
     "output_type": "stream",
     "text": [
      "Loss: 0.21, train rmse: 1.088, val rmse: 1.474, test rmse: 1.568, top: [1.474 >= 1.379 [1.563, 0.302, 0.541, 0.819, 0.189]]: 100%|██████████| 100/100 [00:47<00:00,  2.12it/s]\n"
     ]
    },
    {
     "name": "stdout",
     "output_type": "stream",
     "text": [
      "[[1.563171767717002, 0.5408795340380289, 0.2037985094898278, 0.45031538026330487], [1.295370017947182, 0.5983543406576474, 0.1666410988768824, 0.6225252885461103]]\n",
      "Setting seed: 3\n",
      "[436, 218, 64, 1]\n"
     ]
    },
    {
     "name": "stderr",
     "output_type": "stream",
     "text": [
      "Loss: 0.217, train rmse: 1.087, val rmse: 1.361, test rmse: 1.353, top: [1.361 >= 1.33 [1.286, 0.326, 0.586, 0.892, 0.156]]: 100%|██████████| 100/100 [00:47<00:00,  2.09it/s]\n"
     ]
    },
    {
     "name": "stdout",
     "output_type": "stream",
     "text": [
      "[[1.2855544751467038, 0.5858630586305863, 0.13149194145736803, 0.5912519345099323], [1.0987343659208213, 0.7064042640426405, 0.11087438854457768, 0.7014203819345588]]\n",
      "Setting seed: 4\n",
      "[436, 218, 64, 1]\n"
     ]
    },
    {
     "name": "stderr",
     "output_type": "stream",
     "text": [
      "Loss: 0.228, train rmse: 1.103, val rmse: 1.429, test rmse: 1.52, top: [1.429 >= 1.297 [1.561, 0.271, 0.507, 0.787, 0.189]]: 100%|██████████| 100/100 [00:48<00:00,  2.06it/s]\n"
     ]
    },
    {
     "name": "stdout",
     "output_type": "stream",
     "text": [
      "[[1.5614530324922626, 0.5066745368688703, 0.19559162034582694, 0.45459305497280056], [1.2145900410357984, 0.6217913791015861, 0.14405414732070754, 0.6699936896248303]]\n",
      "Setting seed: 5\n",
      "[436, 218, 64, 1]\n"
     ]
    },
    {
     "name": "stderr",
     "output_type": "stream",
     "text": [
      "Loss: 0.219, train rmse: 1.086, val rmse: 1.485, test rmse: 1.382, top: [1.485 >= 1.369 [1.376, 0.274, 0.534, 0.862, 0.167]]: 100%|██████████| 100/100 [00:47<00:00,  2.13it/s]\n"
     ]
    },
    {
     "name": "stdout",
     "output_type": "stream",
     "text": [
      "[[1.3759477177207604, 0.5337552401145946, 0.15749368596705973, 0.6444545250475304], [1.1201573806845606, 0.6865480795688135, 0.1312328833135122, 0.7643598009751896]]\n",
      "Setting seed: 6\n",
      "[436, 218, 64, 1]\n"
     ]
    },
    {
     "name": "stderr",
     "output_type": "stream",
     "text": [
      "Loss: 0.224, train rmse: 1.097, val rmse: 1.332, test rmse: 1.486, top: [1.332 >= 1.268 [1.514, 0.318, 0.574, 0.872, 0.184]]: 100%|██████████| 100/100 [00:46<00:00,  2.16it/s]\n"
     ]
    },
    {
     "name": "stdout",
     "output_type": "stream",
     "text": [
      "[[1.5143090966304886, 0.5741946619384601, 0.21305731861459565, 0.6404959953284495], [1.307510737651593, 0.6697525537022799, 0.17070625814447832, 0.731981237073047]]\n",
      "Setting seed: 7\n",
      "[436, 218, 64, 1]\n"
     ]
    },
    {
     "name": "stderr",
     "output_type": "stream",
     "text": [
      "Loss: 0.218, train rmse: 1.158, val rmse: 1.567, test rmse: 1.355, top: [1.567 >= 1.421 [1.218, 0.364, 0.638, 0.904, 0.148]]: 100%|██████████| 100/100 [00:47<00:00,  2.12it/s]\n"
     ]
    },
    {
     "name": "stdout",
     "output_type": "stream",
     "text": [
      "[[1.2176899917631883, 0.637570912841671, 0.15577897408565247, 0.7243848562480234], [1.0440218580607887, 0.7270822588963384, 0.12220194582158972, 0.7973956405642485]]\n",
      "Setting seed: 8\n",
      "[436, 218, 64, 1]\n"
     ]
    },
    {
     "name": "stderr",
     "output_type": "stream",
     "text": [
      "Loss: 0.217, train rmse: 1.116, val rmse: 1.308, test rmse: 1.27, top: [1.308 >= 1.209 [1.239, 0.34, 0.623, 0.902, 0.15]]: 100%|██████████| 100/100 [00:48<00:00,  2.07it/s]  \n"
     ]
    },
    {
     "name": "stdout",
     "output_type": "stream",
     "text": [
      "[[1.2391416207647215, 0.6228543340189117, 0.15503310643509163, 0.7195026222629919], [1.0970678124045388, 0.6817881951181652, 0.1276557518228763, 0.7801361325657836]]\n",
      "Setting seed: 9\n",
      "[436, 218, 64, 1]\n"
     ]
    },
    {
     "name": "stderr",
     "output_type": "stream",
     "text": [
      "Loss: 0.245, train rmse: 1.178, val rmse: 1.479, test rmse: 1.371, top: [1.479 >= 1.4 [1.438, 0.301, 0.552, 0.849, 0.174]]: 100%|██████████| 100/100 [00:46<00:00,  2.13it/s] \n"
     ]
    },
    {
     "name": "stdout",
     "output_type": "stream",
     "text": [
      "[[1.437667291116551, 0.5516496465043205, 0.16873284484444867, 0.5017438468936207], [1.1311970518430454, 0.6827048965697826, 0.12834594665071067, 0.6915303677743736]]\n"
     ]
    },
    {
     "name": "stderr",
     "output_type": "stream",
     "text": [
      "2198937 (954): 100%|██████████| 152/152 [00:22<00:00,  6.65it/s]\n"
     ]
    },
    {
     "name": "stdout",
     "output_type": "stream",
     "text": [
      "Number of features: 52\n",
      "Number of fields: 152\n",
      "Number of points (field 0): 1815\n",
      "Number of connections (field 0): 15375\n",
      "Setting seed: 0\n",
      "[52, 26, 64, 1]\n"
     ]
    },
    {
     "name": "stderr",
     "output_type": "stream",
     "text": [
      "Loss: 0.176, train rmse: 1.04, val rmse: 1.448, test rmse: 1.295, top: [1.448 >= 1.144 [1.305, 0.35, 0.624, 0.888, 0.158]]: 100%|██████████| 100/100 [00:35<00:00,  2.80it/s] \n"
     ]
    },
    {
     "name": "stdout",
     "output_type": "stream",
     "text": [
      "[[1.3050460388218408, 0.6241873174408744, 0.14858903576627752, 0.5498484322732233], [1.124345444329941, 0.694384245736361, 0.12586321675365217, 0.6658768012585083]]\n",
      "Setting seed: 1\n",
      "[52, 26, 64, 1]\n"
     ]
    },
    {
     "name": "stderr",
     "output_type": "stream",
     "text": [
      "Loss: 0.18, train rmse: 1.054, val rmse: 1.387, test rmse: 1.272, top: [1.387 >= 1.243 [1.25, 0.355, 0.622, 0.893, 0.152]]: 100%|██████████| 100/100 [00:35<00:00,  2.83it/s] \n"
     ]
    },
    {
     "name": "stdout",
     "output_type": "stream",
     "text": [
      "[[1.2502879255189625, 0.6222344351103085, 0.16613073038534487, 0.6909164453173701], [1.1190925767538298, 0.6750569207819738, 0.1383746113308721, 0.7523787827890468]]\n",
      "Setting seed: 2\n",
      "[52, 26, 64, 1]\n"
     ]
    },
    {
     "name": "stderr",
     "output_type": "stream",
     "text": [
      "Loss: 0.169, train rmse: 1.003, val rmse: 1.372, test rmse: 1.41, top: [1.372 >= 1.283 [1.392, 0.319, 0.58, 0.86, 0.169]]: 100%|██████████| 100/100 [00:35<00:00,  2.80it/s]  \n"
     ]
    },
    {
     "name": "stdout",
     "output_type": "stream",
     "text": [
      "[[1.3918081370583175, 0.5802335973373601, 0.17788794086215434, 0.5642284005439295], [1.229192172210479, 0.6147955252858331, 0.1565785872645696, 0.6601089319920754]]\n",
      "Setting seed: 3\n",
      "[52, 26, 64, 1]\n"
     ]
    },
    {
     "name": "stderr",
     "output_type": "stream",
     "text": [
      "Loss: 0.184, train rmse: 1.038, val rmse: 1.308, test rmse: 1.291, top: [1.308 >= 1.26 [1.232, 0.347, 0.628, 0.895, 0.149]]: 100%|██████████| 100/100 [00:36<00:00,  2.75it/s]\n"
     ]
    },
    {
     "name": "stdout",
     "output_type": "stream",
     "text": [
      "[[1.2315473797679426, 0.6275194751947519, 0.12917837895733097, 0.6248741518744574], [1.104772638823998, 0.6761951619516195, 0.11036387400382891, 0.6981295787117061]]\n",
      "Setting seed: 4\n",
      "[52, 26, 64, 1]\n"
     ]
    },
    {
     "name": "stderr",
     "output_type": "stream",
     "text": [
      "Loss: 0.165, train rmse: 1.005, val rmse: 1.351, test rmse: 1.489, top: [1.351 >= 1.283 [1.482, 0.302, 0.538, 0.813, 0.18]]: 100%|██████████| 100/100 [00:36<00:00,  2.72it/s]\n"
     ]
    },
    {
     "name": "stdout",
     "output_type": "stream",
     "text": [
      "[[1.4823354518599414, 0.5383218307301126, 0.1861926131217786, 0.5084634649626916], [1.1704118077019448, 0.6363663881825887, 0.1351669044727582, 0.6935637056365186]]\n",
      "Setting seed: 5\n",
      "[52, 26, 64, 1]\n"
     ]
    },
    {
     "name": "stderr",
     "output_type": "stream",
     "text": [
      "Loss: 0.169, train rmse: 0.998, val rmse: 1.432, test rmse: 1.518, top: [1.432 >= 1.368 [1.437, 0.287, 0.538, 0.844, 0.174]]: 100%|██████████| 100/100 [00:35<00:00,  2.85it/s]\n"
     ]
    },
    {
     "name": "stdout",
     "output_type": "stream",
     "text": [
      "[[1.4365046369992696, 0.537995888836735, 0.1714375850512218, 0.6124699755310872], [1.1998877438571984, 0.6385413463250409, 0.1368858021151772, 0.7296212686771344]]\n",
      "Setting seed: 6\n",
      "[52, 26, 64, 1]\n"
     ]
    },
    {
     "name": "stderr",
     "output_type": "stream",
     "text": [
      "Loss: 0.174, train rmse: 1.014, val rmse: 1.284, test rmse: 1.321, top: [1.284 >= 1.244 [1.351, 0.314, 0.57, 0.876, 0.164]]: 100%|██████████| 100/100 [00:34<00:00,  2.91it/s]\n"
     ]
    },
    {
     "name": "stdout",
     "output_type": "stream",
     "text": [
      "[[1.3507036462578448, 0.5696913589932686, 0.21530670729903179, 0.7139810456270848], [1.1863495229240326, 0.6286736439095574, 0.16765886119765286, 0.77935200266746]]\n",
      "Setting seed: 7\n",
      "[52, 26, 64, 1]\n"
     ]
    },
    {
     "name": "stderr",
     "output_type": "stream",
     "text": [
      "Loss: 0.168, train rmse: 1.016, val rmse: 1.342, test rmse: 1.26, top: [1.342 >= 1.271 [1.216, 0.359, 0.639, 0.903, 0.147]]: 100%|██████████| 100/100 [00:35<00:00,  2.83it/s]\n"
     ]
    },
    {
     "name": "stdout",
     "output_type": "stream",
     "text": [
      "[[1.2161834341245816, 0.6391019855595668, 0.15426245205749248, 0.7250664307640624], [1.0047837628624605, 0.7366071428571429, 0.12207700865107829, 0.8123386570870776]]\n",
      "Setting seed: 8\n",
      "[52, 26, 64, 1]\n"
     ]
    },
    {
     "name": "stderr",
     "output_type": "stream",
     "text": [
      "Loss: 0.183, train rmse: 1.035, val rmse: 1.277, test rmse: 1.295, top: [1.277 >= 1.263 [1.286, 0.314, 0.577, 0.885, 0.156]]: 100%|██████████| 100/100 [00:36<00:00,  2.75it/s]\n"
     ]
    },
    {
     "name": "stdout",
     "output_type": "stream",
     "text": [
      "[[1.286386282104525, 0.5774380069075246, 0.14635136854950462, 0.6977058680023025], [1.148538624673436, 0.6578317616774677, 0.13144751710744745, 0.759021594570058]]\n",
      "Setting seed: 9\n",
      "[52, 26, 64, 1]\n"
     ]
    },
    {
     "name": "stderr",
     "output_type": "stream",
     "text": [
      "Loss: 0.183, train rmse: 1.036, val rmse: 1.399, test rmse: 1.295, top: [1.399 >= 1.314 [1.397, 0.323, 0.563, 0.862, 0.169]]: 100%|██████████| 100/100 [00:34<00:00,  2.86it/s]\n"
     ]
    },
    {
     "name": "stdout",
     "output_type": "stream",
     "text": [
      "[[1.397195097289431, 0.5634655669023304, 0.16041476983485123, 0.5294020916025787], [1.2184867669841244, 0.6431330191149516, 0.1342142343948683, 0.6420869607994804]]\n"
     ]
    },
    {
     "name": "stderr",
     "output_type": "stream",
     "text": [
      "2198937 (954): 100%|██████████| 152/152 [00:23<00:00,  6.54it/s]\n"
     ]
    },
    {
     "name": "stdout",
     "output_type": "stream",
     "text": [
      "Number of features: 403\n",
      "Number of fields: 152\n",
      "Number of points (field 0): 1815\n",
      "Number of connections (field 0): 15375\n",
      "Setting seed: 0\n",
      "[403, 201, 64, 1]\n"
     ]
    },
    {
     "name": "stderr",
     "output_type": "stream",
     "text": [
      "Loss: 0.101, train rmse: 0.758, val rmse: 1.091, test rmse: 0.992, top: [1.091 >= 0.928 [0.879, 0.473, 0.78, 0.97, 0.106]]: 100%|██████████| 100/100 [00:46<00:00,  2.17it/s] \n"
     ]
    },
    {
     "name": "stdout",
     "output_type": "stream",
     "text": [
      "[[0.8786763938991086, 0.7798297685228808, 0.09606633463630897, 0.7959366464898796], [0.8135725923927313, 0.8276484814221552, 0.08593258333960047, 0.825055730703271]]\n",
      "Setting seed: 1\n",
      "[403, 201, 64, 1]\n"
     ]
    },
    {
     "name": "stderr",
     "output_type": "stream",
     "text": [
      "Loss: 0.089, train rmse: 0.733, val rmse: 1.047, test rmse: 0.815, top: [1.047 >= 0.969 [0.829, 0.487, 0.804, 0.976, 0.1]]: 100%|██████████| 100/100 [00:45<00:00,  2.18it/s] \n"
     ]
    },
    {
     "name": "stdout",
     "output_type": "stream",
     "text": [
      "[[0.8292020915243197, 0.8037214414697339, 0.10417547812775171, 0.8640508170308231], [0.6760793072772631, 0.8868964434325194, 0.077604303388759, 0.9096244170582288]]\n",
      "Setting seed: 2\n",
      "[403, 201, 64, 1]\n"
     ]
    },
    {
     "name": "stderr",
     "output_type": "stream",
     "text": [
      "Loss: 0.082, train rmse: 0.711, val rmse: 0.951, test rmse: 0.945, top: [0.951 >= 0.897 [0.98, 0.487, 0.753, 0.948, 0.119]]: 100%|██████████| 100/100 [00:45<00:00,  2.19it/s]\n"
     ]
    },
    {
     "name": "stdout",
     "output_type": "stream",
     "text": [
      "[[0.9797912332411325, 0.7532281426238097, 0.11335358318721583, 0.7840430035573018], [0.7742681397040075, 0.8419519861937194, 0.09218970384669864, 0.8651400613175451]]\n",
      "Setting seed: 3\n",
      "[403, 201, 64, 1]\n"
     ]
    },
    {
     "name": "stderr",
     "output_type": "stream",
     "text": [
      "Loss: 0.08, train rmse: 0.67, val rmse: 0.84, test rmse: 0.85, top: [0.84 >= 0.839 [0.871, 0.494, 0.792, 0.97, 0.106]]: 100%|██████████| 100/100 [00:46<00:00,  2.15it/s]     \n"
     ]
    },
    {
     "name": "stdout",
     "output_type": "stream",
     "text": [
      "[[0.8711741905034092, 0.79179991799918, 0.08136326731904363, 0.8122911529440171], [0.759880830297252, 0.8584993849938499, 0.06968458340990569, 0.8571876655199834]]\n",
      "Setting seed: 4\n",
      "[403, 201, 64, 1]\n"
     ]
    },
    {
     "name": "stderr",
     "output_type": "stream",
     "text": [
      "Loss: 0.081, train rmse: 0.689, val rmse: 0.988, test rmse: 0.998, top: [0.988 >= 0.929 [1.006, 0.432, 0.708, 0.944, 0.122]]: 100%|██████████| 100/100 [00:46<00:00,  2.15it/s]\n"
     ]
    },
    {
     "name": "stdout",
     "output_type": "stream",
     "text": [
      "[[1.005685307876159, 0.7079700932316261, 0.11106534453330827, 0.7737508147421787], [0.7958039083980991, 0.8233745005448602, 0.08554358276870151, 0.8583309608513542]]\n",
      "Setting seed: 5\n",
      "[403, 201, 64, 1]\n"
     ]
    },
    {
     "name": "stderr",
     "output_type": "stream",
     "text": [
      "Loss: 0.079, train rmse: 0.687, val rmse: 0.862, test rmse: 0.895, top: [0.862 >= 0.858 [0.89, 0.449, 0.759, 0.974, 0.108]]: 100%|██████████| 100/100 [00:45<00:00,  2.20it/s]\n"
     ]
    },
    {
     "name": "stdout",
     "output_type": "stream",
     "text": [
      "[[0.8902879268708372, 0.7588171503488015, 0.10083639271006135, 0.8511488277236516], [0.7874538255643657, 0.8257287603386044, 0.08795146930005676, 0.8835494656424758]]\n",
      "Setting seed: 6\n",
      "[403, 201, 64, 1]\n"
     ]
    },
    {
     "name": "stderr",
     "output_type": "stream",
     "text": [
      "Loss: 0.086, train rmse: 0.714, val rmse: 0.995, test rmse: 0.892, top: [0.995 >= 0.885 [0.873, 0.513, 0.795, 0.97, 0.106]]: 100%|██████████| 100/100 [00:44<00:00,  2.23it/s]\n"
     ]
    },
    {
     "name": "stdout",
     "output_type": "stream",
     "text": [
      "[[0.8729413104272518, 0.7952958528816432, 0.11615993650088584, 0.8805338790234081], [0.726676456819053, 0.8684941394297908, 0.09469014704866772, 0.9172140093616595]]\n",
      "Setting seed: 7\n",
      "[403, 201, 64, 1]\n"
     ]
    },
    {
     "name": "stderr",
     "output_type": "stream",
     "text": [
      "Loss: 0.089, train rmse: 0.724, val rmse: 1.026, test rmse: 0.87, top: [1.026 >= 0.974 [0.918, 0.496, 0.792, 0.954, 0.111]]: 100%|██████████| 100/100 [00:45<00:00,  2.19it/s]\n"
     ]
    },
    {
     "name": "stdout",
     "output_type": "stream",
     "text": [
      "[[0.9181123097969673, 0.7924348891181021, 0.09920262612732926, 0.843317236134305], [0.7491444145442788, 0.8557084837545126, 0.08004812031056231, 0.8956816534375509]]\n",
      "Setting seed: 8\n",
      "[403, 201, 64, 1]\n"
     ]
    },
    {
     "name": "stderr",
     "output_type": "stream",
     "text": [
      "Loss: 0.084, train rmse: 0.687, val rmse: 0.888, test rmse: 0.99, top: [0.888 >= 0.843 [0.894, 0.448, 0.78, 0.968, 0.108]]: 100%|██████████| 100/100 [00:46<00:00,  2.14it/s] \n"
     ]
    },
    {
     "name": "stdout",
     "output_type": "stream",
     "text": [
      "[[0.8944350904866285, 0.7797741472311692, 0.10297919421589484, 0.8538547936339804], [0.8041958786384926, 0.846081208687441, 0.0851820170848333, 0.8818562905023978]]\n",
      "Setting seed: 9\n",
      "[403, 201, 64, 1]\n"
     ]
    },
    {
     "name": "stderr",
     "output_type": "stream",
     "text": [
      "Loss: 0.105, train rmse: 0.749, val rmse: 0.943, test rmse: 0.874, top: [0.943 >= 0.836 [0.94, 0.451, 0.747, 0.965, 0.114]]: 100%|██████████| 100/100 [00:45<00:00,  2.19it/s]\n"
     ]
    },
    {
     "name": "stdout",
     "output_type": "stream",
     "text": [
      "[[0.9400829036417588, 0.7466777952343545, 0.10179609442390379, 0.7869565453652785], [0.7291980045515299, 0.8736743912018853, 0.07722206337885541, 0.8718180631420385]]\n"
     ]
    },
    {
     "name": "stderr",
     "output_type": "stream",
     "text": [
      "2198937 (954): 100%|██████████| 152/152 [00:23<00:00,  6.34it/s]\n"
     ]
    },
    {
     "name": "stdout",
     "output_type": "stream",
     "text": [
      "Number of features: 414\n",
      "Number of fields: 152\n",
      "Number of points (field 0): 1815\n",
      "Number of connections (field 0): 15375\n",
      "Setting seed: 0\n",
      "[414, 207, 64, 1]\n"
     ]
    },
    {
     "name": "stderr",
     "output_type": "stream",
     "text": [
      "Loss: 0.476, train rmse: 1.453, val rmse: 1.569, test rmse: 1.382, top: [1.569 >= 1.326 [1.376, 0.308, 0.579, 0.874, 0.167]]: 100%|██████████| 100/100 [00:46<00:00,  2.14it/s]\n"
     ]
    },
    {
     "name": "stdout",
     "output_type": "stream",
     "text": [
      "[[1.3763489474653476, 0.5791168064323629, 0.17529414960733897, 0.4993154254238048], [1.1520949535174085, 0.6738591036150633, 0.13183513275503828, 0.6491805607735424]]\n",
      "Setting seed: 1\n",
      "[414, 207, 64, 1]\n"
     ]
    },
    {
     "name": "stderr",
     "output_type": "stream",
     "text": [
      "Loss: 0.376, train rmse: 1.416, val rmse: 1.557, test rmse: 1.438, top: [1.557 >= 1.392 [1.454, 0.298, 0.57, 0.844, 0.176]]: 100%|██████████| 100/100 [00:46<00:00,  2.16it/s]\n"
     ]
    },
    {
     "name": "stdout",
     "output_type": "stream",
     "text": [
      "[[1.4543670976413443, 0.5702127659574469, 0.18179958778389257, 0.5817808587374391], [1.2332486445795219, 0.6364921096019471, 0.15098688394845572, 0.6992835970956837]]\n",
      "Setting seed: 2\n",
      "[414, 207, 64, 1]\n"
     ]
    },
    {
     "name": "stderr",
     "output_type": "stream",
     "text": [
      "Loss: 0.378, train rmse: 1.385, val rmse: 1.507, test rmse: 1.675, top: [1.507 >= 1.408 [1.624, 0.26, 0.488, 0.806, 0.197]]: 100%|██████████| 100/100 [00:46<00:00,  2.15it/s]\n"
     ]
    },
    {
     "name": "stdout",
     "output_type": "stream",
     "text": [
      "[[1.6236246757401636, 0.48767296372769575, 0.21725725907604812, 0.4069770972941552], [1.4159651956706136, 0.5496933649727265, 0.18884732294771808, 0.5489700960260036]]\n",
      "Setting seed: 3\n",
      "[414, 207, 64, 1]\n"
     ]
    },
    {
     "name": "stderr",
     "output_type": "stream",
     "text": [
      "Loss: 0.427, train rmse: 1.446, val rmse: 1.423, test rmse: 1.408, top: [1.423 >= 1.416 [1.38, 0.282, 0.544, 0.865, 0.167]]: 100%|██████████| 100/100 [00:47<00:00,  2.12it/s]\n"
     ]
    },
    {
     "name": "stdout",
     "output_type": "stream",
     "text": [
      "[[1.37952645351505, 0.5443050430504305, 0.14148522513880332, 0.529310178561537], [1.0894904395734286, 0.710520705207052, 0.10913708411622607, 0.7064232972838295]]\n",
      "Setting seed: 4\n",
      "[414, 207, 64, 1]\n"
     ]
    },
    {
     "name": "stderr",
     "output_type": "stream",
     "text": [
      "Loss: 0.391, train rmse: 1.358, val rmse: 1.59, test rmse: 1.735, top: [1.59 >= 1.365 [1.641, 0.274, 0.51, 0.778, 0.199]]: 100%|██████████| 100/100 [00:47<00:00,  2.10it/s]  \n"
     ]
    },
    {
     "name": "stdout",
     "output_type": "stream",
     "text": [
      "[[1.6408538107064627, 0.5101101828308512, 0.2009741843311333, 0.3977142431840992], [1.3089634317382877, 0.5785506719941882, 0.15763432719030565, 0.6167185148142089]]\n",
      "Setting seed: 5\n",
      "[414, 207, 64, 1]\n"
     ]
    },
    {
     "name": "stderr",
     "output_type": "stream",
     "text": [
      "Loss: 0.418, train rmse: 1.403, val rmse: 1.57, test rmse: 1.524, top: [1.57 >= 1.504 [1.6, 0.248, 0.483, 0.795, 0.194]]: 100%|██████████| 100/100 [00:46<00:00,  2.17it/s]   \n"
     ]
    },
    {
     "name": "stdout",
     "output_type": "stream",
     "text": [
      "[[1.600158531164302, 0.48327209750254924, 0.18575730340579388, 0.5191414816996762], [1.2459662745440785, 0.646132431251315, 0.14325058958342574, 0.7084561627679078]]\n",
      "Setting seed: 6\n",
      "[414, 207, 64, 1]\n"
     ]
    },
    {
     "name": "stderr",
     "output_type": "stream",
     "text": [
      "Loss: 0.38, train rmse: 1.345, val rmse: 1.374, test rmse: 1.692, top: [1.374 >= 1.345 [1.666, 0.287, 0.518, 0.789, 0.202]]: 100%|██████████| 100/100 [00:45<00:00,  2.21it/s]\n"
     ]
    },
    {
     "name": "stdout",
     "output_type": "stream",
     "text": [
      "[[1.665788903338058, 0.5178170748929093, 0.273443687986497, 0.5649746155251256], [1.2939557556199073, 0.6388256892250239, 0.18433297343359872, 0.7375095402603107]]\n",
      "Setting seed: 7\n",
      "[414, 207, 64, 1]\n"
     ]
    },
    {
     "name": "stderr",
     "output_type": "stream",
     "text": [
      "Loss: 0.423, train rmse: 1.501, val rmse: 1.831, test rmse: 1.435, top: [1.831 >= 1.452 [1.29, 0.308, 0.58, 0.892, 0.156]]: 100%|██████████| 100/100 [00:45<00:00,  2.17it/s] \n"
     ]
    },
    {
     "name": "stdout",
     "output_type": "stream",
     "text": [
      "[[1.2902292874685135, 0.5803571428571429, 0.17121903737953667, 0.6905693034170446], [1.0681724488415498, 0.7222472924187726, 0.12923333380246332, 0.7879138309687869]]\n",
      "Setting seed: 8\n",
      "[414, 207, 64, 1]\n"
     ]
    },
    {
     "name": "stderr",
     "output_type": "stream",
     "text": [
      "Loss: 0.433, train rmse: 1.485, val rmse: 1.304, test rmse: 1.349, top: [1.304 >= 1.242 [1.309, 0.311, 0.584, 0.887, 0.159]]: 100%|██████████| 100/100 [00:47<00:00,  2.11it/s]\n"
     ]
    },
    {
     "name": "stdout",
     "output_type": "stream",
     "text": [
      "[[1.309215873396551, 0.5843972732094118, 0.16954441389534758, 0.6868809857917598], [1.052896972435445, 0.7083834581603219, 0.12535716848261244, 0.7974843126264219]]\n",
      "Setting seed: 9\n",
      "[414, 207, 64, 1]\n"
     ]
    },
    {
     "name": "stderr",
     "output_type": "stream",
     "text": [
      "Loss: 0.428, train rmse: 1.438, val rmse: 1.703, test rmse: 1.571, top: [1.703 >= 1.553 [1.482, 0.281, 0.529, 0.845, 0.18]]: 100%|██████████| 100/100 [00:46<00:00,  2.17it/s]\n"
     ]
    },
    {
     "name": "stdout",
     "output_type": "stream",
     "text": [
      "[[1.4817066109256203, 0.5287215239591516, 0.18316027653162334, 0.4707506617621888], [1.1523530699022964, 0.6927860696517413, 0.13246564687426582, 0.679884271821222]]\n"
     ]
    },
    {
     "name": "stderr",
     "output_type": "stream",
     "text": [
      "2198937 (954): 100%|██████████| 152/152 [00:22<00:00,  6.64it/s]\n"
     ]
    },
    {
     "name": "stdout",
     "output_type": "stream",
     "text": [
      "Number of features: 22\n",
      "Number of fields: 152\n",
      "Number of points (field 0): 1815\n",
      "Number of connections (field 0): 15375\n",
      "Setting seed: 0\n",
      "[22, 11, 64, 1]\n"
     ]
    },
    {
     "name": "stderr",
     "output_type": "stream",
     "text": [
      "Loss: 0.491, train rmse: 1.969, val rmse: 2.258, test rmse: 1.953, top: [2.258 >= 2.18 [1.953, 0.225, 0.423, 0.71, 0.237]]: 100%|██████████| 100/100 [00:35<00:00,  2.80it/s]\n"
     ]
    },
    {
     "name": "stdout",
     "output_type": "stream",
     "text": [
      "[[1.953114266282417, 0.42312886711266057, 0.25295999408747366, -0.008236477556086363], [1.5528135661168454, 0.5345959358020038, 0.17801382815977168, 0.3626973349396414]]\n",
      "Setting seed: 1\n",
      "[22, 11, 64, 1]\n"
     ]
    },
    {
     "name": "stderr",
     "output_type": "stream",
     "text": [
      "Loss: 0.478, train rmse: 1.925, val rmse: 2.048, test rmse: 2.57, top: [2.048 >= 1.862 [2.467, 0.191, 0.366, 0.63, 0.299]]: 100%|██████████| 100/100 [00:35<00:00,  2.83it/s]\n"
     ]
    },
    {
     "name": "stdout",
     "output_type": "stream",
     "text": [
      "[[2.4665182152253338, 0.36581612624636883, 0.3807153605669396, -0.2028860222233626], [1.8528515441759787, 0.34774279657690194, 0.25292552239141664, 0.32120744278355173]]\n",
      "Setting seed: 2\n",
      "[22, 11, 64, 1]\n"
     ]
    },
    {
     "name": "stderr",
     "output_type": "stream",
     "text": [
      "Loss: 0.429, train rmse: 1.899, val rmse: 2.294, test rmse: 2.434, top: [2.294 >= 2.004 [2.267, 0.205, 0.38, 0.622, 0.275]]: 100%|██████████| 100/100 [00:35<00:00,  2.81it/s]\n"
     ]
    },
    {
     "name": "stdout",
     "output_type": "stream",
     "text": [
      "[[2.266926426016625, 0.3802890690005855, 0.335844351543457, -0.15604577393068886], [1.7897481110808369, 0.3998428302875281, 0.24362928432440692, 0.27941701071071245]]\n",
      "Setting seed: 3\n",
      "[22, 11, 64, 1]\n"
     ]
    },
    {
     "name": "stderr",
     "output_type": "stream",
     "text": [
      "Loss: 0.483, train rmse: 1.925, val rmse: 2.172, test rmse: 2.128, top: [2.172 >= 2.075 [2.066, 0.142, 0.302, 0.638, 0.25]]: 100%|██████████| 100/100 [00:36<00:00,  2.76it/s]\n"
     ]
    },
    {
     "name": "stdout",
     "output_type": "stream",
     "text": [
      "[[2.065617834473376, 0.30243542435424353, 0.23111270879489962, -0.05529696824244268], [1.4941962237989015, 0.5217384173841738, 0.1608713685580651, 0.4478081273867558]]\n",
      "Setting seed: 4\n",
      "[22, 11, 64, 1]\n"
     ]
    },
    {
     "name": "stderr",
     "output_type": "stream",
     "text": [
      "Loss: 0.497, train rmse: 1.986, val rmse: 1.946, test rmse: 2.142, top: [1.946 >= 1.643 [1.833, 0.206, 0.399, 0.703, 0.222]]: 100%|██████████| 100/100 [00:36<00:00,  2.72it/s]\n"
     ]
    },
    {
     "name": "stdout",
     "output_type": "stream",
     "text": [
      "[[1.8333583420461959, 0.3994278968398111, 0.2500271898468484, 0.24810442169321423], [1.3708164054514467, 0.5623864874682165, 0.15837972899103736, 0.579639984459329]]\n",
      "Setting seed: 5\n",
      "[22, 11, 64, 1]\n"
     ]
    },
    {
     "name": "stderr",
     "output_type": "stream",
     "text": [
      "Loss: 0.501, train rmse: 1.91, val rmse: 2.049, test rmse: 2.407, top: [2.049 >= 1.975 [2.444, 0.143, 0.285, 0.552, 0.296]]: 100%|██████████| 100/100 [00:35<00:00,  2.84it/s]\n"
     ]
    },
    {
     "name": "stdout",
     "output_type": "stream",
     "text": [
      "[[2.443767103683587, 0.2853697619086156, 0.29635706180553517, -0.12153006428893942], [1.8040038754935028, 0.4538303416797501, 0.22602162860517144, 0.3888240958162148]]\n",
      "Setting seed: 6\n",
      "[22, 11, 64, 1]\n"
     ]
    },
    {
     "name": "stderr",
     "output_type": "stream",
     "text": [
      "Loss: 0.428, train rmse: 1.82, val rmse: 2.207, test rmse: 2.393, top: [2.207 >= 2.146 [2.254, 0.2, 0.381, 0.676, 0.273]]: 100%|██████████| 100/100 [00:34<00:00,  2.91it/s]  \n"
     ]
    },
    {
     "name": "stdout",
     "output_type": "stream",
     "text": [
      "[[2.2541622613278993, 0.3807252357565392, 0.3666374608567573, 0.20339134722941365], [1.6619229255111367, 0.5166559445167972, 0.22812159029767481, 0.5669914940391454]]\n",
      "Setting seed: 7\n",
      "[22, 11, 64, 1]\n"
     ]
    },
    {
     "name": "stderr",
     "output_type": "stream",
     "text": [
      "Loss: 0.451, train rmse: 1.787, val rmse: 2.493, test rmse: 2.173, top: [2.493 >= 2.322 [2.039, 0.214, 0.401, 0.686, 0.247]]: 100%|██████████| 100/100 [00:35<00:00,  2.83it/s]\n"
     ]
    },
    {
     "name": "stdout",
     "output_type": "stream",
     "text": [
      "[[2.0388128836990544, 0.40083483754512633, 0.318812556122169, 0.22734727282460976], [1.4232614872169742, 0.5711223568849922, 0.1701533600057829, 0.6234705077884548]]\n",
      "Setting seed: 8\n",
      "[22, 11, 64, 1]\n"
     ]
    },
    {
     "name": "stderr",
     "output_type": "stream",
     "text": [
      "Loss: 0.453, train rmse: 1.77, val rmse: 2.192, test rmse: 2.641, top: [2.192 >= 2.025 [2.585, 0.138, 0.267, 0.497, 0.313]]: 100%|██████████| 100/100 [00:36<00:00,  2.73it/s]\n"
     ]
    },
    {
     "name": "stdout",
     "output_type": "stream",
     "text": [
      "[[2.585408965364059, 0.26698746555939307, 0.35420696070846275, -0.2210836538224843], [2.101137345088953, 0.37212671556262694, 0.2639744546604938, 0.1935159171798948]]\n",
      "Setting seed: 9\n",
      "[22, 11, 64, 1]\n"
     ]
    },
    {
     "name": "stderr",
     "output_type": "stream",
     "text": [
      "Loss: 0.482, train rmse: 1.963, val rmse: 2.195, test rmse: 2.328, top: [2.195 >= 1.911 [1.788, 0.267, 0.492, 0.766, 0.217]]: 100%|██████████| 100/100 [00:34<00:00,  2.86it/s]\n"
     ]
    },
    {
     "name": "stdout",
     "output_type": "stream",
     "text": [
      "[[1.788357382710023, 0.4924554857292485, 0.22293638316857411, 0.2290175179249201], [1.3529472795284363, 0.6332645980623199, 0.15276951137588593, 0.5587368774058523]]\n"
     ]
    }
   ],
   "source": [
    "config_present = {\n",
    "    'type': \"present\",\n",
    "    'filter_yield': True,\n",
    "    'filter_wheat': True,\n",
    "    'filter_years': False,\n",
    "    'filter_weeks': None,\n",
    "    'predictors': None,\n",
    "    'target': 'yield_1',\n",
    "    'dist_thresh': 200, \n",
    "    'sparsity_thresh': None,\n",
    "    'size_thresh': None,\n",
    "    'time_scheme': None,\n",
    "    'options': [gen_option(epochs=100, seed=seed) for seed in range(10)],\n",
    "    'df': df,\n",
    "    'correlation_filters': correlation_filters,\n",
    "}\n",
    "\n",
    "runs = [sen1+sen2+weather+soil, sen2+weather+soil, sen1+weather+soil, sen1+sen2+soil, sen1+sen2+weather, sen1+sen2, sen1+weather, sen1+soil, sen2+weather, sen2+soil, weather+soil, sen1, sen2, weather, soil]\n",
    "for i, predictors in enumerate(runs):\n",
    "    config_present['predictors'] = predictors\n",
    "    scores, model, data = test_run(config_present)\n",
    "    cropnet.save_score_to_json(scores, \"results_final/present_feature/score\" + str(i) + \".json\")"
   ]
  }
 ],
 "metadata": {
  "kernelspec": {
   "display_name": "Python 3",
   "language": "python",
   "name": "python3"
  },
  "language_info": {
   "codemirror_mode": {
    "name": "ipython",
    "version": 3
   },
   "file_extension": ".py",
   "mimetype": "text/x-python",
   "name": "python",
   "nbconvert_exporter": "python",
   "pygments_lexer": "ipython3",
   "version": "3.12.0"
  }
 },
 "nbformat": 4,
 "nbformat_minor": 2
}
